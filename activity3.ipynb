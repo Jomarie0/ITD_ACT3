{
 "cells": [
  {
   "cell_type": "markdown",
   "metadata": {},
   "source": [
    "<h1>Project: United Kingdom Road Accident Data Analysis</h1>\n",
    "<h3>Inclusive Years: 2019-2022</h3>\n",
    "<p>Analyst: Jomarie Roperez</p>"
   ]
  },
  {
   "cell_type": "markdown",
   "metadata": {},
   "source": [
    "<h1><strong>STEP 1:</strong> Import necessary libraries</h1>"
   ]
  },
  {
   "cell_type": "code",
   "execution_count": 1,
   "metadata": {},
   "outputs": [],
   "source": [
    "import pandas as pd\n",
    "import numpy as np\n",
    "from scipy.stats import f_oneway\n",
    "\n",
    "import matplotlib.pyplot as plt\n",
    "import seaborn as sns\n"
   ]
  },
  {
   "cell_type": "markdown",
   "metadata": {},
   "source": [
    "<h1><strong>STEP 1.1:</strong>Load dataset</h1>"
   ]
  },
  {
   "cell_type": "code",
   "execution_count": 2,
   "metadata": {},
   "outputs": [],
   "source": [
    "uk_accident_data = pd.read_csv('datasets\\\\accident_data.csv')"
   ]
  },
  {
   "cell_type": "code",
   "execution_count": null,
   "metadata": {},
   "outputs": [],
   "source": []
  },
  {
   "cell_type": "markdown",
   "metadata": {},
   "source": [
    "<h1><strong>STEP 1.2:</strong>Create a copy for EDA (Preserve the original dataset)</h1>"
   ]
  },
  {
   "cell_type": "code",
   "execution_count": 3,
   "metadata": {},
   "outputs": [],
   "source": [
    "eda_data = uk_accident_data.copy()\n"
   ]
  },
  {
   "cell_type": "code",
   "execution_count": 4,
   "metadata": {},
   "outputs": [
    {
     "data": {
      "text/html": [
       "<div>\n",
       "<style scoped>\n",
       "    .dataframe tbody tr th:only-of-type {\n",
       "        vertical-align: middle;\n",
       "    }\n",
       "\n",
       "    .dataframe tbody tr th {\n",
       "        vertical-align: top;\n",
       "    }\n",
       "\n",
       "    .dataframe thead th {\n",
       "        text-align: right;\n",
       "    }\n",
       "</style>\n",
       "<table border=\"1\" class=\"dataframe\">\n",
       "  <thead>\n",
       "    <tr style=\"text-align: right;\">\n",
       "      <th></th>\n",
       "      <th>Index</th>\n",
       "      <th>Accident_Severity</th>\n",
       "      <th>Accident Date</th>\n",
       "      <th>Latitude</th>\n",
       "      <th>Light_Conditions</th>\n",
       "      <th>District Area</th>\n",
       "      <th>Longitude</th>\n",
       "      <th>Number_of_Casualties</th>\n",
       "      <th>Number_of_Vehicles</th>\n",
       "      <th>Road_Surface_Conditions</th>\n",
       "      <th>Road_Type</th>\n",
       "      <th>Urban_or_Rural_Area</th>\n",
       "      <th>Weather_Conditions</th>\n",
       "      <th>Vehicle_Type</th>\n",
       "    </tr>\n",
       "  </thead>\n",
       "  <tbody>\n",
       "    <tr>\n",
       "      <th>0</th>\n",
       "      <td>200701BS64157</td>\n",
       "      <td>Serious</td>\n",
       "      <td>5/6/2019</td>\n",
       "      <td>51.506187</td>\n",
       "      <td>Darkness - lights lit</td>\n",
       "      <td>Kensington and Chelsea</td>\n",
       "      <td>-0.209082</td>\n",
       "      <td>1</td>\n",
       "      <td>2</td>\n",
       "      <td>Dry</td>\n",
       "      <td>Single carriageway</td>\n",
       "      <td>Urban</td>\n",
       "      <td>Fine no high winds</td>\n",
       "      <td>Car</td>\n",
       "    </tr>\n",
       "    <tr>\n",
       "      <th>1</th>\n",
       "      <td>200701BS65737</td>\n",
       "      <td>Serious</td>\n",
       "      <td>2/7/2019</td>\n",
       "      <td>51.495029</td>\n",
       "      <td>Daylight</td>\n",
       "      <td>Kensington and Chelsea</td>\n",
       "      <td>-0.173647</td>\n",
       "      <td>1</td>\n",
       "      <td>2</td>\n",
       "      <td>Wet or damp</td>\n",
       "      <td>Single carriageway</td>\n",
       "      <td>Urban</td>\n",
       "      <td>Raining no high winds</td>\n",
       "      <td>Car</td>\n",
       "    </tr>\n",
       "    <tr>\n",
       "      <th>2</th>\n",
       "      <td>200701BS66127</td>\n",
       "      <td>Serious</td>\n",
       "      <td>26-08-2019</td>\n",
       "      <td>51.517715</td>\n",
       "      <td>Darkness - lighting unknown</td>\n",
       "      <td>Kensington and Chelsea</td>\n",
       "      <td>-0.210215</td>\n",
       "      <td>1</td>\n",
       "      <td>3</td>\n",
       "      <td>Dry</td>\n",
       "      <td>NaN</td>\n",
       "      <td>Urban</td>\n",
       "      <td>NaN</td>\n",
       "      <td>Taxi/Private hire car</td>\n",
       "    </tr>\n",
       "    <tr>\n",
       "      <th>3</th>\n",
       "      <td>200701BS66128</td>\n",
       "      <td>Serious</td>\n",
       "      <td>16-08-2019</td>\n",
       "      <td>51.495478</td>\n",
       "      <td>Daylight</td>\n",
       "      <td>Kensington and Chelsea</td>\n",
       "      <td>-0.202731</td>\n",
       "      <td>1</td>\n",
       "      <td>4</td>\n",
       "      <td>Dry</td>\n",
       "      <td>Single carriageway</td>\n",
       "      <td>Urban</td>\n",
       "      <td>Fine no high winds</td>\n",
       "      <td>Bus or coach (17 or more pass seats)</td>\n",
       "    </tr>\n",
       "    <tr>\n",
       "      <th>4</th>\n",
       "      <td>200701BS66837</td>\n",
       "      <td>Slight</td>\n",
       "      <td>3/9/2019</td>\n",
       "      <td>51.488576</td>\n",
       "      <td>Darkness - lights lit</td>\n",
       "      <td>Kensington and Chelsea</td>\n",
       "      <td>-0.192487</td>\n",
       "      <td>1</td>\n",
       "      <td>2</td>\n",
       "      <td>Dry</td>\n",
       "      <td>NaN</td>\n",
       "      <td>Urban</td>\n",
       "      <td>NaN</td>\n",
       "      <td>Other vehicle</td>\n",
       "    </tr>\n",
       "    <tr>\n",
       "      <th>...</th>\n",
       "      <td>...</td>\n",
       "      <td>...</td>\n",
       "      <td>...</td>\n",
       "      <td>...</td>\n",
       "      <td>...</td>\n",
       "      <td>...</td>\n",
       "      <td>...</td>\n",
       "      <td>...</td>\n",
       "      <td>...</td>\n",
       "      <td>...</td>\n",
       "      <td>...</td>\n",
       "      <td>...</td>\n",
       "      <td>...</td>\n",
       "      <td>...</td>\n",
       "    </tr>\n",
       "    <tr>\n",
       "      <th>660674</th>\n",
       "      <td>201091NM01760</td>\n",
       "      <td>Slight</td>\n",
       "      <td>18-02-2022</td>\n",
       "      <td>57.374005</td>\n",
       "      <td>Daylight</td>\n",
       "      <td>Highland</td>\n",
       "      <td>-3.467828</td>\n",
       "      <td>2</td>\n",
       "      <td>1</td>\n",
       "      <td>Dry</td>\n",
       "      <td>Single carriageway</td>\n",
       "      <td>Rural</td>\n",
       "      <td>Fine no high winds</td>\n",
       "      <td>Car</td>\n",
       "    </tr>\n",
       "    <tr>\n",
       "      <th>660675</th>\n",
       "      <td>201091NM01881</td>\n",
       "      <td>Slight</td>\n",
       "      <td>21-02-2022</td>\n",
       "      <td>57.232273</td>\n",
       "      <td>Darkness - no lighting</td>\n",
       "      <td>Highland</td>\n",
       "      <td>-3.809281</td>\n",
       "      <td>1</td>\n",
       "      <td>1</td>\n",
       "      <td>Frost or ice</td>\n",
       "      <td>Single carriageway</td>\n",
       "      <td>Rural</td>\n",
       "      <td>Fine no high winds</td>\n",
       "      <td>Car</td>\n",
       "    </tr>\n",
       "    <tr>\n",
       "      <th>660676</th>\n",
       "      <td>201091NM01935</td>\n",
       "      <td>Slight</td>\n",
       "      <td>23-02-2022</td>\n",
       "      <td>57.585044</td>\n",
       "      <td>Daylight</td>\n",
       "      <td>Highland</td>\n",
       "      <td>-3.862727</td>\n",
       "      <td>1</td>\n",
       "      <td>3</td>\n",
       "      <td>Frost or ice</td>\n",
       "      <td>Single carriageway</td>\n",
       "      <td>Rural</td>\n",
       "      <td>Fine no high winds</td>\n",
       "      <td>Car</td>\n",
       "    </tr>\n",
       "    <tr>\n",
       "      <th>660677</th>\n",
       "      <td>201091NM01964</td>\n",
       "      <td>Serious</td>\n",
       "      <td>23-02-2022</td>\n",
       "      <td>57.214898</td>\n",
       "      <td>Darkness - no lighting</td>\n",
       "      <td>Highland</td>\n",
       "      <td>-3.823997</td>\n",
       "      <td>1</td>\n",
       "      <td>2</td>\n",
       "      <td>Wet or damp</td>\n",
       "      <td>Single carriageway</td>\n",
       "      <td>Rural</td>\n",
       "      <td>Fine no high winds</td>\n",
       "      <td>Motorcycle over 500cc</td>\n",
       "    </tr>\n",
       "    <tr>\n",
       "      <th>660678</th>\n",
       "      <td>201091NM02142</td>\n",
       "      <td>Serious</td>\n",
       "      <td>28-02-2022</td>\n",
       "      <td>57.575210</td>\n",
       "      <td>Daylight</td>\n",
       "      <td>Highland</td>\n",
       "      <td>-3.895673</td>\n",
       "      <td>1</td>\n",
       "      <td>1</td>\n",
       "      <td>Wet or damp</td>\n",
       "      <td>Dual carriageway</td>\n",
       "      <td>Rural</td>\n",
       "      <td>Snowing no high winds</td>\n",
       "      <td>Car</td>\n",
       "    </tr>\n",
       "  </tbody>\n",
       "</table>\n",
       "<p>660679 rows × 14 columns</p>\n",
       "</div>"
      ],
      "text/plain": [
       "                Index Accident_Severity Accident Date   Latitude  \\\n",
       "0       200701BS64157           Serious      5/6/2019  51.506187   \n",
       "1       200701BS65737           Serious      2/7/2019  51.495029   \n",
       "2       200701BS66127           Serious    26-08-2019  51.517715   \n",
       "3       200701BS66128           Serious    16-08-2019  51.495478   \n",
       "4       200701BS66837            Slight      3/9/2019  51.488576   \n",
       "...               ...               ...           ...        ...   \n",
       "660674  201091NM01760            Slight    18-02-2022  57.374005   \n",
       "660675  201091NM01881            Slight    21-02-2022  57.232273   \n",
       "660676  201091NM01935            Slight    23-02-2022  57.585044   \n",
       "660677  201091NM01964           Serious    23-02-2022  57.214898   \n",
       "660678  201091NM02142           Serious    28-02-2022  57.575210   \n",
       "\n",
       "                   Light_Conditions           District Area  Longitude  \\\n",
       "0             Darkness - lights lit  Kensington and Chelsea  -0.209082   \n",
       "1                          Daylight  Kensington and Chelsea  -0.173647   \n",
       "2       Darkness - lighting unknown  Kensington and Chelsea  -0.210215   \n",
       "3                          Daylight  Kensington and Chelsea  -0.202731   \n",
       "4             Darkness - lights lit  Kensington and Chelsea  -0.192487   \n",
       "...                             ...                     ...        ...   \n",
       "660674                     Daylight                Highland  -3.467828   \n",
       "660675       Darkness - no lighting                Highland  -3.809281   \n",
       "660676                     Daylight                Highland  -3.862727   \n",
       "660677       Darkness - no lighting                Highland  -3.823997   \n",
       "660678                     Daylight                Highland  -3.895673   \n",
       "\n",
       "        Number_of_Casualties  Number_of_Vehicles Road_Surface_Conditions  \\\n",
       "0                          1                   2                     Dry   \n",
       "1                          1                   2             Wet or damp   \n",
       "2                          1                   3                     Dry   \n",
       "3                          1                   4                     Dry   \n",
       "4                          1                   2                     Dry   \n",
       "...                      ...                 ...                     ...   \n",
       "660674                     2                   1                     Dry   \n",
       "660675                     1                   1            Frost or ice   \n",
       "660676                     1                   3            Frost or ice   \n",
       "660677                     1                   2             Wet or damp   \n",
       "660678                     1                   1             Wet or damp   \n",
       "\n",
       "                 Road_Type Urban_or_Rural_Area     Weather_Conditions  \\\n",
       "0       Single carriageway               Urban     Fine no high winds   \n",
       "1       Single carriageway               Urban  Raining no high winds   \n",
       "2                      NaN               Urban                    NaN   \n",
       "3       Single carriageway               Urban     Fine no high winds   \n",
       "4                      NaN               Urban                    NaN   \n",
       "...                    ...                 ...                    ...   \n",
       "660674  Single carriageway               Rural     Fine no high winds   \n",
       "660675  Single carriageway               Rural     Fine no high winds   \n",
       "660676  Single carriageway               Rural     Fine no high winds   \n",
       "660677  Single carriageway               Rural     Fine no high winds   \n",
       "660678    Dual carriageway               Rural  Snowing no high winds   \n",
       "\n",
       "                                Vehicle_Type  \n",
       "0                                        Car  \n",
       "1                                        Car  \n",
       "2                      Taxi/Private hire car  \n",
       "3       Bus or coach (17 or more pass seats)  \n",
       "4                              Other vehicle  \n",
       "...                                      ...  \n",
       "660674                                   Car  \n",
       "660675                                   Car  \n",
       "660676                                   Car  \n",
       "660677                 Motorcycle over 500cc  \n",
       "660678                                   Car  \n",
       "\n",
       "[660679 rows x 14 columns]"
      ]
     },
     "execution_count": 4,
     "metadata": {},
     "output_type": "execute_result"
    }
   ],
   "source": [
    "eda_data"
   ]
  },
  {
   "cell_type": "code",
   "execution_count": 5,
   "metadata": {},
   "outputs": [
    {
     "name": "stdout",
     "output_type": "stream",
     "text": [
      "<class 'pandas.core.frame.DataFrame'>\n",
      "RangeIndex: 660679 entries, 0 to 660678\n",
      "Data columns (total 14 columns):\n",
      " #   Column                   Non-Null Count   Dtype  \n",
      "---  ------                   --------------   -----  \n",
      " 0   Index                    660679 non-null  object \n",
      " 1   Accident_Severity        660679 non-null  object \n",
      " 2   Accident Date            660679 non-null  object \n",
      " 3   Latitude                 660654 non-null  float64\n",
      " 4   Light_Conditions         660679 non-null  object \n",
      " 5   District Area            660679 non-null  object \n",
      " 6   Longitude                660653 non-null  float64\n",
      " 7   Number_of_Casualties     660679 non-null  int64  \n",
      " 8   Number_of_Vehicles       660679 non-null  int64  \n",
      " 9   Road_Surface_Conditions  659953 non-null  object \n",
      " 10  Road_Type                656159 non-null  object \n",
      " 11  Urban_or_Rural_Area      660664 non-null  object \n",
      " 12  Weather_Conditions       646551 non-null  object \n",
      " 13  Vehicle_Type             660679 non-null  object \n",
      "dtypes: float64(2), int64(2), object(10)\n",
      "memory usage: 70.6+ MB\n"
     ]
    }
   ],
   "source": [
    "eda_data.info()"
   ]
  },
  {
   "cell_type": "code",
   "execution_count": 6,
   "metadata": {},
   "outputs": [
    {
     "data": {
      "text/html": [
       "<div>\n",
       "<style scoped>\n",
       "    .dataframe tbody tr th:only-of-type {\n",
       "        vertical-align: middle;\n",
       "    }\n",
       "\n",
       "    .dataframe tbody tr th {\n",
       "        vertical-align: top;\n",
       "    }\n",
       "\n",
       "    .dataframe thead th {\n",
       "        text-align: right;\n",
       "    }\n",
       "</style>\n",
       "<table border=\"1\" class=\"dataframe\">\n",
       "  <thead>\n",
       "    <tr style=\"text-align: right;\">\n",
       "      <th></th>\n",
       "      <th>count</th>\n",
       "      <th>mean</th>\n",
       "      <th>std</th>\n",
       "      <th>min</th>\n",
       "      <th>25%</th>\n",
       "      <th>50%</th>\n",
       "      <th>75%</th>\n",
       "      <th>max</th>\n",
       "    </tr>\n",
       "  </thead>\n",
       "  <tbody>\n",
       "    <tr>\n",
       "      <th>Latitude</th>\n",
       "      <td>660654.0</td>\n",
       "      <td>52.553866</td>\n",
       "      <td>1.406922</td>\n",
       "      <td>49.914430</td>\n",
       "      <td>51.490690</td>\n",
       "      <td>52.315641</td>\n",
       "      <td>53.453452</td>\n",
       "      <td>60.757544</td>\n",
       "    </tr>\n",
       "    <tr>\n",
       "      <th>Longitude</th>\n",
       "      <td>660653.0</td>\n",
       "      <td>-1.431210</td>\n",
       "      <td>1.383330</td>\n",
       "      <td>-7.516225</td>\n",
       "      <td>-2.332291</td>\n",
       "      <td>-1.411667</td>\n",
       "      <td>-0.232869</td>\n",
       "      <td>1.762010</td>\n",
       "    </tr>\n",
       "    <tr>\n",
       "      <th>Number_of_Casualties</th>\n",
       "      <td>660679.0</td>\n",
       "      <td>1.357040</td>\n",
       "      <td>0.824847</td>\n",
       "      <td>1.000000</td>\n",
       "      <td>1.000000</td>\n",
       "      <td>1.000000</td>\n",
       "      <td>1.000000</td>\n",
       "      <td>68.000000</td>\n",
       "    </tr>\n",
       "    <tr>\n",
       "      <th>Number_of_Vehicles</th>\n",
       "      <td>660679.0</td>\n",
       "      <td>1.831255</td>\n",
       "      <td>0.715269</td>\n",
       "      <td>1.000000</td>\n",
       "      <td>1.000000</td>\n",
       "      <td>2.000000</td>\n",
       "      <td>2.000000</td>\n",
       "      <td>32.000000</td>\n",
       "    </tr>\n",
       "  </tbody>\n",
       "</table>\n",
       "</div>"
      ],
      "text/plain": [
       "                         count       mean       std        min        25%  \\\n",
       "Latitude              660654.0  52.553866  1.406922  49.914430  51.490690   \n",
       "Longitude             660653.0  -1.431210  1.383330  -7.516225  -2.332291   \n",
       "Number_of_Casualties  660679.0   1.357040  0.824847   1.000000   1.000000   \n",
       "Number_of_Vehicles    660679.0   1.831255  0.715269   1.000000   1.000000   \n",
       "\n",
       "                            50%        75%        max  \n",
       "Latitude              52.315641  53.453452  60.757544  \n",
       "Longitude             -1.411667  -0.232869   1.762010  \n",
       "Number_of_Casualties   1.000000   1.000000  68.000000  \n",
       "Number_of_Vehicles     2.000000   2.000000  32.000000  "
      ]
     },
     "execution_count": 6,
     "metadata": {},
     "output_type": "execute_result"
    }
   ],
   "source": [
    "eda_data.describe().T"
   ]
  },
  {
   "cell_type": "markdown",
   "metadata": {},
   "source": [
    "<h1><strong>STEP 2:</strong> Check for Missing Values</h1>"
   ]
  },
  {
   "cell_type": "code",
   "execution_count": 7,
   "metadata": {},
   "outputs": [
    {
     "data": {
      "text/plain": [
       "Index                          0\n",
       "Accident_Severity              0\n",
       "Accident Date                  0\n",
       "Latitude                      25\n",
       "Light_Conditions               0\n",
       "District Area                  0\n",
       "Longitude                     26\n",
       "Number_of_Casualties           0\n",
       "Number_of_Vehicles             0\n",
       "Road_Surface_Conditions      726\n",
       "Road_Type                   4520\n",
       "Urban_or_Rural_Area           15\n",
       "Weather_Conditions         14128\n",
       "Vehicle_Type                   0\n",
       "dtype: int64"
      ]
     },
     "execution_count": 7,
     "metadata": {},
     "output_type": "execute_result"
    }
   ],
   "source": [
    "eda_data.isnull().sum()"
   ]
  },
  {
   "cell_type": "markdown",
   "metadata": {},
   "source": [
    "<h1><strong>STEP 3:</strong>Handle Missing Values(still in Progress)</h1>"
   ]
  },
  {
   "cell_type": "code",
   "execution_count": 8,
   "metadata": {},
   "outputs": [
    {
     "data": {
      "text/plain": [
       "Index                          0\n",
       "Accident_Severity              0\n",
       "Accident Date                  0\n",
       "Latitude                      25\n",
       "Light_Conditions               0\n",
       "District Area                  0\n",
       "Longitude                     26\n",
       "Number_of_Casualties           0\n",
       "Number_of_Vehicles             0\n",
       "Road_Surface_Conditions      726\n",
       "Road_Type                   4520\n",
       "Urban_or_Rural_Area           15\n",
       "Weather_Conditions         14128\n",
       "Vehicle_Type                   0\n",
       "dtype: int64"
      ]
     },
     "execution_count": 8,
     "metadata": {},
     "output_type": "execute_result"
    }
   ],
   "source": [
    "eda_data.isnull().sum()"
   ]
  },
  {
   "cell_type": "code",
   "execution_count": 9,
   "metadata": {},
   "outputs": [
    {
     "name": "stdout",
     "output_type": "stream",
     "text": [
      "<class 'pandas.core.frame.DataFrame'>\n",
      "RangeIndex: 660679 entries, 0 to 660678\n",
      "Data columns (total 14 columns):\n",
      " #   Column                   Non-Null Count   Dtype  \n",
      "---  ------                   --------------   -----  \n",
      " 0   Index                    660679 non-null  object \n",
      " 1   Accident_Severity        660679 non-null  object \n",
      " 2   Accident Date            660679 non-null  object \n",
      " 3   Latitude                 660654 non-null  float64\n",
      " 4   Light_Conditions         660679 non-null  object \n",
      " 5   District Area            660679 non-null  object \n",
      " 6   Longitude                660653 non-null  float64\n",
      " 7   Number_of_Casualties     660679 non-null  int64  \n",
      " 8   Number_of_Vehicles       660679 non-null  int64  \n",
      " 9   Road_Surface_Conditions  659953 non-null  object \n",
      " 10  Road_Type                656159 non-null  object \n",
      " 11  Urban_or_Rural_Area      660664 non-null  object \n",
      " 12  Weather_Conditions       646551 non-null  object \n",
      " 13  Vehicle_Type             660679 non-null  object \n",
      "dtypes: float64(2), int64(2), object(10)\n",
      "memory usage: 70.6+ MB\n"
     ]
    }
   ],
   "source": [
    "eda_data.info()"
   ]
  },
  {
   "cell_type": "code",
   "execution_count": null,
   "metadata": {},
   "outputs": [],
   "source": []
  },
  {
   "cell_type": "code",
   "execution_count": 10,
   "metadata": {},
   "outputs": [],
   "source": [
    "eda_data['Road_Surface_Conditions'] = eda_data['Road_Surface_Conditions'].fillna('Unknown road condition')\n",
    "\n",
    "eda_data['Latitude'] = eda_data['Latitude'].fillna(eda_data['Latitude'].mode()[0])\n",
    "eda_data['Longitude'] = eda_data['Longitude'].fillna(eda_data['Longitude'].mode()[0])\n",
    "eda_data['Urban_or_Rural_Area'] = eda_data['Urban_or_Rural_Area'].fillna(eda_data['Urban_or_Rural_Area'].mode()[0])\n",
    "\n",
    "\n",
    "eda_data['Road_Type'] = eda_data['Road_Type'].fillna('Unaccounted')\n",
    "eda_data['Weather_Conditions'] = eda_data['Weather_Conditions'].fillna('Unaccounted')\n"
   ]
  },
  {
   "cell_type": "code",
   "execution_count": 11,
   "metadata": {},
   "outputs": [
    {
     "data": {
      "text/plain": [
       "Index                      0\n",
       "Accident_Severity          0\n",
       "Accident Date              0\n",
       "Latitude                   0\n",
       "Light_Conditions           0\n",
       "District Area              0\n",
       "Longitude                  0\n",
       "Number_of_Casualties       0\n",
       "Number_of_Vehicles         0\n",
       "Road_Surface_Conditions    0\n",
       "Road_Type                  0\n",
       "Urban_or_Rural_Area        0\n",
       "Weather_Conditions         0\n",
       "Vehicle_Type               0\n",
       "dtype: int64"
      ]
     },
     "execution_count": 11,
     "metadata": {},
     "output_type": "execute_result"
    }
   ],
   "source": [
    "eda_data.isnull().sum()"
   ]
  },
  {
   "cell_type": "markdown",
   "metadata": {},
   "source": [
    "<h1><strong>STEP 4:</strong> Exploring Categorical Columns</h1>"
   ]
  },
  {
   "cell_type": "code",
   "execution_count": 12,
   "metadata": {},
   "outputs": [],
   "source": [
    "# # for object type\n",
    "# categorical_columns = eda_data.select_dtypes(include=['object']).columns\n",
    "# categorical_columns\n"
   ]
  },
  {
   "cell_type": "code",
   "execution_count": 13,
   "metadata": {},
   "outputs": [],
   "source": [
    "# # unique values for each categorical column\n",
    "# for col in categorical_columns:\n",
    "#     print(f\"Unique values in '{col}':\\n\", eda_data[col].unique(), \"\\n\")\n"
   ]
  },
  {
   "cell_type": "code",
   "execution_count": 14,
   "metadata": {},
   "outputs": [],
   "source": [
    "# # Count unique values for each categorical column\n",
    "# for col in categorical_columns:\n",
    "#     print(f\"Value counts for '{col}':\\n\", eda_data[col].value_counts(), \"\\n\")\n"
   ]
  },
  {
   "cell_type": "code",
   "execution_count": 15,
   "metadata": {},
   "outputs": [
    {
     "data": {
      "text/plain": [
       "Index                       object\n",
       "Accident_Severity           object\n",
       "Accident Date               object\n",
       "Latitude                   float64\n",
       "Light_Conditions            object\n",
       "District Area               object\n",
       "Longitude                  float64\n",
       "Number_of_Casualties         int64\n",
       "Number_of_Vehicles           int64\n",
       "Road_Surface_Conditions     object\n",
       "Road_Type                   object\n",
       "Urban_or_Rural_Area         object\n",
       "Weather_Conditions          object\n",
       "Vehicle_Type                object\n",
       "dtype: object"
      ]
     },
     "execution_count": 15,
     "metadata": {},
     "output_type": "execute_result"
    }
   ],
   "source": [
    "eda_data.dtypes"
   ]
  },
  {
   "cell_type": "markdown",
   "metadata": {},
   "source": [
    "<h1><strong>STEP 5:</strong>Data Type Conversion</h1>"
   ]
  },
  {
   "cell_type": "code",
   "execution_count": 16,
   "metadata": {},
   "outputs": [],
   "source": [
    "# eda_data['Accident Date'] = pd.to_datetime(\n",
    "#     eda_data['Accident Date'], \n",
    "#     dayfirst=True, \n",
    "#     errors='coerce'\n",
    "#     )"
   ]
  },
  {
   "cell_type": "code",
   "execution_count": 17,
   "metadata": {},
   "outputs": [],
   "source": [
    "# eda_data.isnull().sum()"
   ]
  },
  {
   "cell_type": "code",
   "execution_count": 18,
   "metadata": {},
   "outputs": [
    {
     "data": {
      "text/plain": [
       "array(['5/6/2019', '2/7/2019', '26-08-2019', ..., '26-12-2022',\n",
       "       '25-07-2022', '25-12-2022'], dtype=object)"
      ]
     },
     "execution_count": 18,
     "metadata": {},
     "output_type": "execute_result"
    }
   ],
   "source": [
    "eda_data['Accident Date'].unique()"
   ]
  },
  {
   "cell_type": "code",
   "execution_count": 19,
   "metadata": {},
   "outputs": [
    {
     "data": {
      "text/plain": [
       "Index                       object\n",
       "Accident_Severity           object\n",
       "Accident Date               object\n",
       "Latitude                   float64\n",
       "Light_Conditions            object\n",
       "District Area               object\n",
       "Longitude                  float64\n",
       "Number_of_Casualties         int64\n",
       "Number_of_Vehicles           int64\n",
       "Road_Surface_Conditions     object\n",
       "Road_Type                   object\n",
       "Urban_or_Rural_Area         object\n",
       "Weather_Conditions          object\n",
       "Vehicle_Type                object\n",
       "dtype: object"
      ]
     },
     "execution_count": 19,
     "metadata": {},
     "output_type": "execute_result"
    }
   ],
   "source": [
    "eda_data['Accident Date'] = eda_data['Accident Date'].astype('str')\n",
    "eda_data.dtypes"
   ]
  },
  {
   "cell_type": "code",
   "execution_count": 20,
   "metadata": {},
   "outputs": [],
   "source": [
    "eda_data['Accident Date'] = eda_data['Accident Date'].str.strip()"
   ]
  },
  {
   "cell_type": "code",
   "execution_count": 21,
   "metadata": {},
   "outputs": [],
   "source": [
    "eda_data['Accident Date'] = eda_data['Accident Date'].str.replace('/','-')"
   ]
  },
  {
   "cell_type": "code",
   "execution_count": 22,
   "metadata": {},
   "outputs": [],
   "source": [
    "eda_data['Accident Date'] = pd.to_datetime(\n",
    "    eda_data['Accident Date'], \n",
    "    dayfirst=True, \n",
    "    errors='coerce'\n",
    "    )"
   ]
  },
  {
   "cell_type": "code",
   "execution_count": 23,
   "metadata": {},
   "outputs": [
    {
     "data": {
      "text/plain": [
       "Index                      0\n",
       "Accident_Severity          0\n",
       "Accident Date              0\n",
       "Latitude                   0\n",
       "Light_Conditions           0\n",
       "District Area              0\n",
       "Longitude                  0\n",
       "Number_of_Casualties       0\n",
       "Number_of_Vehicles         0\n",
       "Road_Surface_Conditions    0\n",
       "Road_Type                  0\n",
       "Urban_or_Rural_Area        0\n",
       "Weather_Conditions         0\n",
       "Vehicle_Type               0\n",
       "dtype: int64"
      ]
     },
     "execution_count": 23,
     "metadata": {},
     "output_type": "execute_result"
    }
   ],
   "source": [
    "eda_data.isnull().sum()"
   ]
  },
  {
   "cell_type": "markdown",
   "metadata": {},
   "source": [
    "<h1><strong>STEP 6:</strong>Categorization of columns</h1>"
   ]
  },
  {
   "cell_type": "code",
   "execution_count": 24,
   "metadata": {},
   "outputs": [],
   "source": [
    "# category_columns = [\n",
    "#     \"Index\",\n",
    "#     \"Accident_Severity\",\n",
    "#     \"Light_Conditions\",\n",
    "#     \"Weather_Conditions\",\n",
    "#     \"Road_Surface_Conditions\",\n",
    "#     \"Road_Type\",\n",
    "#     \"Urban_or_Rural_Area\",\n",
    "#     \"Vehicle_Type\"\n",
    "# ]\n",
    "# eda_data[category_columns] = eda_data[category_columns].astype('category')\n"
   ]
  },
  {
   "cell_type": "code",
   "execution_count": null,
   "metadata": {},
   "outputs": [],
   "source": []
  },
  {
   "cell_type": "code",
   "execution_count": 25,
   "metadata": {},
   "outputs": [
    {
     "data": {
      "text/plain": [
       "Index                              object\n",
       "Accident_Severity                  object\n",
       "Accident Date              datetime64[ns]\n",
       "Latitude                          float64\n",
       "Light_Conditions                   object\n",
       "District Area                      object\n",
       "Longitude                         float64\n",
       "Number_of_Casualties                int64\n",
       "Number_of_Vehicles                  int64\n",
       "Road_Surface_Conditions            object\n",
       "Road_Type                          object\n",
       "Urban_or_Rural_Area                object\n",
       "Weather_Conditions                 object\n",
       "Vehicle_Type                       object\n",
       "dtype: object"
      ]
     },
     "execution_count": 25,
     "metadata": {},
     "output_type": "execute_result"
    }
   ],
   "source": [
    "eda_data.dtypes"
   ]
  },
  {
   "cell_type": "markdown",
   "metadata": {},
   "source": [
    "<h1>Accidents</h1>"
   ]
  },
  {
   "cell_type": "code",
   "execution_count": 26,
   "metadata": {},
   "outputs": [],
   "source": [
    "eda_data['Year'] =  eda_data['Accident Date'].dt.year"
   ]
  },
  {
   "cell_type": "code",
   "execution_count": 27,
   "metadata": {},
   "outputs": [
    {
     "data": {
      "text/plain": [
       "Year\n",
       "2019    182115\n",
       "2020    170591\n",
       "2021    163554\n",
       "2022    144419\n",
       "Name: count, dtype: int64"
      ]
     },
     "execution_count": 27,
     "metadata": {},
     "output_type": "execute_result"
    }
   ],
   "source": [
    "eda_data['Year'].value_counts()"
   ]
  },
  {
   "cell_type": "code",
   "execution_count": 28,
   "metadata": {},
   "outputs": [],
   "source": [
    "eda_data['Month'] =  eda_data['Accident Date'].dt.month"
   ]
  },
  {
   "cell_type": "code",
   "execution_count": 29,
   "metadata": {},
   "outputs": [
    {
     "data": {
      "text/plain": [
       "Month\n",
       "11    60424\n",
       "10    59580\n",
       "7     57445\n",
       "6     56481\n",
       "9     56455\n",
       "5     56352\n",
       "3     54086\n",
       "8     53913\n",
       "1     52872\n",
       "12    51836\n",
       "4     51744\n",
       "2     49491\n",
       "Name: count, dtype: int64"
      ]
     },
     "execution_count": 29,
     "metadata": {},
     "output_type": "execute_result"
    }
   ],
   "source": [
    "eda_data['Month'].value_counts()"
   ]
  },
  {
   "cell_type": "code",
   "execution_count": 30,
   "metadata": {},
   "outputs": [],
   "source": [
    "eda_data['Day'] =  eda_data['Accident Date'].dt.day"
   ]
  },
  {
   "cell_type": "code",
   "execution_count": 31,
   "metadata": {},
   "outputs": [
    {
     "data": {
      "text/plain": [
       "Day\n",
       "1     22606\n",
       "12    22536\n",
       "11    22503\n",
       "5     22409\n",
       "10    22328\n",
       "Name: count, dtype: int64"
      ]
     },
     "execution_count": 31,
     "metadata": {},
     "output_type": "execute_result"
    }
   ],
   "source": [
    "eda_data['Day'].value_counts().head(5)"
   ]
  },
  {
   "cell_type": "code",
   "execution_count": 32,
   "metadata": {},
   "outputs": [
    {
     "data": {
      "text/plain": [
       "Index(['Index', 'Accident_Severity', 'Accident Date', 'Latitude',\n",
       "       'Light_Conditions', 'District Area', 'Longitude',\n",
       "       'Number_of_Casualties', 'Number_of_Vehicles', 'Road_Surface_Conditions',\n",
       "       'Road_Type', 'Urban_or_Rural_Area', 'Weather_Conditions',\n",
       "       'Vehicle_Type', 'Year', 'Month', 'Day'],\n",
       "      dtype='object')"
      ]
     },
     "execution_count": 32,
     "metadata": {},
     "output_type": "execute_result"
    }
   ],
   "source": [
    "eda_data.columns\n"
   ]
  },
  {
   "cell_type": "code",
   "execution_count": 33,
   "metadata": {},
   "outputs": [
    {
     "name": "stdout",
     "output_type": "stream",
     "text": [
      "<class 'pandas.core.frame.DataFrame'>\n",
      "RangeIndex: 660679 entries, 0 to 660678\n",
      "Data columns (total 17 columns):\n",
      " #   Column                   Non-Null Count   Dtype         \n",
      "---  ------                   --------------   -----         \n",
      " 0   Index                    660679 non-null  object        \n",
      " 1   Accident_Severity        660679 non-null  object        \n",
      " 2   Accident Date            660679 non-null  datetime64[ns]\n",
      " 3   Latitude                 660679 non-null  float64       \n",
      " 4   Light_Conditions         660679 non-null  object        \n",
      " 5   District Area            660679 non-null  object        \n",
      " 6   Longitude                660679 non-null  float64       \n",
      " 7   Number_of_Casualties     660679 non-null  int64         \n",
      " 8   Number_of_Vehicles       660679 non-null  int64         \n",
      " 9   Road_Surface_Conditions  660679 non-null  object        \n",
      " 10  Road_Type                660679 non-null  object        \n",
      " 11  Urban_or_Rural_Area      660679 non-null  object        \n",
      " 12  Weather_Conditions       660679 non-null  object        \n",
      " 13  Vehicle_Type             660679 non-null  object        \n",
      " 14  Year                     660679 non-null  int32         \n",
      " 15  Month                    660679 non-null  int32         \n",
      " 16  Day                      660679 non-null  int32         \n",
      "dtypes: datetime64[ns](1), float64(2), int32(3), int64(2), object(9)\n",
      "memory usage: 78.1+ MB\n"
     ]
    }
   ],
   "source": [
    "eda_data.info()"
   ]
  },
  {
   "cell_type": "code",
   "execution_count": 34,
   "metadata": {},
   "outputs": [
    {
     "data": {
      "text/plain": [
       "Index(['Index', 'Accident_Severity', 'Light_Conditions', 'District Area',\n",
       "       'Road_Surface_Conditions', 'Road_Type', 'Urban_or_Rural_Area',\n",
       "       'Weather_Conditions', 'Vehicle_Type'],\n",
       "      dtype='object')"
      ]
     },
     "execution_count": 34,
     "metadata": {},
     "output_type": "execute_result"
    }
   ],
   "source": [
    "#finding Categories\n",
    "\n",
    "eda_data.select_dtypes(include=['object']).columns"
   ]
  },
  {
   "cell_type": "code",
   "execution_count": 35,
   "metadata": {},
   "outputs": [
    {
     "data": {
      "text/plain": [
       "array(['Serious', 'Slight', 'Fatal'], dtype=object)"
      ]
     },
     "execution_count": 35,
     "metadata": {},
     "output_type": "execute_result"
    }
   ],
   "source": [
    "eda_data['Accident_Severity'].unique()"
   ]
  },
  {
   "cell_type": "code",
   "execution_count": 36,
   "metadata": {},
   "outputs": [],
   "source": [
    "cat_cols = ['Index', 'Accident_Severity', 'Light_Conditions', 'District Area',\n",
    "       'Road_Surface_Conditions', 'Road_Type', 'Urban_or_Rural_Area',\n",
    "       'Weather_Conditions', 'Vehicle_Type']\n"
   ]
  },
  {
   "cell_type": "code",
   "execution_count": 37,
   "metadata": {},
   "outputs": [
    {
     "name": "stdout",
     "output_type": "stream",
     "text": [
      "Column: Index\n",
      "['200701BS64157' '200701BS65737' '200701BS66127' ... '201091NM01935'\n",
      " '201091NM01964' '201091NM02142']\n",
      "\n",
      " ==================================================================================================== \n",
      "\n",
      "Column: Accident_Severity\n",
      "['Serious' 'Slight' 'Fatal']\n",
      "\n",
      " ==================================================================================================== \n",
      "\n",
      "Column: Light_Conditions\n",
      "['Darkness - lights lit' 'Daylight' 'Darkness - lighting unknown'\n",
      " 'Darkness - lights unlit' 'Darkness - no lighting']\n",
      "\n",
      " ==================================================================================================== \n",
      "\n",
      "Column: District Area\n",
      "['Kensington and Chelsea' 'Westminster' 'Richmond upon Thames'\n",
      " 'Hammersmith and Fulham' 'Hounslow' 'Tower Hamlets' 'City of London'\n",
      " 'Southwark' 'Camden' 'Hackney' 'Islington' 'Barnet' 'Brent' 'Haringey'\n",
      " 'Merton' 'Ealing' 'Enfield' 'Greenwich' 'Newham'\n",
      " 'London Airport (Heathrow)' 'Hillingdon' 'Waltham Forest' 'Redbridge'\n",
      " 'Barking and Dagenham' 'Bromley' 'Havering' 'Croydon' 'Lambeth'\n",
      " 'Wandsworth' 'Sutton' 'Bexley' 'Lewisham' 'Harrow' 'Kingston upon Thames'\n",
      " 'Barrow-in-Furness' 'South Lakeland' 'Carlisle' 'Eden' 'Allerdale'\n",
      " 'Copeland' 'Fylde' 'Blackpool' 'Wyre' 'Lancaster' 'Chorley'\n",
      " 'West Lancashire' 'South Ribble' 'Preston' 'Blackburn with Darwen'\n",
      " 'Hyndburn' 'Ribble Valley' 'Burnley' 'Pendle' 'Rossendale' 'Wirral'\n",
      " 'Liverpool' 'Sefton' 'Knowsley' 'St. Helens' 'Manchester' 'Salford'\n",
      " 'Tameside' 'Stockport' 'Bolton' 'Wigan' 'Trafford' 'Bury' 'Rochdale'\n",
      " 'Oldham' 'Chester' 'Vale Royal' 'Halton' 'Warrington' 'Crewe and ntwich'\n",
      " 'Ellesmere Port and Neston' 'Congleton' 'Macclesfield'\n",
      " 'Crewe and Nantwich' 'Blyth Valley' 'Sunderland' 'Gateshead'\n",
      " 'North Tyneside' 'Tynedale' 'Berwick-upon-Tweed' 'Newcastle upon Tyne'\n",
      " 'Castle Morpeth' 'South Tyneside' 'Wansbeck' 'Alnwick' 'Wear Valley'\n",
      " 'Sedgefield' 'Durham' 'Easington' 'Chester-le-Street' 'Derwentside'\n",
      " 'Teesdale' 'Darlington' 'Craven' 'Hambleton' 'Richmondshire' 'York'\n",
      " 'Harrogate' 'Selby' 'Scarborough' 'Ryedale' 'Kirklees' 'Leeds'\n",
      " 'Wakefield' 'Bradford' 'Calderdale' 'Doncaster' 'Barnsley' 'Sheffield'\n",
      " 'Rotherham' 'North East Lincolnshire' 'North Lincolnshire'\n",
      " 'East Riding of Yorkshire' 'Kingston upon Hull, City of'\n",
      " 'Redcar and Cleveland' 'Hartlepool' 'Middlesbrough' 'Stockton-on-Tees'\n",
      " 'Birmingham' 'Wolverhampton' 'Walsall' 'Dudley' 'Sandwell' 'Solihull'\n",
      " 'Coventry' 'Newcastle-under-Lyme' 'Stafford' 'East Staffordshire'\n",
      " 'South Staffordshire' 'Lichfield' 'Stoke-on-Trent' 'Cannock Chase'\n",
      " 'Tamworth' 'Staffordshire Moorlands' 'Malvern Hills' 'Worcester'\n",
      " 'Wychavon' 'Wyre Forest' 'Redditch' 'Bromsgrove'\n",
      " 'Herefordshire, County of' 'Telford and Wrekin' 'South Shropshire'\n",
      " 'Bridgnorth' 'Shrewsbury and Atcham' 'North Shropshire' 'Oswestry'\n",
      " 'Warwick' 'Stratford-upon-Avon' 'Rugby' 'North Warwickshire'\n",
      " 'Nuneaton and Bedworth' 'Amber Valley' 'Erewash' 'Bolsover' 'High Peak'\n",
      " 'Derbyshire Dales' 'North East Derbyshire' 'Chesterfield' 'Derby'\n",
      " 'South Derbyshire' 'Ashfield' 'Mansfield' 'Newark and Sherwood'\n",
      " 'Bassetlaw' 'Gedling' 'Rushcliffe' 'Nottingham' 'Broxtowe'\n",
      " 'South Holland' 'South Kesteven' 'North Kesteven' 'East Lindsey' 'Boston'\n",
      " 'West Lindsey' 'Lincoln' 'Hinckley and Bosworth' 'Harborough' 'Leicester'\n",
      " 'Rutland' 'Charnwood' 'Melton' 'North West Leicestershire' 'Blaby'\n",
      " 'Oadby and Wigston' 'South Northamptonshire' 'Northampton' 'Kettering'\n",
      " 'Corby' 'Daventry' 'East Northamptonshire' 'Wellingborough'\n",
      " 'South Cambridgeshire' 'Fenland' 'Huntingdonshire' 'Peterborough'\n",
      " 'East Cambridgeshire' 'Cambridge' \"King's Lynn and West Norfolk\"\n",
      " 'Norwich' 'Breckland' 'South Norfolk' 'Broadland' 'Great Yarmouth'\n",
      " 'North Norfolk' 'St. Edmundsbury' 'Babergh' 'Mid Suffolk' 'Forest Heath'\n",
      " 'Suffolk Coastal' 'Ipswich' 'Waveney' 'Luton' 'Mid Bedfordshire'\n",
      " 'Bedford' 'South Bedfordshire' 'East Hertfordshire' 'North Hertfordshire'\n",
      " 'Welwyn Hatfield' 'St. Albans' 'Hertsmere' 'Three Rivers' 'Watford'\n",
      " 'Dacorum' 'Broxbourne' 'Stevege' 'Stevenage' 'Epping Forest' 'Brentwood'\n",
      " 'Castle Point' 'Uttlesford' 'Chelmsford' 'Basildon' 'Tendring'\n",
      " 'Colchester' 'Thurrock' 'Braintree' 'Rochford' 'Maldon' 'Southend-on-Sea'\n",
      " 'Harlow' 'Aylesbury Vale' 'Wycombe' 'South Bucks' 'Chiltern' 'Slough'\n",
      " 'Windsor and Maidenhead' 'South Oxfordshire' 'Milton Keynes' 'Cherwell'\n",
      " 'Vale of White Horse' 'West Oxfordshire' 'Oxford' 'Reading'\n",
      " 'West Berkshire' 'Wokingham' 'Bracknell Forest' 'Eastleigh' 'Test Valley'\n",
      " 'Portsmouth' 'Winchester' 'Basingstoke and Deane' 'Southampton' 'Fareham'\n",
      " 'Hart' 'Gosport' 'Havant' 'Isle of Wight' 'East Hampshire' 'Rushmoor'\n",
      " 'New Forest' 'Elmbridge' 'Mole Valley' 'Guildford' 'Spelthorne'\n",
      " 'Epsom and Ewell' 'Runnymede' 'Woking' 'Reigate and Banstead'\n",
      " 'Surrey Heath' 'Waverley' 'Tandridge' 'Medway' 'Thanet' 'Shepway'\n",
      " 'Ashford' 'Maidstone' 'Dover' 'Tunbridge Wells' 'Canterbury'\n",
      " 'Tonbridge and Malling' 'Swale' 'Dartford' 'Sevenoaks' 'Gravesham'\n",
      " 'Brighton and Hove' 'Chichester' 'Rother' 'Lewes' 'Wealden' 'Eastbourne'\n",
      " 'Hastings' 'Crawley' 'Horsham' 'Mid Sussex' 'Arun' 'Adur' 'Worthing'\n",
      " 'Kerrier' 'Restormel' 'Carrick' 'Penwith' 'North Cornwall' 'West Devon'\n",
      " 'Torridge' 'Caradon' 'North Devon' 'Mid Devon' 'Exeter' 'East Devon'\n",
      " 'Teignbridge' 'Plymouth' 'South Hams' 'Torbay' 'Bristol, City of'\n",
      " 'South Somerset' 'Sedgemoor' 'Mendip' 'Taunton Deane'\n",
      " 'South Gloucestershire' 'North Somerset' 'Bath and North East Somerset'\n",
      " 'West Somerset' 'Stroud' 'Tewkesbury' 'Gloucester' 'Cotswold'\n",
      " 'Cheltenham' 'Forest of Dean' 'Salisbury' 'Kennet' 'West Wiltshire'\n",
      " 'North Wiltshire' 'Swindon' 'Bournemouth' 'Poole' 'East Dorset'\n",
      " 'West Dorset' 'Weymouth and Portland' 'Christchurch' 'Purbeck'\n",
      " 'North Dorset' 'Isle of Anglesey' 'Conwy' 'Denbighshire' 'Flintshire'\n",
      " 'Wrexham' 'Gwynedd' 'Monmouthshire' 'Newport' 'Caerphilly' 'Torfaen'\n",
      " 'Blaeu Gwent' 'Blaenau Gwent' 'Merthyr Tydfil' 'The Vale of Glamorgan'\n",
      " 'Cardiff' 'Rhondda, Cynon, Taff' 'Swansea' 'Bridgend' 'Neath Port Talbot'\n",
      " 'Carmarthenshire' 'Ceredigion' 'Pembrokeshire' 'Powys' 'Highland'\n",
      " 'Western Isles' 'Orkney Islands' 'Shetland Islands' 'Aberdeenshire'\n",
      " 'Moray' 'Aberdeen City' 'Dundee City' 'Angus' 'Perth and Kinross' 'Fife'\n",
      " 'East Lothian' 'Midlothian' 'Scottish Borders' 'Edinburgh, City of'\n",
      " 'West Lothian' 'Falkirk' 'Clackmannanshire' 'Stirling' 'Clackmannshire'\n",
      " 'Glasgow City' 'East Dunbartonshire' 'North Larkshire'\n",
      " 'North Lanarkshire' 'Renfrewshire' 'East Renfrewshire' 'East Ayrshire'\n",
      " 'South Larkshire' 'Inverclyde' 'West Dunbartonshire' 'Argyll and Bute'\n",
      " 'South Lanarkshire' 'North Ayrshire' 'South Ayrshire'\n",
      " 'Dumfries and Galloway' 'Cheshire East' 'Cheshire West and Chester'\n",
      " 'Northumberland' 'County Durham' 'Shropshire' 'Central Bedfordshire'\n",
      " 'Cornwall' 'Wiltshire']\n",
      "\n",
      " ==================================================================================================== \n",
      "\n",
      "Column: Road_Surface_Conditions\n",
      "['Dry' 'Wet or damp' 'Snow' 'Frost or ice' 'Flood over 3cm. deep'\n",
      " 'Unknown road condition']\n",
      "\n",
      " ==================================================================================================== \n",
      "\n",
      "Column: Road_Type\n",
      "['Single carriageway' 'Unaccounted' 'Dual carriageway' 'One way street'\n",
      " 'Roundabout' 'Slip road']\n",
      "\n",
      " ==================================================================================================== \n",
      "\n",
      "Column: Urban_or_Rural_Area\n",
      "['Urban' 'Rural' 'Unallocated']\n",
      "\n",
      " ==================================================================================================== \n",
      "\n",
      "Column: Weather_Conditions\n",
      "['Fine no high winds' 'Raining no high winds' 'Unaccounted' 'Other'\n",
      " 'Fine + high winds' 'Raining + high winds' 'Snowing no high winds'\n",
      " 'Fog or mist' 'Snowing + high winds']\n",
      "\n",
      " ==================================================================================================== \n",
      "\n",
      "Column: Vehicle_Type\n",
      "['Car' 'Taxi/Private hire car' 'Bus or coach (17 or more pass seats)'\n",
      " 'Other vehicle' 'Van / Goods 3.5 tonnes mgw or under'\n",
      " 'Motorcycle over 125cc and up to 500cc' 'Goods 7.5 tonnes mgw and over'\n",
      " 'Motorcycle 125cc and under' 'Motorcycle over 500cc'\n",
      " 'Motorcycle 50cc and under' 'Minibus (8 - 16 passenger seats)'\n",
      " 'Goods over 3.5t. and under 7.5t' 'Pedal cycle' 'Agricultural vehicle'\n",
      " 'Ridden horse' 'Data missing or out of range']\n",
      "\n",
      " ==================================================================================================== \n",
      "\n"
     ]
    }
   ],
   "source": [
    "# para madetermine kung category ba talaga\n",
    "for col in cat_cols:\n",
    "    print(f\"Column: {col}\")\n",
    "    print(eda_data[col].unique())\n",
    "    print('\\n',\"=\" * 100,'\\n')\n"
   ]
  },
  {
   "cell_type": "code",
   "execution_count": 38,
   "metadata": {},
   "outputs": [],
   "source": [
    "eda_data[cat_cols] = eda_data[cat_cols].astype('category')\n"
   ]
  },
  {
   "cell_type": "code",
   "execution_count": 39,
   "metadata": {},
   "outputs": [
    {
     "data": {
      "text/plain": [
       "Index                            category\n",
       "Accident_Severity                category\n",
       "Accident Date              datetime64[ns]\n",
       "Latitude                          float64\n",
       "Light_Conditions                 category\n",
       "District Area                    category\n",
       "Longitude                         float64\n",
       "Number_of_Casualties                int64\n",
       "Number_of_Vehicles                  int64\n",
       "Road_Surface_Conditions          category\n",
       "Road_Type                        category\n",
       "Urban_or_Rural_Area              category\n",
       "Weather_Conditions               category\n",
       "Vehicle_Type                     category\n",
       "Year                                int32\n",
       "Month                               int32\n",
       "Day                                 int32\n",
       "dtype: object"
      ]
     },
     "execution_count": 39,
     "metadata": {},
     "output_type": "execute_result"
    }
   ],
   "source": [
    "eda_data.dtypes"
   ]
  },
  {
   "cell_type": "markdown",
   "metadata": {},
   "source": [
    "# Q1: What is the most common road surface condition during accidents?\n"
   ]
  },
  {
   "cell_type": "code",
   "execution_count": 40,
   "metadata": {},
   "outputs": [],
   "source": [
    "# most_common_rfc = eda_data['Road_Surface_Conditions'].value_counts()\n",
    "# most_common_rfc"
   ]
  },
  {
   "cell_type": "markdown",
   "metadata": {},
   "source": [
    "<h1><b>Insights on Road Surface Conditions and Accidents</b></h1>\n",
    "\n",
    "<ol>\n",
    "    <li><b>Most Accidents Occur on Dry Roads: <u>447,821 cases</u></b></li>\n",
    "    <p>Insights: Higher traffic volume and overconfidence lead to more accidents.</p>\n",
    "    <li><b>Wet or Damp Roads Increase Risk: <u>186,708 cases</u></b></li>\n",
    "    <p>Insights: Reduced traction on wet surfaces increases accident likelihood.</p>\n",
    "    <li><b>Snow and Ice Are Less Frequent but Dangerous: <u>18,517 (Frost/Ice) + 5,890 (Snow)</u></b></li>\n",
    "    <p>Insights: Fewer vehicles on the road, but slippery conditions cause more severe accidents.</p>\n",
    "    <li><b>Flooded Roads Have the Least Accidents: <u>1,017 cases</u></b></li>\n",
    "    <p>Insights: Drivers avoid flooded roads, reducing accident occurrence.</p>\n",
    "    <li><b>Unknown Road Conditions: <u>726 cases</u></b></li>\n",
    "    <p>Insights: Incomplete reporting or misclassification of conditions.</p>\n",
    "</ol>\n",
    "\n"
   ]
  },
  {
   "cell_type": "markdown",
   "metadata": {},
   "source": [
    "# Q2: How does accident severity vary between urban and rural areas?\n"
   ]
  },
  {
   "cell_type": "code",
   "execution_count": 41,
   "metadata": {},
   "outputs": [],
   "source": [
    "# as_in_urban_rural = eda_data.groupby('Urban_or_Rural_Area')['Accident_Severity'].value_counts().unstack()"
   ]
  },
  {
   "cell_type": "code",
   "execution_count": 42,
   "metadata": {},
   "outputs": [],
   "source": [
    "# as_in_urban_rural"
   ]
  },
  {
   "cell_type": "markdown",
   "metadata": {},
   "source": [
    "<h1>Insights on Accident Severity in Urban vs. Rural Areas</h1>\n",
    "\n",
    "<ol>\n",
    "    <li><b>Rural Areas Have More Fatal Accidents: <u>5,601 cases</u></b></li>\n",
    "    <p>Insights: Higher speeds and fewer safety measures contribute to increased fatalities.</p>\n",
    "    <li><b>Serious Accidents Are More Common in Urban Areas: <u>50,904 cases</u></b></li>\n",
    "    <p>Insights: Higher traffic density and pedestrian interactions lead to more serious injuries.</p>\n",
    "    <li><b>Slight Injuries Are Most Frequent in Urban Areas: <u>367,714 cases</u></b></li>\n",
    "    <p>Insights: Lower speeds in urban settings result in more minor injuries rather than fatalities.</p>\n",
    "    <li><b>Unallocated Data Is Minimal: <u>11 cases</u></b></li>\n",
    "    <p>Insights: Possible reporting errors or accidents occurring in undefined areas.</p>\n",
    "</ol>\n"
   ]
  },
  {
   "cell_type": "markdown",
   "metadata": {},
   "source": [
    "# Q3: Which weather condition has the highest number of accidents?\n"
   ]
  },
  {
   "cell_type": "code",
   "execution_count": 43,
   "metadata": {},
   "outputs": [],
   "source": [
    "# wc_to_as = eda_data['Weather_Conditions'].value_counts()"
   ]
  },
  {
   "cell_type": "code",
   "execution_count": 44,
   "metadata": {},
   "outputs": [],
   "source": [
    "# wc_to_as"
   ]
  },
  {
   "cell_type": "markdown",
   "metadata": {},
   "source": [
    "<h2>Insights on  weather condition to number of accidents?</h2>\n",
    "\n",
    "<h2>Question #3: Which weather condition has the highest number of accidents?</h2>\n",
    "\n",
    "<ul>\n",
    "    <li><b>Most Accidents Occur in Clear Weather: <u>520,885 cases</u></b></li>\n",
    "    <p>Insights: Higher traffic volume and driver complacency lead to more accidents in good weather.</p>\n",
    "    <li><b>Rain Increases Accident Risk: <u>89,311 cases</u></b></li>\n",
    "    <p>Insights: Wet roads reduce traction and visibility, increasing accident likelihood.</p>\n",
    "    <li><b>Other or Unaccounted Weather Conditions: <u>31,278 cases</u></b></li>\n",
    "    <p>Insights: Mixed or unclassified conditions may involve unpredictable hazards.</p>\n",
    "    <li><b>Snow and Fog Are Less Common but Still Risky: <u>10,651 cases</u></b></li>\n",
    "    <p>Insights: Fewer vehicles on the road during extreme weather may lower total accidents, but conditions make driving more dangerous.</p>\n",
    "</ul>\n",
    "\n"
   ]
  },
  {
   "cell_type": "markdown",
   "metadata": {},
   "source": [
    "# Q4: What is the distribution of accidents per month/year?"
   ]
  },
  {
   "cell_type": "code",
   "execution_count": 45,
   "metadata": {},
   "outputs": [],
   "source": [
    "# accident_perMonth_everyYear = eda_data.groupby(['Year', 'Month']).size().unstack()"
   ]
  },
  {
   "cell_type": "code",
   "execution_count": 46,
   "metadata": {},
   "outputs": [],
   "source": [
    "# accident_perMonth_everyYear"
   ]
  },
  {
   "cell_type": "code",
   "execution_count": 47,
   "metadata": {},
   "outputs": [],
   "source": [
    "# def plot_accident_heatmap(accident_perMonth_everyYear):    \n",
    "#     month_list = [\n",
    "#         'Jan', 'Feb', 'Mar', 'Apr', 'May', 'Jun', \n",
    "#         'Jul', 'Aug', 'Sep', 'Oct', 'Nov', 'Dec'\n",
    "#     ]\n",
    "    \n",
    "#     plt.figure(figsize=(12, 6))  \n",
    "    \n",
    "#     sns.heatmap(accident_perMonth_everyYear, cmap=\"Reds\", annot=True, fmt=\"d\", linewidths=0.5, cbar_kws={'label': 'Accident Count'})\n",
    "    \n",
    "#     plt.title(\"Monthly Accident Distribution (2019-2022)\", fontsize=14, fontweight=\"bold\")\n",
    "#     plt.xlabel(\"Month\", fontsize=12) \n",
    "#     plt.ylabel(\"Year\", fontsize=12)\n",
    "\n",
    "#     plt.xticks(ticks=range(12), labels=month_list, rotation=45)\n",
    "#     plt.yticks(rotation=0)  \n",
    "\n",
    "#     plt.tight_layout()  \n",
    "#     plt.show()\n",
    "\n",
    "\n",
    "# malag laptop kaya function"
   ]
  },
  {
   "cell_type": "code",
   "execution_count": 48,
   "metadata": {},
   "outputs": [],
   "source": [
    "# plot_accident_heatmap(accident_perMonth_everyYear)"
   ]
  },
  {
   "cell_type": "markdown",
   "metadata": {},
   "source": [
    "<h2>Insights on Monthly Accident Trends in the UK (2019-2022)</h2>\n",
    "\n",
    "<ul>\n",
    "    <li><b>Autumn Peak:</b> October & November consistently report the highest accident counts across all years.</li>\n",
    "    <p>Insights: Shorter daylight hours and wetter road conditions contribute to higher risks.</p>\n",
    "    <li><b>Lowest Accidents in 2022:</b> Significant drop in accident numbers compared to previous years.</li>\n",
    "    <p>Insights: Post-pandemic changes in travel behavior and road safety improvements may be factors.</p>\n",
    "    <li><b>February & December Typically Lower:</b> These months show reduced accident counts, possibly due to winter weather reducing travel frequency.</li>\n",
    "</ul>\n"
   ]
  },
  {
   "cell_type": "markdown",
   "metadata": {},
   "source": [
    "# Q5: Do accidents occur more frequently in daylight or darkness?"
   ]
  },
  {
   "cell_type": "code",
   "execution_count": 49,
   "metadata": {},
   "outputs": [],
   "source": [
    "# daylight_vs_darkness = eda_data['Light_Conditions'].value_counts()"
   ]
  },
  {
   "cell_type": "code",
   "execution_count": 50,
   "metadata": {},
   "outputs": [],
   "source": [
    "# daylight_vs_darkness"
   ]
  },
  {
   "cell_type": "markdown",
   "metadata": {},
   "source": [
    "<h2>Impact of Light Conditions on Accidents</h2>\n",
    "\n",
    "<ul>\n",
    "    <li><b>Most Accidents Occur in Daylight: <u>484,880 cases</u></b></li>\n",
    "    <p>Insights: Higher traffic volume during the day increases accident frequency despite better visibility.</p>\n",
    "    <li><b>Accidents in Lit Darkness: <u>129,335 cases</u></b></li>\n",
    "    <p>Insights: Artificial lighting helps but does not eliminate risks, especially due to driver fatigue.</p>\n",
    "    <li><b>Darkness Without Streetlights: <u>37,437 cases</u></b></li>\n",
    "    <p>Insights: Lack of visibility significantly increases accident risks.</p>\n",
    "    <li><b>Unknown Lighting Conditions: <u>6,484 cases</u></b></li>\n",
    "    <p>Insights: Possible reporting inconsistencies, or accidents in areas with intermittent lighting.</p>\n",
    "    <li><b>Darkness with Unlit Streetlights: <u>2,543 cases</u></b></li>\n",
    "    <p>Insights: Streetlight failures create unexpected hazards, making roads extremely dangerous.</p>\n",
    "</ul>\n",
    "\n"
   ]
  },
  {
   "cell_type": "markdown",
   "metadata": {},
   "source": [
    "<h1>Correlation-Based Questions</h1>\n",
    "<ol>\n",
    "    <li>Is there a relationship between number of casualties and number of vehicles involved?</li>\n",
    "    <li>Is there a relationship between the number of vehicles involved and the month?</li>\n",
    "\n",
    "</ol>"
   ]
  },
  {
   "cell_type": "markdown",
   "metadata": {},
   "source": [
    "# Q6: Is there a relationship between number of casualties and number of vehicles involved?"
   ]
  },
  {
   "cell_type": "code",
   "execution_count": 51,
   "metadata": {},
   "outputs": [],
   "source": [
    "rs_in_nc_and_nv = np.round(eda_data['Number_of_Casualties'].corr(eda_data['Number_of_Vehicles']),2)# "
   ]
  },
  {
   "cell_type": "code",
   "execution_count": 52,
   "metadata": {},
   "outputs": [],
   "source": [
    "# rs_in_nc_and_nv"
   ]
  },
  {
   "cell_type": "markdown",
   "metadata": {},
   "source": [
    "<h2>Correlation Between Number of Casualties and Number of Vehicles</h2>\n",
    "\n",
    "<p><b>Correlation: <u>0.23 (Weak Positive)</u></b></p>\n",
    "<p>A correlation of 0.23 suggests a weak relationship between the number of vehicles and casualties. This means that while accidents involving more vehicles can result in more casualties, it's not a strong or consistent pattern. Other factors like speed, collision type, and safety measures likely have a greater influence.</p>\n",
    "\n"
   ]
  },
  {
   "cell_type": "markdown",
   "metadata": {},
   "source": [
    "# Q7: Is there a relationship between the number of vehicles involved and the month?\n"
   ]
  },
  {
   "cell_type": "code",
   "execution_count": 53,
   "metadata": {},
   "outputs": [
    {
     "data": {
      "text/plain": [
       "0.0032017632046674733"
      ]
     },
     "execution_count": 53,
     "metadata": {},
     "output_type": "execute_result"
    }
   ],
   "source": [
    "month_nov_corr = eda_data['Number_of_Vehicles'].corr(eda_data['Month'])\n",
    "month_nov_corr\n"
   ]
  },
  {
   "cell_type": "markdown",
   "metadata": {},
   "source": [
    "<ul>\n",
    "    <li><b>No Strong Relationship Between Month and Vehicles Involved: <u>0.0032 correlation</u></b></li>\n",
    "    <p>Insights: Seasonal changes and holiday traffic do not significantly impact the number of vehicles involved in accidents.</p>\n",
    "</ul>\n"
   ]
  },
  {
   "cell_type": "markdown",
   "metadata": {},
   "source": [
    "# Q8: How has the number of accidents changed over the years?\n"
   ]
  },
  {
   "cell_type": "code",
   "execution_count": 54,
   "metadata": {},
   "outputs": [],
   "source": [
    "eda_data['Year'].value_counts().sort_index()\n",
    "severity_over_the_years= eda_data.groupby(['Year', 'Accident_Severity']).size().unstack()"
   ]
  },
  {
   "cell_type": "code",
   "execution_count": 55,
   "metadata": {},
   "outputs": [
    {
     "data": {
      "text/html": [
       "<div>\n",
       "<style scoped>\n",
       "    .dataframe tbody tr th:only-of-type {\n",
       "        vertical-align: middle;\n",
       "    }\n",
       "\n",
       "    .dataframe tbody tr th {\n",
       "        vertical-align: top;\n",
       "    }\n",
       "\n",
       "    .dataframe thead th {\n",
       "        text-align: right;\n",
       "    }\n",
       "</style>\n",
       "<table border=\"1\" class=\"dataframe\">\n",
       "  <thead>\n",
       "    <tr style=\"text-align: right;\">\n",
       "      <th>Accident_Severity</th>\n",
       "      <th>Fatal</th>\n",
       "      <th>Serious</th>\n",
       "      <th>Slight</th>\n",
       "    </tr>\n",
       "    <tr>\n",
       "      <th>Year</th>\n",
       "      <th></th>\n",
       "      <th></th>\n",
       "      <th></th>\n",
       "    </tr>\n",
       "  </thead>\n",
       "  <tbody>\n",
       "    <tr>\n",
       "      <th>2019</th>\n",
       "      <td>2714</td>\n",
       "      <td>24322</td>\n",
       "      <td>155079</td>\n",
       "    </tr>\n",
       "    <tr>\n",
       "      <th>2020</th>\n",
       "      <td>2341</td>\n",
       "      <td>23121</td>\n",
       "      <td>145129</td>\n",
       "    </tr>\n",
       "    <tr>\n",
       "      <th>2021</th>\n",
       "      <td>2057</td>\n",
       "      <td>21997</td>\n",
       "      <td>139500</td>\n",
       "    </tr>\n",
       "    <tr>\n",
       "      <th>2022</th>\n",
       "      <td>1549</td>\n",
       "      <td>18777</td>\n",
       "      <td>124093</td>\n",
       "    </tr>\n",
       "  </tbody>\n",
       "</table>\n",
       "</div>"
      ],
      "text/plain": [
       "Accident_Severity  Fatal  Serious  Slight\n",
       "Year                                     \n",
       "2019                2714    24322  155079\n",
       "2020                2341    23121  145129\n",
       "2021                2057    21997  139500\n",
       "2022                1549    18777  124093"
      ]
     },
     "execution_count": 55,
     "metadata": {},
     "output_type": "execute_result"
    }
   ],
   "source": [
    "severity_over_the_years"
   ]
  },
  {
   "cell_type": "markdown",
   "metadata": {},
   "source": [
    "<p><strong>Overall accidents have declined</strong> from 2019 to 2022 across all severity levels.</p>\n",
    "    <ul>\n",
    "        <li><strong>Fatal accidents:</strong> Dropped by <b>~43%</b> (from <b>2,714</b> in 2019 to <b>1,549</b> in 2022).</li>\n",
    "        <li><strong>Serious accidents:</strong> Decreased by <b>~23%</b> (from <b>24,322</b> in 2019 to <b>18,777</b> in 2022).</li>\n",
    "        <li><strong>Slight accidents:</strong> Reduced by <b>~20%</b> (from <b>155,079</b> in 2019 to <b>124,093</b> in 2022).</li>\n",
    "    </ul>\n",
    "    <p>Insights: <strong>Fatalities are decreasing faster</strong> than serious/slight accidents, possibly due to improved road safety measures, emergency response, or vehicle safety.</p>"
   ]
  },
  {
   "cell_type": "markdown",
   "metadata": {},
   "source": [
    "# Q9: How road surface conditions impact severity in urban vs. rural areas?"
   ]
  },
  {
   "cell_type": "code",
   "execution_count": 56,
   "metadata": {},
   "outputs": [],
   "source": [
    "severity_rsc_urban_rural = eda_data.groupby(['Road_Surface_Conditions', 'Urban_or_Rural_Area'])['Accident_Severity'].size().unstack()"
   ]
  },
  {
   "cell_type": "code",
   "execution_count": 57,
   "metadata": {},
   "outputs": [
    {
     "data": {
      "text/html": [
       "<div>\n",
       "<style scoped>\n",
       "    .dataframe tbody tr th:only-of-type {\n",
       "        vertical-align: middle;\n",
       "    }\n",
       "\n",
       "    .dataframe tbody tr th {\n",
       "        vertical-align: top;\n",
       "    }\n",
       "\n",
       "    .dataframe thead th {\n",
       "        text-align: right;\n",
       "    }\n",
       "</style>\n",
       "<table border=\"1\" class=\"dataframe\">\n",
       "  <thead>\n",
       "    <tr style=\"text-align: right;\">\n",
       "      <th>Urban_or_Rural_Area</th>\n",
       "      <th>Rural</th>\n",
       "      <th>Unallocated</th>\n",
       "      <th>Urban</th>\n",
       "    </tr>\n",
       "    <tr>\n",
       "      <th>Road_Surface_Conditions</th>\n",
       "      <th></th>\n",
       "      <th></th>\n",
       "      <th></th>\n",
       "    </tr>\n",
       "  </thead>\n",
       "  <tbody>\n",
       "    <tr>\n",
       "      <th>Dry</th>\n",
       "      <td>144861</td>\n",
       "      <td>5</td>\n",
       "      <td>302955</td>\n",
       "    </tr>\n",
       "    <tr>\n",
       "      <th>Flood over 3cm. deep</th>\n",
       "      <td>785</td>\n",
       "      <td>1</td>\n",
       "      <td>231</td>\n",
       "    </tr>\n",
       "    <tr>\n",
       "      <th>Frost or ice</th>\n",
       "      <td>10953</td>\n",
       "      <td>0</td>\n",
       "      <td>7564</td>\n",
       "    </tr>\n",
       "    <tr>\n",
       "      <th>Snow</th>\n",
       "      <td>3102</td>\n",
       "      <td>0</td>\n",
       "      <td>2788</td>\n",
       "    </tr>\n",
       "    <tr>\n",
       "      <th>Unknown road condition</th>\n",
       "      <td>284</td>\n",
       "      <td>0</td>\n",
       "      <td>442</td>\n",
       "    </tr>\n",
       "    <tr>\n",
       "      <th>Wet or damp</th>\n",
       "      <td>79005</td>\n",
       "      <td>5</td>\n",
       "      <td>107698</td>\n",
       "    </tr>\n",
       "  </tbody>\n",
       "</table>\n",
       "</div>"
      ],
      "text/plain": [
       "Urban_or_Rural_Area       Rural  Unallocated   Urban\n",
       "Road_Surface_Conditions                             \n",
       "Dry                      144861            5  302955\n",
       "Flood over 3cm. deep        785            1     231\n",
       "Frost or ice              10953            0    7564\n",
       "Snow                       3102            0    2788\n",
       "Unknown road condition      284            0     442\n",
       "Wet or damp               79005            5  107698"
      ]
     },
     "execution_count": 57,
     "metadata": {},
     "output_type": "execute_result"
    }
   ],
   "source": [
    "severity_rsc_urban_rural"
   ]
  },
  {
   "cell_type": "markdown",
   "metadata": {},
   "source": [
    "<h4>🌍 Urban vs. Rural Accidents by Road Condition</h4>\n",
    "    <p><b>Dry roads:</b> Most accidents occur in urban areas (302,955), followed by rural (144,861).</p>\n",
    "    <p><b>Wet roads:</b> Urban areas (107,698) still lead, but rural accidents (79,005) are high.</p>\n",
    "    <p><b>Ice & Snow:</b> Rural areas have more ice-related accidents (10,953 vs. 7,564 in urban).</p>\n",
    "    <p><b>Insights:</b> Rural roads are riskier in winter, while urban areas see more accidents overall.</p>\n"
   ]
  },
  {
   "cell_type": "markdown",
   "metadata": {},
   "source": [
    "# Q10: Accident severity on different road types (single vs. dual carriageway)"
   ]
  },
  {
   "cell_type": "code",
   "execution_count": 58,
   "metadata": {},
   "outputs": [],
   "source": [
    "severity_road_type = eda_data.groupby(['Road_Type', 'Urban_or_Rural_Area'])['Accident_Severity'].size().unstack()"
   ]
  },
  {
   "cell_type": "code",
   "execution_count": 59,
   "metadata": {},
   "outputs": [
    {
     "data": {
      "text/html": [
       "<div>\n",
       "<style scoped>\n",
       "    .dataframe tbody tr th:only-of-type {\n",
       "        vertical-align: middle;\n",
       "    }\n",
       "\n",
       "    .dataframe tbody tr th {\n",
       "        vertical-align: top;\n",
       "    }\n",
       "\n",
       "    .dataframe thead th {\n",
       "        text-align: right;\n",
       "    }\n",
       "</style>\n",
       "<table border=\"1\" class=\"dataframe\">\n",
       "  <thead>\n",
       "    <tr style=\"text-align: right;\">\n",
       "      <th>Urban_or_Rural_Area</th>\n",
       "      <th>Rural</th>\n",
       "      <th>Unallocated</th>\n",
       "      <th>Urban</th>\n",
       "    </tr>\n",
       "    <tr>\n",
       "      <th>Road_Type</th>\n",
       "      <th></th>\n",
       "      <th></th>\n",
       "      <th></th>\n",
       "    </tr>\n",
       "  </thead>\n",
       "  <tbody>\n",
       "    <tr>\n",
       "      <th>Dual carriageway</th>\n",
       "      <td>48715</td>\n",
       "      <td>1</td>\n",
       "      <td>50708</td>\n",
       "    </tr>\n",
       "    <tr>\n",
       "      <th>One way street</th>\n",
       "      <td>1193</td>\n",
       "      <td>0</td>\n",
       "      <td>12366</td>\n",
       "    </tr>\n",
       "    <tr>\n",
       "      <th>Roundabout</th>\n",
       "      <td>15545</td>\n",
       "      <td>1</td>\n",
       "      <td>28446</td>\n",
       "    </tr>\n",
       "    <tr>\n",
       "      <th>Single carriageway</th>\n",
       "      <td>168010</td>\n",
       "      <td>9</td>\n",
       "      <td>324124</td>\n",
       "    </tr>\n",
       "    <tr>\n",
       "      <th>Slip road</th>\n",
       "      <td>4294</td>\n",
       "      <td>0</td>\n",
       "      <td>2747</td>\n",
       "    </tr>\n",
       "    <tr>\n",
       "      <th>Unaccounted</th>\n",
       "      <td>1233</td>\n",
       "      <td>0</td>\n",
       "      <td>3287</td>\n",
       "    </tr>\n",
       "  </tbody>\n",
       "</table>\n",
       "</div>"
      ],
      "text/plain": [
       "Urban_or_Rural_Area   Rural  Unallocated   Urban\n",
       "Road_Type                                       \n",
       "Dual carriageway      48715            1   50708\n",
       "One way street         1193            0   12366\n",
       "Roundabout            15545            1   28446\n",
       "Single carriageway   168010            9  324124\n",
       "Slip road              4294            0    2747\n",
       "Unaccounted            1233            0    3287"
      ]
     },
     "execution_count": 59,
     "metadata": {},
     "output_type": "execute_result"
    }
   ],
   "source": [
    "severity_road_type"
   ]
  },
  {
   "cell_type": "markdown",
   "metadata": {},
   "source": [
    "<h4>Accidents by Road Type & Location</h4>\n",
    "<ol>\n",
    "    <li><b>Single carriageways:</b> Highest accidents in both urban (324,124) & rural (168,010) areas.</li>\n",
    "    <li><b>Dual carriageways:</b> Urban (50,708) and rural (48,715) accidents are nearly equal.</li>\n",
    "    <li><b>Roundabouts:</b> More urban accidents (28,446) than rural (15,545).</li>\n",
    "</ol>\n",
    "\n",
    "<p><b>Insight:</b> Single carriageways are the most accident-prone in both settings.</p>\n",
    "\n"
   ]
  },
  {
   "cell_type": "markdown",
   "metadata": {},
   "source": [
    "# Q11: How light conditions impact accident severity in urban vs. rural areas"
   ]
  },
  {
   "cell_type": "code",
   "execution_count": 60,
   "metadata": {},
   "outputs": [],
   "source": [
    "severity_lc_urban_rural = eda_data.groupby(['Light_Conditions', 'Urban_or_Rural_Area'])['Accident_Severity'].size().unstack()"
   ]
  },
  {
   "cell_type": "code",
   "execution_count": 61,
   "metadata": {},
   "outputs": [
    {
     "data": {
      "text/html": [
       "<div>\n",
       "<style scoped>\n",
       "    .dataframe tbody tr th:only-of-type {\n",
       "        vertical-align: middle;\n",
       "    }\n",
       "\n",
       "    .dataframe tbody tr th {\n",
       "        vertical-align: top;\n",
       "    }\n",
       "\n",
       "    .dataframe thead th {\n",
       "        text-align: right;\n",
       "    }\n",
       "</style>\n",
       "<table border=\"1\" class=\"dataframe\">\n",
       "  <thead>\n",
       "    <tr style=\"text-align: right;\">\n",
       "      <th>Urban_or_Rural_Area</th>\n",
       "      <th>Rural</th>\n",
       "      <th>Unallocated</th>\n",
       "      <th>Urban</th>\n",
       "    </tr>\n",
       "    <tr>\n",
       "      <th>Light_Conditions</th>\n",
       "      <th></th>\n",
       "      <th></th>\n",
       "      <th></th>\n",
       "    </tr>\n",
       "  </thead>\n",
       "  <tbody>\n",
       "    <tr>\n",
       "      <th>Darkness - lighting unknown</th>\n",
       "      <td>2467</td>\n",
       "      <td>0</td>\n",
       "      <td>4017</td>\n",
       "    </tr>\n",
       "    <tr>\n",
       "      <th>Darkness - lights lit</th>\n",
       "      <td>24695</td>\n",
       "      <td>2</td>\n",
       "      <td>104638</td>\n",
       "    </tr>\n",
       "    <tr>\n",
       "      <th>Darkness - lights unlit</th>\n",
       "      <td>961</td>\n",
       "      <td>0</td>\n",
       "      <td>1582</td>\n",
       "    </tr>\n",
       "    <tr>\n",
       "      <th>Darkness - no lighting</th>\n",
       "      <td>35517</td>\n",
       "      <td>0</td>\n",
       "      <td>1920</td>\n",
       "    </tr>\n",
       "    <tr>\n",
       "      <th>Daylight</th>\n",
       "      <td>175350</td>\n",
       "      <td>9</td>\n",
       "      <td>309521</td>\n",
       "    </tr>\n",
       "  </tbody>\n",
       "</table>\n",
       "</div>"
      ],
      "text/plain": [
       "Urban_or_Rural_Area           Rural  Unallocated   Urban\n",
       "Light_Conditions                                        \n",
       "Darkness - lighting unknown    2467            0    4017\n",
       "Darkness - lights lit         24695            2  104638\n",
       "Darkness - lights unlit         961            0    1582\n",
       "Darkness - no lighting        35517            0    1920\n",
       "Daylight                     175350            9  309521"
      ]
     },
     "execution_count": 61,
     "metadata": {},
     "output_type": "execute_result"
    }
   ],
   "source": [
    "severity_lc_urban_rural"
   ]
  },
  {
   "cell_type": "markdown",
   "metadata": {},
   "source": [
    "<h4>Accidents by Light Conditions & Location</h4>\n",
    "<ol>\n",
    "    <li><b>Daylight:</b> Most accidents occur in both urban (309,521) & rural (175,350) areas.</li>\n",
    "    <li><b>Darkness - lights lit:</b> Higher in urban areas (104,638) than rural (24,695).</li>\n",
    "    <li><b>Darkness - no lighting:</b> Rural areas (35,517) have far more accidents than urban (1,920).</li>\n",
    "</ol>\n",
    "\n",
    "<p><b>Insight:</b> Poor lighting increases accident risks, especially in rural areas.</p>\n"
   ]
  },
  {
   "cell_type": "code",
   "execution_count": 62,
   "metadata": {},
   "outputs": [],
   "source": [
    "# Vehicle type involvement in serious vs. fatal accidents (urban vs. rural)\n",
    "\n",
    "# python\n",
    "# Copy\n",
    "# Edit\n",
    "# eda_data.groupby(['Vehicle_Type', 'Urban_or_Rural_Area'])['Accident_Severity'].size().unstack()\n",
    "# 💡 Reveals if motorcycles, trucks, or cars have higher fatality rates in rural vs. urban areas.\n",
    "\n",
    "# 6️⃣ How weather affects accident severity for different vehicle types\n",
    "\n",
    "# python\n",
    "# Copy\n",
    "# Edit\n",
    "# eda_data.groupby(['Weather_Conditions', 'Vehicle_Type'])['Accident_Severity'].size().unstack()"
   ]
  },
  {
   "cell_type": "markdown",
   "metadata": {},
   "source": [
    "# Q12: Vehicle type involvement in serious vs. fatal accidents (urban vs. rural)"
   ]
  },
  {
   "cell_type": "code",
   "execution_count": 63,
   "metadata": {},
   "outputs": [],
   "source": [
    "severity_v_urban_rural = eda_data.groupby(['Vehicle_Type', 'Urban_or_Rural_Area'])['Accident_Severity'].size().unstack()"
   ]
  },
  {
   "cell_type": "code",
   "execution_count": 64,
   "metadata": {},
   "outputs": [
    {
     "data": {
      "text/html": [
       "<div>\n",
       "<style scoped>\n",
       "    .dataframe tbody tr th:only-of-type {\n",
       "        vertical-align: middle;\n",
       "    }\n",
       "\n",
       "    .dataframe tbody tr th {\n",
       "        vertical-align: top;\n",
       "    }\n",
       "\n",
       "    .dataframe thead th {\n",
       "        text-align: right;\n",
       "    }\n",
       "</style>\n",
       "<table border=\"1\" class=\"dataframe\">\n",
       "  <thead>\n",
       "    <tr style=\"text-align: right;\">\n",
       "      <th>Urban_or_Rural_Area</th>\n",
       "      <th>Rural</th>\n",
       "      <th>Unallocated</th>\n",
       "      <th>Urban</th>\n",
       "    </tr>\n",
       "    <tr>\n",
       "      <th>Vehicle_Type</th>\n",
       "      <th></th>\n",
       "      <th></th>\n",
       "      <th></th>\n",
       "    </tr>\n",
       "  </thead>\n",
       "  <tbody>\n",
       "    <tr>\n",
       "      <th>Agricultural vehicle</th>\n",
       "      <td>675</td>\n",
       "      <td>0</td>\n",
       "      <td>1272</td>\n",
       "    </tr>\n",
       "    <tr>\n",
       "      <th>Bus or coach (17 or more pass seats)</th>\n",
       "      <td>9025</td>\n",
       "      <td>2</td>\n",
       "      <td>16851</td>\n",
       "    </tr>\n",
       "    <tr>\n",
       "      <th>Car</th>\n",
       "      <td>181922</td>\n",
       "      <td>8</td>\n",
       "      <td>316062</td>\n",
       "    </tr>\n",
       "    <tr>\n",
       "      <th>Data missing or out of range</th>\n",
       "      <td>0</td>\n",
       "      <td>0</td>\n",
       "      <td>6</td>\n",
       "    </tr>\n",
       "    <tr>\n",
       "      <th>Goods 7.5 tonnes mgw and over</th>\n",
       "      <td>6156</td>\n",
       "      <td>0</td>\n",
       "      <td>11151</td>\n",
       "    </tr>\n",
       "    <tr>\n",
       "      <th>Goods over 3.5t. and under 7.5t</th>\n",
       "      <td>2232</td>\n",
       "      <td>0</td>\n",
       "      <td>3864</td>\n",
       "    </tr>\n",
       "    <tr>\n",
       "      <th>Minibus (8 - 16 passenger seats)</th>\n",
       "      <td>718</td>\n",
       "      <td>0</td>\n",
       "      <td>1258</td>\n",
       "    </tr>\n",
       "    <tr>\n",
       "      <th>Motorcycle 125cc and under</th>\n",
       "      <td>5023</td>\n",
       "      <td>0</td>\n",
       "      <td>10246</td>\n",
       "    </tr>\n",
       "    <tr>\n",
       "      <th>Motorcycle 50cc and under</th>\n",
       "      <td>2710</td>\n",
       "      <td>0</td>\n",
       "      <td>4893</td>\n",
       "    </tr>\n",
       "    <tr>\n",
       "      <th>Motorcycle over 125cc and up to 500cc</th>\n",
       "      <td>2674</td>\n",
       "      <td>0</td>\n",
       "      <td>4982</td>\n",
       "    </tr>\n",
       "    <tr>\n",
       "      <th>Motorcycle over 500cc</th>\n",
       "      <td>8957</td>\n",
       "      <td>0</td>\n",
       "      <td>16700</td>\n",
       "    </tr>\n",
       "    <tr>\n",
       "      <th>Other vehicle</th>\n",
       "      <td>1994</td>\n",
       "      <td>0</td>\n",
       "      <td>3643</td>\n",
       "    </tr>\n",
       "    <tr>\n",
       "      <th>Pedal cycle</th>\n",
       "      <td>70</td>\n",
       "      <td>0</td>\n",
       "      <td>127</td>\n",
       "    </tr>\n",
       "    <tr>\n",
       "      <th>Ridden horse</th>\n",
       "      <td>1</td>\n",
       "      <td>0</td>\n",
       "      <td>3</td>\n",
       "    </tr>\n",
       "    <tr>\n",
       "      <th>Taxi/Private hire car</th>\n",
       "      <td>4677</td>\n",
       "      <td>0</td>\n",
       "      <td>8617</td>\n",
       "    </tr>\n",
       "    <tr>\n",
       "      <th>Van / Goods 3.5 tonnes mgw or under</th>\n",
       "      <td>12156</td>\n",
       "      <td>1</td>\n",
       "      <td>22003</td>\n",
       "    </tr>\n",
       "  </tbody>\n",
       "</table>\n",
       "</div>"
      ],
      "text/plain": [
       "Urban_or_Rural_Area                     Rural  Unallocated   Urban\n",
       "Vehicle_Type                                                      \n",
       "Agricultural vehicle                      675            0    1272\n",
       "Bus or coach (17 or more pass seats)     9025            2   16851\n",
       "Car                                    181922            8  316062\n",
       "Data missing or out of range                0            0       6\n",
       "Goods 7.5 tonnes mgw and over            6156            0   11151\n",
       "Goods over 3.5t. and under 7.5t          2232            0    3864\n",
       "Minibus (8 - 16 passenger seats)          718            0    1258\n",
       "Motorcycle 125cc and under               5023            0   10246\n",
       "Motorcycle 50cc and under                2710            0    4893\n",
       "Motorcycle over 125cc and up to 500cc    2674            0    4982\n",
       "Motorcycle over 500cc                    8957            0   16700\n",
       "Other vehicle                            1994            0    3643\n",
       "Pedal cycle                                70            0     127\n",
       "Ridden horse                                1            0       3\n",
       "Taxi/Private hire car                    4677            0    8617\n",
       "Van / Goods 3.5 tonnes mgw or under     12156            1   22003"
      ]
     },
     "execution_count": 64,
     "metadata": {},
     "output_type": "execute_result"
    }
   ],
   "source": [
    "severity_v_urban_rural"
   ]
  },
  {
   "cell_type": "markdown",
   "metadata": {},
   "source": [
    "<h4>Accidents by Vehicle Type & Location</h4>\n",
    "<ol>\n",
    "    <li><b>Cars:</b> Most involved in accidents in both urban (316,062) & rural (181,922) areas.</li>\n",
    "    <li><b>Motorcycles over 500cc:</b> Higher accident rates in urban (16,700) than rural (8,957).</li>\n",
    "    <li><b>Buses & coaches:</b> More accidents in urban (16,851) than rural (9,025).</li>\n",
    "</ol>\n",
    "\n",
    "<p><b>Insight:</b> Cars dominate accidents, while motorcycles and buses have higher urban risks.</p>\n",
    "                                                                                                                                                                                                                                                                                                                                            "
   ]
  },
  {
   "cell_type": "markdown",
   "metadata": {},
   "source": [
    "# Q13: How does accident frequency vary by district/region?"
   ]
  },
  {
   "cell_type": "code",
   "execution_count": 79,
   "metadata": {},
   "outputs": [],
   "source": [
    "fre_dis_reg = eda_data.groupby('District Area').size().sort_values(ascending=False)"
   ]
  },
  {
   "cell_type": "code",
   "execution_count": 85,
   "metadata": {},
   "outputs": [
    {
     "data": {
      "text/plain": [
       "District Area\n",
       "Birmingham    13491\n",
       "Leeds          8898\n",
       "Manchester     6720\n",
       "Bradford       6212\n",
       "Sheffield      5710\n",
       "dtype: int64"
      ]
     },
     "execution_count": 85,
     "metadata": {},
     "output_type": "execute_result"
    }
   ],
   "source": [
    "fre_dis_reg.head(5)"
   ]
  },
  {
   "cell_type": "markdown",
   "metadata": {},
   "source": [
    "<h4>Insights on Accident Frequency by District</h4>\n",
    "\n",
    "<ol>\n",
    "    <li><b>Birmingham:</b> Highest accident count (13,491), indicating a major hotspot.</li>\n",
    "</ol>"
   ]
  },
  {
   "cell_type": "code",
   "execution_count": null,
   "metadata": {},
   "outputs": [],
   "source": []
  },
  {
   "cell_type": "markdown",
   "metadata": {},
   "source": [
    "# Q14: Do certain road types more prone to accidents under different weather conditions?"
   ]
  },
  {
   "cell_type": "code",
   "execution_count": 103,
   "metadata": {},
   "outputs": [],
   "source": [
    "road_weather_conditions = eda_data.groupby(['Road_Type', 'Weather_Conditions']).size().unstack()\n"
   ]
  },
  {
   "cell_type": "code",
   "execution_count": 104,
   "metadata": {},
   "outputs": [
    {
     "data": {
      "text/html": [
       "<div>\n",
       "<style scoped>\n",
       "    .dataframe tbody tr th:only-of-type {\n",
       "        vertical-align: middle;\n",
       "    }\n",
       "\n",
       "    .dataframe tbody tr th {\n",
       "        vertical-align: top;\n",
       "    }\n",
       "\n",
       "    .dataframe thead th {\n",
       "        text-align: right;\n",
       "    }\n",
       "</style>\n",
       "<table border=\"1\" class=\"dataframe\">\n",
       "  <thead>\n",
       "    <tr style=\"text-align: right;\">\n",
       "      <th>Weather_Conditions</th>\n",
       "      <th>Fine + high winds</th>\n",
       "      <th>Fine no high winds</th>\n",
       "      <th>Fog or mist</th>\n",
       "      <th>Other</th>\n",
       "      <th>Raining + high winds</th>\n",
       "      <th>Raining no high winds</th>\n",
       "      <th>Snowing + high winds</th>\n",
       "      <th>Snowing no high winds</th>\n",
       "      <th>Unaccounted</th>\n",
       "    </tr>\n",
       "    <tr>\n",
       "      <th>Road_Type</th>\n",
       "      <th></th>\n",
       "      <th></th>\n",
       "      <th></th>\n",
       "      <th></th>\n",
       "      <th></th>\n",
       "      <th></th>\n",
       "      <th></th>\n",
       "      <th></th>\n",
       "      <th></th>\n",
       "    </tr>\n",
       "  </thead>\n",
       "  <tbody>\n",
       "    <tr>\n",
       "      <th>Dual carriageway</th>\n",
       "      <td>1519</td>\n",
       "      <td>76916</td>\n",
       "      <td>682</td>\n",
       "      <td>2264</td>\n",
       "      <td>2033</td>\n",
       "      <td>13044</td>\n",
       "      <td>185</td>\n",
       "      <td>1020</td>\n",
       "      <td>1761</td>\n",
       "    </tr>\n",
       "    <tr>\n",
       "      <th>One way street</th>\n",
       "      <td>158</td>\n",
       "      <td>11057</td>\n",
       "      <td>29</td>\n",
       "      <td>309</td>\n",
       "      <td>153</td>\n",
       "      <td>1429</td>\n",
       "      <td>14</td>\n",
       "      <td>78</td>\n",
       "      <td>332</td>\n",
       "    </tr>\n",
       "    <tr>\n",
       "      <th>Roundabout</th>\n",
       "      <td>540</td>\n",
       "      <td>34667</td>\n",
       "      <td>222</td>\n",
       "      <td>1109</td>\n",
       "      <td>563</td>\n",
       "      <td>5347</td>\n",
       "      <td>30</td>\n",
       "      <td>290</td>\n",
       "      <td>1224</td>\n",
       "    </tr>\n",
       "    <tr>\n",
       "      <th>Single carriageway</th>\n",
       "      <td>6178</td>\n",
       "      <td>389830</td>\n",
       "      <td>2541</td>\n",
       "      <td>13156</td>\n",
       "      <td>6703</td>\n",
       "      <td>58581</td>\n",
       "      <td>642</td>\n",
       "      <td>4751</td>\n",
       "      <td>9761</td>\n",
       "    </tr>\n",
       "    <tr>\n",
       "      <th>Slip road</th>\n",
       "      <td>109</td>\n",
       "      <td>5520</td>\n",
       "      <td>33</td>\n",
       "      <td>180</td>\n",
       "      <td>107</td>\n",
       "      <td>865</td>\n",
       "      <td>10</td>\n",
       "      <td>69</td>\n",
       "      <td>148</td>\n",
       "    </tr>\n",
       "    <tr>\n",
       "      <th>Unaccounted</th>\n",
       "      <td>50</td>\n",
       "      <td>2895</td>\n",
       "      <td>21</td>\n",
       "      <td>132</td>\n",
       "      <td>56</td>\n",
       "      <td>430</td>\n",
       "      <td>4</td>\n",
       "      <td>30</td>\n",
       "      <td>902</td>\n",
       "    </tr>\n",
       "  </tbody>\n",
       "</table>\n",
       "</div>"
      ],
      "text/plain": [
       "Weather_Conditions  Fine + high winds  Fine no high winds  Fog or mist  Other  \\\n",
       "Road_Type                                                                       \n",
       "Dual carriageway                 1519               76916          682   2264   \n",
       "One way street                    158               11057           29    309   \n",
       "Roundabout                        540               34667          222   1109   \n",
       "Single carriageway               6178              389830         2541  13156   \n",
       "Slip road                         109                5520           33    180   \n",
       "Unaccounted                        50                2895           21    132   \n",
       "\n",
       "Weather_Conditions  Raining + high winds  Raining no high winds  \\\n",
       "Road_Type                                                         \n",
       "Dual carriageway                    2033                  13044   \n",
       "One way street                       153                   1429   \n",
       "Roundabout                           563                   5347   \n",
       "Single carriageway                  6703                  58581   \n",
       "Slip road                            107                    865   \n",
       "Unaccounted                           56                    430   \n",
       "\n",
       "Weather_Conditions  Snowing + high winds  Snowing no high winds  Unaccounted  \n",
       "Road_Type                                                                     \n",
       "Dual carriageway                     185                   1020         1761  \n",
       "One way street                        14                     78          332  \n",
       "Roundabout                            30                    290         1224  \n",
       "Single carriageway                   642                   4751         9761  \n",
       "Slip road                             10                     69          148  \n",
       "Unaccounted                            4                     30          902  "
      ]
     },
     "execution_count": 104,
     "metadata": {},
     "output_type": "execute_result"
    }
   ],
   "source": [
    "road_weather_conditions"
   ]
  },
  {
   "cell_type": "markdown",
   "metadata": {},
   "source": [
    "<h4>Insight on Weather Impact on Accidents by Road Type</h4>\n",
    "<ol>\n",
    "    <li><b>Clear weather dominates:</b> Most accidents occur in fine weather with no high winds, especially on single carriageways (389,830).</li>\n",
    "    <li><b>Rain increases risk:</b> Over 58,581 accidents happened on wet single carriageways, showing higher risks in rainy conditions.</li>\n",
    "    <li><b>Snow-related accidents:</b> Single carriageways have the highest snow-related accidents (4,751 in light snow, 642 in high winds).</li>\n",
    "</ol>\n",
    "\n",
    "<p><b>Insight:</b> While most accidents occur in clear weather, wet and snowy conditions significantly increase risk, especially on single carriageways.</p>\n"
   ]
  },
  {
   "cell_type": "code",
   "execution_count": 105,
   "metadata": {},
   "outputs": [],
   "source": [
    "# road_weather_conditions1 = eda_data.groupby(['Road_Type', 'Weather_Conditions']).size().unstack()\n",
    "# road_weather_conditions1"
   ]
  },
  {
   "cell_type": "markdown",
   "metadata": {},
   "source": [
    "# Q15: Which vehicle types are more involved in accidents under different road surface conditions?"
   ]
  },
  {
   "cell_type": "code",
   "execution_count": 92,
   "metadata": {},
   "outputs": [],
   "source": [
    "vehicle_road_surface = eda_data.groupby(['Vehicle_Type', 'Road_Surface_Conditions']).size().unstack()"
   ]
  },
  {
   "cell_type": "code",
   "execution_count": 93,
   "metadata": {},
   "outputs": [
    {
     "data": {
      "text/html": [
       "<div>\n",
       "<style scoped>\n",
       "    .dataframe tbody tr th:only-of-type {\n",
       "        vertical-align: middle;\n",
       "    }\n",
       "\n",
       "    .dataframe tbody tr th {\n",
       "        vertical-align: top;\n",
       "    }\n",
       "\n",
       "    .dataframe thead th {\n",
       "        text-align: right;\n",
       "    }\n",
       "</style>\n",
       "<table border=\"1\" class=\"dataframe\">\n",
       "  <thead>\n",
       "    <tr style=\"text-align: right;\">\n",
       "      <th>Road_Surface_Conditions</th>\n",
       "      <th>Dry</th>\n",
       "      <th>Flood over 3cm. deep</th>\n",
       "      <th>Frost or ice</th>\n",
       "      <th>Snow</th>\n",
       "      <th>Unknown road condition</th>\n",
       "      <th>Wet or damp</th>\n",
       "    </tr>\n",
       "    <tr>\n",
       "      <th>Vehicle_Type</th>\n",
       "      <th></th>\n",
       "      <th></th>\n",
       "      <th></th>\n",
       "      <th></th>\n",
       "      <th></th>\n",
       "      <th></th>\n",
       "    </tr>\n",
       "  </thead>\n",
       "  <tbody>\n",
       "    <tr>\n",
       "      <th>Agricultural vehicle</th>\n",
       "      <td>1303</td>\n",
       "      <td>8</td>\n",
       "      <td>59</td>\n",
       "      <td>24</td>\n",
       "      <td>1</td>\n",
       "      <td>552</td>\n",
       "    </tr>\n",
       "    <tr>\n",
       "      <th>Bus or coach (17 or more pass seats)</th>\n",
       "      <td>17604</td>\n",
       "      <td>40</td>\n",
       "      <td>646</td>\n",
       "      <td>214</td>\n",
       "      <td>19</td>\n",
       "      <td>7355</td>\n",
       "    </tr>\n",
       "    <tr>\n",
       "      <th>Car</th>\n",
       "      <td>337311</td>\n",
       "      <td>777</td>\n",
       "      <td>14108</td>\n",
       "      <td>4483</td>\n",
       "      <td>549</td>\n",
       "      <td>140764</td>\n",
       "    </tr>\n",
       "    <tr>\n",
       "      <th>Data missing or out of range</th>\n",
       "      <td>3</td>\n",
       "      <td>0</td>\n",
       "      <td>1</td>\n",
       "      <td>0</td>\n",
       "      <td>0</td>\n",
       "      <td>2</td>\n",
       "    </tr>\n",
       "    <tr>\n",
       "      <th>Goods 7.5 tonnes mgw and over</th>\n",
       "      <td>11690</td>\n",
       "      <td>32</td>\n",
       "      <td>432</td>\n",
       "      <td>147</td>\n",
       "      <td>18</td>\n",
       "      <td>4988</td>\n",
       "    </tr>\n",
       "    <tr>\n",
       "      <th>Goods over 3.5t. and under 7.5t</th>\n",
       "      <td>4136</td>\n",
       "      <td>6</td>\n",
       "      <td>162</td>\n",
       "      <td>51</td>\n",
       "      <td>2</td>\n",
       "      <td>1739</td>\n",
       "    </tr>\n",
       "    <tr>\n",
       "      <th>Minibus (8 - 16 passenger seats)</th>\n",
       "      <td>1355</td>\n",
       "      <td>1</td>\n",
       "      <td>40</td>\n",
       "      <td>16</td>\n",
       "      <td>1</td>\n",
       "      <td>563</td>\n",
       "    </tr>\n",
       "    <tr>\n",
       "      <th>Motorcycle 125cc and under</th>\n",
       "      <td>10485</td>\n",
       "      <td>14</td>\n",
       "      <td>420</td>\n",
       "      <td>128</td>\n",
       "      <td>30</td>\n",
       "      <td>4192</td>\n",
       "    </tr>\n",
       "    <tr>\n",
       "      <th>Motorcycle 50cc and under</th>\n",
       "      <td>5189</td>\n",
       "      <td>13</td>\n",
       "      <td>224</td>\n",
       "      <td>77</td>\n",
       "      <td>11</td>\n",
       "      <td>2089</td>\n",
       "    </tr>\n",
       "    <tr>\n",
       "      <th>Motorcycle over 125cc and up to 500cc</th>\n",
       "      <td>5225</td>\n",
       "      <td>9</td>\n",
       "      <td>204</td>\n",
       "      <td>71</td>\n",
       "      <td>8</td>\n",
       "      <td>2139</td>\n",
       "    </tr>\n",
       "    <tr>\n",
       "      <th>Motorcycle over 500cc</th>\n",
       "      <td>17438</td>\n",
       "      <td>44</td>\n",
       "      <td>689</td>\n",
       "      <td>226</td>\n",
       "      <td>27</td>\n",
       "      <td>7233</td>\n",
       "    </tr>\n",
       "    <tr>\n",
       "      <th>Other vehicle</th>\n",
       "      <td>3845</td>\n",
       "      <td>11</td>\n",
       "      <td>166</td>\n",
       "      <td>46</td>\n",
       "      <td>8</td>\n",
       "      <td>1561</td>\n",
       "    </tr>\n",
       "    <tr>\n",
       "      <th>Pedal cycle</th>\n",
       "      <td>138</td>\n",
       "      <td>0</td>\n",
       "      <td>10</td>\n",
       "      <td>2</td>\n",
       "      <td>0</td>\n",
       "      <td>47</td>\n",
       "    </tr>\n",
       "    <tr>\n",
       "      <th>Ridden horse</th>\n",
       "      <td>3</td>\n",
       "      <td>0</td>\n",
       "      <td>0</td>\n",
       "      <td>0</td>\n",
       "      <td>0</td>\n",
       "      <td>1</td>\n",
       "    </tr>\n",
       "    <tr>\n",
       "      <th>Taxi/Private hire car</th>\n",
       "      <td>9014</td>\n",
       "      <td>13</td>\n",
       "      <td>384</td>\n",
       "      <td>122</td>\n",
       "      <td>10</td>\n",
       "      <td>3751</td>\n",
       "    </tr>\n",
       "    <tr>\n",
       "      <th>Van / Goods 3.5 tonnes mgw or under</th>\n",
       "      <td>23082</td>\n",
       "      <td>49</td>\n",
       "      <td>972</td>\n",
       "      <td>283</td>\n",
       "      <td>42</td>\n",
       "      <td>9732</td>\n",
       "    </tr>\n",
       "  </tbody>\n",
       "</table>\n",
       "</div>"
      ],
      "text/plain": [
       "Road_Surface_Conditions                   Dry  Flood over 3cm. deep  \\\n",
       "Vehicle_Type                                                          \n",
       "Agricultural vehicle                     1303                     8   \n",
       "Bus or coach (17 or more pass seats)    17604                    40   \n",
       "Car                                    337311                   777   \n",
       "Data missing or out of range                3                     0   \n",
       "Goods 7.5 tonnes mgw and over           11690                    32   \n",
       "Goods over 3.5t. and under 7.5t          4136                     6   \n",
       "Minibus (8 - 16 passenger seats)         1355                     1   \n",
       "Motorcycle 125cc and under              10485                    14   \n",
       "Motorcycle 50cc and under                5189                    13   \n",
       "Motorcycle over 125cc and up to 500cc    5225                     9   \n",
       "Motorcycle over 500cc                   17438                    44   \n",
       "Other vehicle                            3845                    11   \n",
       "Pedal cycle                               138                     0   \n",
       "Ridden horse                                3                     0   \n",
       "Taxi/Private hire car                    9014                    13   \n",
       "Van / Goods 3.5 tonnes mgw or under     23082                    49   \n",
       "\n",
       "Road_Surface_Conditions                Frost or ice  Snow  \\\n",
       "Vehicle_Type                                                \n",
       "Agricultural vehicle                             59    24   \n",
       "Bus or coach (17 or more pass seats)            646   214   \n",
       "Car                                           14108  4483   \n",
       "Data missing or out of range                      1     0   \n",
       "Goods 7.5 tonnes mgw and over                   432   147   \n",
       "Goods over 3.5t. and under 7.5t                 162    51   \n",
       "Minibus (8 - 16 passenger seats)                 40    16   \n",
       "Motorcycle 125cc and under                      420   128   \n",
       "Motorcycle 50cc and under                       224    77   \n",
       "Motorcycle over 125cc and up to 500cc           204    71   \n",
       "Motorcycle over 500cc                           689   226   \n",
       "Other vehicle                                   166    46   \n",
       "Pedal cycle                                      10     2   \n",
       "Ridden horse                                      0     0   \n",
       "Taxi/Private hire car                           384   122   \n",
       "Van / Goods 3.5 tonnes mgw or under             972   283   \n",
       "\n",
       "Road_Surface_Conditions                Unknown road condition  Wet or damp  \n",
       "Vehicle_Type                                                                \n",
       "Agricultural vehicle                                        1          552  \n",
       "Bus or coach (17 or more pass seats)                       19         7355  \n",
       "Car                                                       549       140764  \n",
       "Data missing or out of range                                0            2  \n",
       "Goods 7.5 tonnes mgw and over                              18         4988  \n",
       "Goods over 3.5t. and under 7.5t                             2         1739  \n",
       "Minibus (8 - 16 passenger seats)                            1          563  \n",
       "Motorcycle 125cc and under                                 30         4192  \n",
       "Motorcycle 50cc and under                                  11         2089  \n",
       "Motorcycle over 125cc and up to 500cc                       8         2139  \n",
       "Motorcycle over 500cc                                      27         7233  \n",
       "Other vehicle                                               8         1561  \n",
       "Pedal cycle                                                 0           47  \n",
       "Ridden horse                                                0            1  \n",
       "Taxi/Private hire car                                      10         3751  \n",
       "Van / Goods 3.5 tonnes mgw or under                        42         9732  "
      ]
     },
     "execution_count": 93,
     "metadata": {},
     "output_type": "execute_result"
    }
   ],
   "source": [
    "vehicle_road_surface"
   ]
  },
  {
   "cell_type": "markdown",
   "metadata": {},
   "source": [
    "<h4>Insight on Vehicle Type & Road Surface Conditions</h4>\n",
    "<ol>\n",
    "    <li><b>Cars dominate accidents:</b> The highest number of accidents occur with cars, especially on dry (337,311) and wet roads (140,764).</li>\n",
    "    <li><b>Motorcycles & poor surfaces:</b> Motorcycles have significant accidents on icy (420-689) and wet roads (4,192-7,233), highlighting their vulnerability.</li>\n",
    "    <li><b>Buses & larger vehicles:</b> Buses and heavy goods vehicles show notable accidents on wet roads (7,355 for buses, 4,988 for heavy goods).</li>\n",
    "</ol>\n",
    "\n",
    "<p><b>Insight:</b> While most accidents occur on dry roads, wet and icy conditions significantly"
   ]
  },
  {
   "cell_type": "markdown",
   "metadata": {},
   "source": [
    "# Q16: What is the relationship between vehicle type and light conditions during accidents?"
   ]
  },
  {
   "cell_type": "code",
   "execution_count": 106,
   "metadata": {},
   "outputs": [],
   "source": [
    "vehicle_light = eda_data.groupby(['Vehicle_Type', 'Light_Conditions']).size().unstack()"
   ]
  },
  {
   "cell_type": "code",
   "execution_count": 107,
   "metadata": {},
   "outputs": [
    {
     "data": {
      "text/html": [
       "<div>\n",
       "<style scoped>\n",
       "    .dataframe tbody tr th:only-of-type {\n",
       "        vertical-align: middle;\n",
       "    }\n",
       "\n",
       "    .dataframe tbody tr th {\n",
       "        vertical-align: top;\n",
       "    }\n",
       "\n",
       "    .dataframe thead th {\n",
       "        text-align: right;\n",
       "    }\n",
       "</style>\n",
       "<table border=\"1\" class=\"dataframe\">\n",
       "  <thead>\n",
       "    <tr style=\"text-align: right;\">\n",
       "      <th>Light_Conditions</th>\n",
       "      <th>Darkness - lighting unknown</th>\n",
       "      <th>Darkness - lights lit</th>\n",
       "      <th>Darkness - lights unlit</th>\n",
       "      <th>Darkness - no lighting</th>\n",
       "      <th>Daylight</th>\n",
       "    </tr>\n",
       "    <tr>\n",
       "      <th>Vehicle_Type</th>\n",
       "      <th></th>\n",
       "      <th></th>\n",
       "      <th></th>\n",
       "      <th></th>\n",
       "      <th></th>\n",
       "    </tr>\n",
       "  </thead>\n",
       "  <tbody>\n",
       "    <tr>\n",
       "      <th>Agricultural vehicle</th>\n",
       "      <td>19</td>\n",
       "      <td>365</td>\n",
       "      <td>7</td>\n",
       "      <td>113</td>\n",
       "      <td>1443</td>\n",
       "    </tr>\n",
       "    <tr>\n",
       "      <th>Bus or coach (17 or more pass seats)</th>\n",
       "      <td>267</td>\n",
       "      <td>5142</td>\n",
       "      <td>112</td>\n",
       "      <td>1427</td>\n",
       "      <td>18930</td>\n",
       "    </tr>\n",
       "    <tr>\n",
       "      <th>Car</th>\n",
       "      <td>4914</td>\n",
       "      <td>96994</td>\n",
       "      <td>1933</td>\n",
       "      <td>28385</td>\n",
       "      <td>365766</td>\n",
       "    </tr>\n",
       "    <tr>\n",
       "      <th>Data missing or out of range</th>\n",
       "      <td>0</td>\n",
       "      <td>1</td>\n",
       "      <td>0</td>\n",
       "      <td>0</td>\n",
       "      <td>5</td>\n",
       "    </tr>\n",
       "    <tr>\n",
       "      <th>Goods 7.5 tonnes mgw and over</th>\n",
       "      <td>185</td>\n",
       "      <td>3440</td>\n",
       "      <td>67</td>\n",
       "      <td>963</td>\n",
       "      <td>12652</td>\n",
       "    </tr>\n",
       "    <tr>\n",
       "      <th>Goods over 3.5t. and under 7.5t</th>\n",
       "      <td>59</td>\n",
       "      <td>1192</td>\n",
       "      <td>16</td>\n",
       "      <td>367</td>\n",
       "      <td>4462</td>\n",
       "    </tr>\n",
       "    <tr>\n",
       "      <th>Minibus (8 - 16 passenger seats)</th>\n",
       "      <td>20</td>\n",
       "      <td>347</td>\n",
       "      <td>4</td>\n",
       "      <td>121</td>\n",
       "      <td>1484</td>\n",
       "    </tr>\n",
       "    <tr>\n",
       "      <th>Motorcycle 125cc and under</th>\n",
       "      <td>136</td>\n",
       "      <td>3074</td>\n",
       "      <td>50</td>\n",
       "      <td>794</td>\n",
       "      <td>11215</td>\n",
       "    </tr>\n",
       "    <tr>\n",
       "      <th>Motorcycle 50cc and under</th>\n",
       "      <td>68</td>\n",
       "      <td>1494</td>\n",
       "      <td>26</td>\n",
       "      <td>424</td>\n",
       "      <td>5591</td>\n",
       "    </tr>\n",
       "    <tr>\n",
       "      <th>Motorcycle over 125cc and up to 500cc</th>\n",
       "      <td>86</td>\n",
       "      <td>1480</td>\n",
       "      <td>25</td>\n",
       "      <td>447</td>\n",
       "      <td>5618</td>\n",
       "    </tr>\n",
       "    <tr>\n",
       "      <th>Motorcycle over 500cc</th>\n",
       "      <td>228</td>\n",
       "      <td>5176</td>\n",
       "      <td>88</td>\n",
       "      <td>1428</td>\n",
       "      <td>18737</td>\n",
       "    </tr>\n",
       "    <tr>\n",
       "      <th>Other vehicle</th>\n",
       "      <td>57</td>\n",
       "      <td>1126</td>\n",
       "      <td>23</td>\n",
       "      <td>299</td>\n",
       "      <td>4132</td>\n",
       "    </tr>\n",
       "    <tr>\n",
       "      <th>Pedal cycle</th>\n",
       "      <td>2</td>\n",
       "      <td>39</td>\n",
       "      <td>2</td>\n",
       "      <td>8</td>\n",
       "      <td>146</td>\n",
       "    </tr>\n",
       "    <tr>\n",
       "      <th>Ridden horse</th>\n",
       "      <td>0</td>\n",
       "      <td>1</td>\n",
       "      <td>0</td>\n",
       "      <td>0</td>\n",
       "      <td>3</td>\n",
       "    </tr>\n",
       "    <tr>\n",
       "      <th>Taxi/Private hire car</th>\n",
       "      <td>131</td>\n",
       "      <td>2658</td>\n",
       "      <td>49</td>\n",
       "      <td>704</td>\n",
       "      <td>9752</td>\n",
       "    </tr>\n",
       "    <tr>\n",
       "      <th>Van / Goods 3.5 tonnes mgw or under</th>\n",
       "      <td>312</td>\n",
       "      <td>6806</td>\n",
       "      <td>141</td>\n",
       "      <td>1957</td>\n",
       "      <td>24944</td>\n",
       "    </tr>\n",
       "  </tbody>\n",
       "</table>\n",
       "</div>"
      ],
      "text/plain": [
       "Light_Conditions                       Darkness - lighting unknown  \\\n",
       "Vehicle_Type                                                         \n",
       "Agricultural vehicle                                            19   \n",
       "Bus or coach (17 or more pass seats)                           267   \n",
       "Car                                                           4914   \n",
       "Data missing or out of range                                     0   \n",
       "Goods 7.5 tonnes mgw and over                                  185   \n",
       "Goods over 3.5t. and under 7.5t                                 59   \n",
       "Minibus (8 - 16 passenger seats)                                20   \n",
       "Motorcycle 125cc and under                                     136   \n",
       "Motorcycle 50cc and under                                       68   \n",
       "Motorcycle over 125cc and up to 500cc                           86   \n",
       "Motorcycle over 500cc                                          228   \n",
       "Other vehicle                                                   57   \n",
       "Pedal cycle                                                      2   \n",
       "Ridden horse                                                     0   \n",
       "Taxi/Private hire car                                          131   \n",
       "Van / Goods 3.5 tonnes mgw or under                            312   \n",
       "\n",
       "Light_Conditions                       Darkness - lights lit  \\\n",
       "Vehicle_Type                                                   \n",
       "Agricultural vehicle                                     365   \n",
       "Bus or coach (17 or more pass seats)                    5142   \n",
       "Car                                                    96994   \n",
       "Data missing or out of range                               1   \n",
       "Goods 7.5 tonnes mgw and over                           3440   \n",
       "Goods over 3.5t. and under 7.5t                         1192   \n",
       "Minibus (8 - 16 passenger seats)                         347   \n",
       "Motorcycle 125cc and under                              3074   \n",
       "Motorcycle 50cc and under                               1494   \n",
       "Motorcycle over 125cc and up to 500cc                   1480   \n",
       "Motorcycle over 500cc                                   5176   \n",
       "Other vehicle                                           1126   \n",
       "Pedal cycle                                               39   \n",
       "Ridden horse                                               1   \n",
       "Taxi/Private hire car                                   2658   \n",
       "Van / Goods 3.5 tonnes mgw or under                     6806   \n",
       "\n",
       "Light_Conditions                       Darkness - lights unlit  \\\n",
       "Vehicle_Type                                                     \n",
       "Agricultural vehicle                                         7   \n",
       "Bus or coach (17 or more pass seats)                       112   \n",
       "Car                                                       1933   \n",
       "Data missing or out of range                                 0   \n",
       "Goods 7.5 tonnes mgw and over                               67   \n",
       "Goods over 3.5t. and under 7.5t                             16   \n",
       "Minibus (8 - 16 passenger seats)                             4   \n",
       "Motorcycle 125cc and under                                  50   \n",
       "Motorcycle 50cc and under                                   26   \n",
       "Motorcycle over 125cc and up to 500cc                       25   \n",
       "Motorcycle over 500cc                                       88   \n",
       "Other vehicle                                               23   \n",
       "Pedal cycle                                                  2   \n",
       "Ridden horse                                                 0   \n",
       "Taxi/Private hire car                                       49   \n",
       "Van / Goods 3.5 tonnes mgw or under                        141   \n",
       "\n",
       "Light_Conditions                       Darkness - no lighting  Daylight  \n",
       "Vehicle_Type                                                             \n",
       "Agricultural vehicle                                      113      1443  \n",
       "Bus or coach (17 or more pass seats)                     1427     18930  \n",
       "Car                                                     28385    365766  \n",
       "Data missing or out of range                                0         5  \n",
       "Goods 7.5 tonnes mgw and over                             963     12652  \n",
       "Goods over 3.5t. and under 7.5t                           367      4462  \n",
       "Minibus (8 - 16 passenger seats)                          121      1484  \n",
       "Motorcycle 125cc and under                                794     11215  \n",
       "Motorcycle 50cc and under                                 424      5591  \n",
       "Motorcycle over 125cc and up to 500cc                     447      5618  \n",
       "Motorcycle over 500cc                                    1428     18737  \n",
       "Other vehicle                                             299      4132  \n",
       "Pedal cycle                                                 8       146  \n",
       "Ridden horse                                                0         3  \n",
       "Taxi/Private hire car                                     704      9752  \n",
       "Van / Goods 3.5 tonnes mgw or under                      1957     24944  "
      ]
     },
     "execution_count": 107,
     "metadata": {},
     "output_type": "execute_result"
    }
   ],
   "source": [
    "vehicle_light"
   ]
  },
  {
   "cell_type": "code",
   "execution_count": 115,
   "metadata": {},
   "outputs": [],
   "source": [
    "test_eda_data = eda_data.copy()\n",
    "\n",
    "severity_district_road = test_eda_data.groupby(['District Area', 'Road_Type'])['Accident_Severity'].size().unstack()\n",
    "severity_district_road['Total'] = severity_district_road.sum(axis=1)  # Create a total count column\n",
    "severity_district_road = severity_district_road.sort_values(by='Total', ascending=False)  # Sort by total accidents\n"
   ]
  },
  {
   "cell_type": "code",
   "execution_count": 117,
   "metadata": {},
   "outputs": [
    {
     "data": {
      "text/html": [
       "<div>\n",
       "<style scoped>\n",
       "    .dataframe tbody tr th:only-of-type {\n",
       "        vertical-align: middle;\n",
       "    }\n",
       "\n",
       "    .dataframe tbody tr th {\n",
       "        vertical-align: top;\n",
       "    }\n",
       "\n",
       "    .dataframe thead th {\n",
       "        text-align: right;\n",
       "    }\n",
       "</style>\n",
       "<table border=\"1\" class=\"dataframe\">\n",
       "  <thead>\n",
       "    <tr style=\"text-align: right;\">\n",
       "      <th>Road_Type</th>\n",
       "      <th>Dual carriageway</th>\n",
       "      <th>One way street</th>\n",
       "      <th>Roundabout</th>\n",
       "      <th>Single carriageway</th>\n",
       "      <th>Slip road</th>\n",
       "      <th>Unaccounted</th>\n",
       "      <th>Total</th>\n",
       "    </tr>\n",
       "    <tr>\n",
       "      <th>District Area</th>\n",
       "      <th></th>\n",
       "      <th></th>\n",
       "      <th></th>\n",
       "      <th></th>\n",
       "      <th></th>\n",
       "      <th></th>\n",
       "      <th></th>\n",
       "    </tr>\n",
       "  </thead>\n",
       "  <tbody>\n",
       "    <tr>\n",
       "      <th>Birmingham</th>\n",
       "      <td>3039</td>\n",
       "      <td>321</td>\n",
       "      <td>1008</td>\n",
       "      <td>9018</td>\n",
       "      <td>98</td>\n",
       "      <td>7</td>\n",
       "      <td>13491</td>\n",
       "    </tr>\n",
       "    <tr>\n",
       "      <th>Leeds</th>\n",
       "      <td>1900</td>\n",
       "      <td>207</td>\n",
       "      <td>432</td>\n",
       "      <td>6152</td>\n",
       "      <td>161</td>\n",
       "      <td>46</td>\n",
       "      <td>8898</td>\n",
       "    </tr>\n",
       "    <tr>\n",
       "      <th>Manchester</th>\n",
       "      <td>1181</td>\n",
       "      <td>170</td>\n",
       "      <td>189</td>\n",
       "      <td>4908</td>\n",
       "      <td>59</td>\n",
       "      <td>213</td>\n",
       "      <td>6720</td>\n",
       "    </tr>\n",
       "    <tr>\n",
       "      <th>Bradford</th>\n",
       "      <td>707</td>\n",
       "      <td>53</td>\n",
       "      <td>231</td>\n",
       "      <td>5155</td>\n",
       "      <td>36</td>\n",
       "      <td>30</td>\n",
       "      <td>6212</td>\n",
       "    </tr>\n",
       "    <tr>\n",
       "      <th>Sheffield</th>\n",
       "      <td>1035</td>\n",
       "      <td>137</td>\n",
       "      <td>387</td>\n",
       "      <td>4060</td>\n",
       "      <td>41</td>\n",
       "      <td>50</td>\n",
       "      <td>5710</td>\n",
       "    </tr>\n",
       "    <tr>\n",
       "      <th>Westminster</th>\n",
       "      <td>830</td>\n",
       "      <td>367</td>\n",
       "      <td>141</td>\n",
       "      <td>4351</td>\n",
       "      <td>6</td>\n",
       "      <td>11</td>\n",
       "      <td>5706</td>\n",
       "    </tr>\n",
       "    <tr>\n",
       "      <th>Liverpool</th>\n",
       "      <td>1801</td>\n",
       "      <td>154</td>\n",
       "      <td>173</td>\n",
       "      <td>3403</td>\n",
       "      <td>34</td>\n",
       "      <td>22</td>\n",
       "      <td>5587</td>\n",
       "    </tr>\n",
       "    <tr>\n",
       "      <th>Glasgow City</th>\n",
       "      <td>1585</td>\n",
       "      <td>366</td>\n",
       "      <td>133</td>\n",
       "      <td>2700</td>\n",
       "      <td>88</td>\n",
       "      <td>70</td>\n",
       "      <td>4942</td>\n",
       "    </tr>\n",
       "    <tr>\n",
       "      <th>Bristol, City of</th>\n",
       "      <td>441</td>\n",
       "      <td>177</td>\n",
       "      <td>353</td>\n",
       "      <td>3797</td>\n",
       "      <td>40</td>\n",
       "      <td>11</td>\n",
       "      <td>4819</td>\n",
       "    </tr>\n",
       "    <tr>\n",
       "      <th>Kirklees</th>\n",
       "      <td>574</td>\n",
       "      <td>82</td>\n",
       "      <td>127</td>\n",
       "      <td>3855</td>\n",
       "      <td>37</td>\n",
       "      <td>15</td>\n",
       "      <td>4690</td>\n",
       "    </tr>\n",
       "  </tbody>\n",
       "</table>\n",
       "</div>"
      ],
      "text/plain": [
       "Road_Type         Dual carriageway  One way street  Roundabout  \\\n",
       "District Area                                                    \n",
       "Birmingham                    3039             321        1008   \n",
       "Leeds                         1900             207         432   \n",
       "Manchester                    1181             170         189   \n",
       "Bradford                       707              53         231   \n",
       "Sheffield                     1035             137         387   \n",
       "Westminster                    830             367         141   \n",
       "Liverpool                     1801             154         173   \n",
       "Glasgow City                  1585             366         133   \n",
       "Bristol, City of               441             177         353   \n",
       "Kirklees                       574              82         127   \n",
       "\n",
       "Road_Type         Single carriageway  Slip road  Unaccounted  Total  \n",
       "District Area                                                        \n",
       "Birmingham                      9018         98            7  13491  \n",
       "Leeds                           6152        161           46   8898  \n",
       "Manchester                      4908         59          213   6720  \n",
       "Bradford                        5155         36           30   6212  \n",
       "Sheffield                       4060         41           50   5710  \n",
       "Westminster                     4351          6           11   5706  \n",
       "Liverpool                       3403         34           22   5587  \n",
       "Glasgow City                    2700         88           70   4942  \n",
       "Bristol, City of                3797         40           11   4819  \n",
       "Kirklees                        3855         37           15   4690  "
      ]
     },
     "execution_count": 117,
     "metadata": {},
     "output_type": "execute_result"
    }
   ],
   "source": [
    "severity_district_road.head(10)"
   ]
  },
  {
   "cell_type": "markdown",
   "metadata": {},
   "source": [
    "<h4>Insight on  Accidents by District & Road Type</h4>\n",
    "<ol>\n",
    "    <li><b>Birmingham leads with the highest accidents (13,491):</b> Single carriageways (9,018) are the most dangerous.</li>\n",
    "    <li><b>Leeds (8,898) and Manchester (6,720) follow:</b> Single carriageways account for most accidents.</li>\n",
    "    <li><b>Westminster stands out:</b> More accidents on one-way streets (367) compared to other districts.</li>\n",
    "</ol>\n",
    "\n",
    "<p><b>Insight:</b> Single carriageways consistently have the most accidents across districts, especially in Birmingham.</p>\n"
   ]
  },
  {
   "cell_type": "code",
   "execution_count": null,
   "metadata": {},
   "outputs": [],
   "source": []
  },
  {
   "cell_type": "markdown",
   "metadata": {},
   "source": [
    "# Q17: Are accidents more severe on weekends or weekdays?\n"
   ]
  },
  {
   "cell_type": "code",
   "execution_count": 124,
   "metadata": {},
   "outputs": [
    {
     "data": {
      "text/plain": [
       "Index(['Index', 'Accident_Severity', 'Accident Date', 'Latitude',\n",
       "       'Light_Conditions', 'District Area', 'Longitude',\n",
       "       'Number_of_Casualties', 'Number_of_Vehicles', 'Road_Surface_Conditions',\n",
       "       'Road_Type', 'Urban_or_Rural_Area', 'Weather_Conditions',\n",
       "       'Vehicle_Type', 'Year', 'Month', 'Day'],\n",
       "      dtype='object')"
      ]
     },
     "execution_count": 124,
     "metadata": {},
     "output_type": "execute_result"
    }
   ],
   "source": [
    "eda_data.columns"
   ]
  },
  {
   "cell_type": "code",
   "execution_count": 130,
   "metadata": {},
   "outputs": [
    {
     "data": {
      "text/html": [
       "<div>\n",
       "<style scoped>\n",
       "    .dataframe tbody tr th:only-of-type {\n",
       "        vertical-align: middle;\n",
       "    }\n",
       "\n",
       "    .dataframe tbody tr th {\n",
       "        vertical-align: top;\n",
       "    }\n",
       "\n",
       "    .dataframe thead th {\n",
       "        text-align: right;\n",
       "    }\n",
       "</style>\n",
       "<table border=\"1\" class=\"dataframe\">\n",
       "  <thead>\n",
       "    <tr style=\"text-align: right;\">\n",
       "      <th>Accident_Severity</th>\n",
       "      <th>Fatal</th>\n",
       "      <th>Serious</th>\n",
       "      <th>Slight</th>\n",
       "    </tr>\n",
       "    <tr>\n",
       "      <th>dayofweek</th>\n",
       "      <th></th>\n",
       "      <th></th>\n",
       "      <th></th>\n",
       "    </tr>\n",
       "  </thead>\n",
       "  <tbody>\n",
       "    <tr>\n",
       "      <th>0</th>\n",
       "      <td>1385</td>\n",
       "      <td>11664</td>\n",
       "      <td>59631</td>\n",
       "    </tr>\n",
       "    <tr>\n",
       "      <th>1</th>\n",
       "      <td>1105</td>\n",
       "      <td>11918</td>\n",
       "      <td>81527</td>\n",
       "    </tr>\n",
       "    <tr>\n",
       "      <th>2</th>\n",
       "      <td>1113</td>\n",
       "      <td>12488</td>\n",
       "      <td>85957</td>\n",
       "    </tr>\n",
       "    <tr>\n",
       "      <th>3</th>\n",
       "      <td>1097</td>\n",
       "      <td>12440</td>\n",
       "      <td>85974</td>\n",
       "    </tr>\n",
       "    <tr>\n",
       "      <th>4</th>\n",
       "      <td>1113</td>\n",
       "      <td>12633</td>\n",
       "      <td>84154</td>\n",
       "    </tr>\n",
       "    <tr>\n",
       "      <th>5</th>\n",
       "      <td>1326</td>\n",
       "      <td>14000</td>\n",
       "      <td>91852</td>\n",
       "    </tr>\n",
       "    <tr>\n",
       "      <th>6</th>\n",
       "      <td>1522</td>\n",
       "      <td>13074</td>\n",
       "      <td>74706</td>\n",
       "    </tr>\n",
       "  </tbody>\n",
       "</table>\n",
       "</div>"
      ],
      "text/plain": [
       "Accident_Severity  Fatal  Serious  Slight\n",
       "dayofweek                                \n",
       "0                   1385    11664   59631\n",
       "1                   1105    11918   81527\n",
       "2                   1113    12488   85957\n",
       "3                   1097    12440   85974\n",
       "4                   1113    12633   84154\n",
       "5                   1326    14000   91852\n",
       "6                   1522    13074   74706"
      ]
     },
     "execution_count": 130,
     "metadata": {},
     "output_type": "execute_result"
    }
   ],
   "source": [
    "eda_data['dayofweek'] = eda_data['Accident Date'].dt.dayofweek\n",
    "eda_data.groupby(['dayofweek','Accident_Severity']).size().unstack()\n"
   ]
  },
  {
   "cell_type": "markdown",
   "metadata": {},
   "source": [
    "<h4>Insight on Accidents by Day of the Week</h4>\n",
    "<ol>\n",
    "    <li><b>Weekends (Saturday & Sunday):</b> Higher fatal accidents, peaking on Saturday (1,522).</li>\n",
    "    <li><b>Weekdays:</b> Higher total accident counts, with slight injuries peaking on Friday (84,154).</li>\n",
    "    <li><b>Saturday:</b> Stands out with both high fatalities (1,522) and serious injuries (13,074).</li>\n",
    "</ol>\n",
    "\n",
    "<p><b>Insight:</b> Fatal accidents are more frequent on weekends, while slight accidents are higher on weekdays, likely due to weekday commuting patterns.</p>\n"
   ]
  },
  {
   "cell_type": "markdown",
   "metadata": {},
   "source": [
    "# Q18:"
   ]
  },
  {
   "cell_type": "markdown",
   "metadata": {},
   "source": []
  }
 ],
 "metadata": {
  "kernelspec": {
   "display_name": "Python 3 (ipykernel)",
   "language": "python",
   "name": "python3"
  },
  "language_info": {
   "codemirror_mode": {
    "name": "ipython",
    "version": 3
   },
   "file_extension": ".py",
   "mimetype": "text/x-python",
   "name": "python",
   "nbconvert_exporter": "python",
   "pygments_lexer": "ipython3",
   "version": "3.11.4"
  }
 },
 "nbformat": 4,
 "nbformat_minor": 4
}
