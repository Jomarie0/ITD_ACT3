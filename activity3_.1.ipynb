{
 "cells": [
  {
   "cell_type": "markdown",
   "metadata": {},
   "source": [
    "<h1>UK Road Accident Analysis</h1>\n",
    "<h3>Analyst: Jomarie Roperez</h3>"
   ]
  },
  {
   "cell_type": "markdown",
   "metadata": {},
   "source": [
    "<h1><strong>STEP 1:</strong> Import necessary libraries</h1>"
   ]
  },
  {
   "cell_type": "code",
   "execution_count": 1,
   "metadata": {},
   "outputs": [],
   "source": [
    "import pandas as pd\n",
    "import numpy as np\n",
    "from scipy.stats import f_oneway\n",
    "\n",
    "import matplotlib.pyplot as plt\n",
    "import seaborn as sns"
   ]
  },
  {
   "cell_type": "markdown",
   "metadata": {},
   "source": [
    "<h1><strong>STEP 1.1:</strong>Load dataset</h1>"
   ]
  },
  {
   "cell_type": "code",
   "execution_count": 2,
   "metadata": {},
   "outputs": [],
   "source": [
    "uk_accident_data = pd.read_csv('datasets\\\\accident_data.csv')"
   ]
  },
  {
   "cell_type": "markdown",
   "metadata": {},
   "source": []
  },
  {
   "cell_type": "markdown",
   "metadata": {},
   "source": [
    "<h1><strong>STEP 1.2:</strong>Create a copy for EDA (Preserve the original dataset)</h1>"
   ]
  },
  {
   "cell_type": "code",
   "execution_count": 3,
   "metadata": {},
   "outputs": [],
   "source": [
    "eda_data = uk_accident_data.copy()\n"
   ]
  },
  {
   "cell_type": "code",
   "execution_count": 4,
   "metadata": {},
   "outputs": [
    {
     "data": {
      "text/html": [
       "<div>\n",
       "<style scoped>\n",
       "    .dataframe tbody tr th:only-of-type {\n",
       "        vertical-align: middle;\n",
       "    }\n",
       "\n",
       "    .dataframe tbody tr th {\n",
       "        vertical-align: top;\n",
       "    }\n",
       "\n",
       "    .dataframe thead th {\n",
       "        text-align: right;\n",
       "    }\n",
       "</style>\n",
       "<table border=\"1\" class=\"dataframe\">\n",
       "  <thead>\n",
       "    <tr style=\"text-align: right;\">\n",
       "      <th></th>\n",
       "      <th>Index</th>\n",
       "      <th>Accident_Severity</th>\n",
       "      <th>Accident Date</th>\n",
       "      <th>Latitude</th>\n",
       "      <th>Light_Conditions</th>\n",
       "      <th>District Area</th>\n",
       "      <th>Longitude</th>\n",
       "      <th>Number_of_Casualties</th>\n",
       "      <th>Number_of_Vehicles</th>\n",
       "      <th>Road_Surface_Conditions</th>\n",
       "      <th>Road_Type</th>\n",
       "      <th>Urban_or_Rural_Area</th>\n",
       "      <th>Weather_Conditions</th>\n",
       "      <th>Vehicle_Type</th>\n",
       "    </tr>\n",
       "  </thead>\n",
       "  <tbody>\n",
       "    <tr>\n",
       "      <th>0</th>\n",
       "      <td>200701BS64157</td>\n",
       "      <td>Serious</td>\n",
       "      <td>5/6/2019</td>\n",
       "      <td>51.506187</td>\n",
       "      <td>Darkness - lights lit</td>\n",
       "      <td>Kensington and Chelsea</td>\n",
       "      <td>-0.209082</td>\n",
       "      <td>1</td>\n",
       "      <td>2</td>\n",
       "      <td>Dry</td>\n",
       "      <td>Single carriageway</td>\n",
       "      <td>Urban</td>\n",
       "      <td>Fine no high winds</td>\n",
       "      <td>Car</td>\n",
       "    </tr>\n",
       "    <tr>\n",
       "      <th>1</th>\n",
       "      <td>200701BS65737</td>\n",
       "      <td>Serious</td>\n",
       "      <td>2/7/2019</td>\n",
       "      <td>51.495029</td>\n",
       "      <td>Daylight</td>\n",
       "      <td>Kensington and Chelsea</td>\n",
       "      <td>-0.173647</td>\n",
       "      <td>1</td>\n",
       "      <td>2</td>\n",
       "      <td>Wet or damp</td>\n",
       "      <td>Single carriageway</td>\n",
       "      <td>Urban</td>\n",
       "      <td>Raining no high winds</td>\n",
       "      <td>Car</td>\n",
       "    </tr>\n",
       "    <tr>\n",
       "      <th>2</th>\n",
       "      <td>200701BS66127</td>\n",
       "      <td>Serious</td>\n",
       "      <td>26-08-2019</td>\n",
       "      <td>51.517715</td>\n",
       "      <td>Darkness - lighting unknown</td>\n",
       "      <td>Kensington and Chelsea</td>\n",
       "      <td>-0.210215</td>\n",
       "      <td>1</td>\n",
       "      <td>3</td>\n",
       "      <td>Dry</td>\n",
       "      <td>NaN</td>\n",
       "      <td>Urban</td>\n",
       "      <td>NaN</td>\n",
       "      <td>Taxi/Private hire car</td>\n",
       "    </tr>\n",
       "    <tr>\n",
       "      <th>3</th>\n",
       "      <td>200701BS66128</td>\n",
       "      <td>Serious</td>\n",
       "      <td>16-08-2019</td>\n",
       "      <td>51.495478</td>\n",
       "      <td>Daylight</td>\n",
       "      <td>Kensington and Chelsea</td>\n",
       "      <td>-0.202731</td>\n",
       "      <td>1</td>\n",
       "      <td>4</td>\n",
       "      <td>Dry</td>\n",
       "      <td>Single carriageway</td>\n",
       "      <td>Urban</td>\n",
       "      <td>Fine no high winds</td>\n",
       "      <td>Bus or coach (17 or more pass seats)</td>\n",
       "    </tr>\n",
       "    <tr>\n",
       "      <th>4</th>\n",
       "      <td>200701BS66837</td>\n",
       "      <td>Slight</td>\n",
       "      <td>3/9/2019</td>\n",
       "      <td>51.488576</td>\n",
       "      <td>Darkness - lights lit</td>\n",
       "      <td>Kensington and Chelsea</td>\n",
       "      <td>-0.192487</td>\n",
       "      <td>1</td>\n",
       "      <td>2</td>\n",
       "      <td>Dry</td>\n",
       "      <td>NaN</td>\n",
       "      <td>Urban</td>\n",
       "      <td>NaN</td>\n",
       "      <td>Other vehicle</td>\n",
       "    </tr>\n",
       "    <tr>\n",
       "      <th>...</th>\n",
       "      <td>...</td>\n",
       "      <td>...</td>\n",
       "      <td>...</td>\n",
       "      <td>...</td>\n",
       "      <td>...</td>\n",
       "      <td>...</td>\n",
       "      <td>...</td>\n",
       "      <td>...</td>\n",
       "      <td>...</td>\n",
       "      <td>...</td>\n",
       "      <td>...</td>\n",
       "      <td>...</td>\n",
       "      <td>...</td>\n",
       "      <td>...</td>\n",
       "    </tr>\n",
       "    <tr>\n",
       "      <th>660674</th>\n",
       "      <td>201091NM01760</td>\n",
       "      <td>Slight</td>\n",
       "      <td>18-02-2022</td>\n",
       "      <td>57.374005</td>\n",
       "      <td>Daylight</td>\n",
       "      <td>Highland</td>\n",
       "      <td>-3.467828</td>\n",
       "      <td>2</td>\n",
       "      <td>1</td>\n",
       "      <td>Dry</td>\n",
       "      <td>Single carriageway</td>\n",
       "      <td>Rural</td>\n",
       "      <td>Fine no high winds</td>\n",
       "      <td>Car</td>\n",
       "    </tr>\n",
       "    <tr>\n",
       "      <th>660675</th>\n",
       "      <td>201091NM01881</td>\n",
       "      <td>Slight</td>\n",
       "      <td>21-02-2022</td>\n",
       "      <td>57.232273</td>\n",
       "      <td>Darkness - no lighting</td>\n",
       "      <td>Highland</td>\n",
       "      <td>-3.809281</td>\n",
       "      <td>1</td>\n",
       "      <td>1</td>\n",
       "      <td>Frost or ice</td>\n",
       "      <td>Single carriageway</td>\n",
       "      <td>Rural</td>\n",
       "      <td>Fine no high winds</td>\n",
       "      <td>Car</td>\n",
       "    </tr>\n",
       "    <tr>\n",
       "      <th>660676</th>\n",
       "      <td>201091NM01935</td>\n",
       "      <td>Slight</td>\n",
       "      <td>23-02-2022</td>\n",
       "      <td>57.585044</td>\n",
       "      <td>Daylight</td>\n",
       "      <td>Highland</td>\n",
       "      <td>-3.862727</td>\n",
       "      <td>1</td>\n",
       "      <td>3</td>\n",
       "      <td>Frost or ice</td>\n",
       "      <td>Single carriageway</td>\n",
       "      <td>Rural</td>\n",
       "      <td>Fine no high winds</td>\n",
       "      <td>Car</td>\n",
       "    </tr>\n",
       "    <tr>\n",
       "      <th>660677</th>\n",
       "      <td>201091NM01964</td>\n",
       "      <td>Serious</td>\n",
       "      <td>23-02-2022</td>\n",
       "      <td>57.214898</td>\n",
       "      <td>Darkness - no lighting</td>\n",
       "      <td>Highland</td>\n",
       "      <td>-3.823997</td>\n",
       "      <td>1</td>\n",
       "      <td>2</td>\n",
       "      <td>Wet or damp</td>\n",
       "      <td>Single carriageway</td>\n",
       "      <td>Rural</td>\n",
       "      <td>Fine no high winds</td>\n",
       "      <td>Motorcycle over 500cc</td>\n",
       "    </tr>\n",
       "    <tr>\n",
       "      <th>660678</th>\n",
       "      <td>201091NM02142</td>\n",
       "      <td>Serious</td>\n",
       "      <td>28-02-2022</td>\n",
       "      <td>57.575210</td>\n",
       "      <td>Daylight</td>\n",
       "      <td>Highland</td>\n",
       "      <td>-3.895673</td>\n",
       "      <td>1</td>\n",
       "      <td>1</td>\n",
       "      <td>Wet or damp</td>\n",
       "      <td>Dual carriageway</td>\n",
       "      <td>Rural</td>\n",
       "      <td>Snowing no high winds</td>\n",
       "      <td>Car</td>\n",
       "    </tr>\n",
       "  </tbody>\n",
       "</table>\n",
       "<p>660679 rows × 14 columns</p>\n",
       "</div>"
      ],
      "text/plain": [
       "                Index Accident_Severity Accident Date   Latitude  \\\n",
       "0       200701BS64157           Serious      5/6/2019  51.506187   \n",
       "1       200701BS65737           Serious      2/7/2019  51.495029   \n",
       "2       200701BS66127           Serious    26-08-2019  51.517715   \n",
       "3       200701BS66128           Serious    16-08-2019  51.495478   \n",
       "4       200701BS66837            Slight      3/9/2019  51.488576   \n",
       "...               ...               ...           ...        ...   \n",
       "660674  201091NM01760            Slight    18-02-2022  57.374005   \n",
       "660675  201091NM01881            Slight    21-02-2022  57.232273   \n",
       "660676  201091NM01935            Slight    23-02-2022  57.585044   \n",
       "660677  201091NM01964           Serious    23-02-2022  57.214898   \n",
       "660678  201091NM02142           Serious    28-02-2022  57.575210   \n",
       "\n",
       "                   Light_Conditions           District Area  Longitude  \\\n",
       "0             Darkness - lights lit  Kensington and Chelsea  -0.209082   \n",
       "1                          Daylight  Kensington and Chelsea  -0.173647   \n",
       "2       Darkness - lighting unknown  Kensington and Chelsea  -0.210215   \n",
       "3                          Daylight  Kensington and Chelsea  -0.202731   \n",
       "4             Darkness - lights lit  Kensington and Chelsea  -0.192487   \n",
       "...                             ...                     ...        ...   \n",
       "660674                     Daylight                Highland  -3.467828   \n",
       "660675       Darkness - no lighting                Highland  -3.809281   \n",
       "660676                     Daylight                Highland  -3.862727   \n",
       "660677       Darkness - no lighting                Highland  -3.823997   \n",
       "660678                     Daylight                Highland  -3.895673   \n",
       "\n",
       "        Number_of_Casualties  Number_of_Vehicles Road_Surface_Conditions  \\\n",
       "0                          1                   2                     Dry   \n",
       "1                          1                   2             Wet or damp   \n",
       "2                          1                   3                     Dry   \n",
       "3                          1                   4                     Dry   \n",
       "4                          1                   2                     Dry   \n",
       "...                      ...                 ...                     ...   \n",
       "660674                     2                   1                     Dry   \n",
       "660675                     1                   1            Frost or ice   \n",
       "660676                     1                   3            Frost or ice   \n",
       "660677                     1                   2             Wet or damp   \n",
       "660678                     1                   1             Wet or damp   \n",
       "\n",
       "                 Road_Type Urban_or_Rural_Area     Weather_Conditions  \\\n",
       "0       Single carriageway               Urban     Fine no high winds   \n",
       "1       Single carriageway               Urban  Raining no high winds   \n",
       "2                      NaN               Urban                    NaN   \n",
       "3       Single carriageway               Urban     Fine no high winds   \n",
       "4                      NaN               Urban                    NaN   \n",
       "...                    ...                 ...                    ...   \n",
       "660674  Single carriageway               Rural     Fine no high winds   \n",
       "660675  Single carriageway               Rural     Fine no high winds   \n",
       "660676  Single carriageway               Rural     Fine no high winds   \n",
       "660677  Single carriageway               Rural     Fine no high winds   \n",
       "660678    Dual carriageway               Rural  Snowing no high winds   \n",
       "\n",
       "                                Vehicle_Type  \n",
       "0                                        Car  \n",
       "1                                        Car  \n",
       "2                      Taxi/Private hire car  \n",
       "3       Bus or coach (17 or more pass seats)  \n",
       "4                              Other vehicle  \n",
       "...                                      ...  \n",
       "660674                                   Car  \n",
       "660675                                   Car  \n",
       "660676                                   Car  \n",
       "660677                 Motorcycle over 500cc  \n",
       "660678                                   Car  \n",
       "\n",
       "[660679 rows x 14 columns]"
      ]
     },
     "execution_count": 4,
     "metadata": {},
     "output_type": "execute_result"
    }
   ],
   "source": [
    "eda_data"
   ]
  },
  {
   "cell_type": "code",
   "execution_count": 5,
   "metadata": {},
   "outputs": [
    {
     "name": "stdout",
     "output_type": "stream",
     "text": [
      "<class 'pandas.core.frame.DataFrame'>\n",
      "RangeIndex: 660679 entries, 0 to 660678\n",
      "Data columns (total 14 columns):\n",
      " #   Column                   Non-Null Count   Dtype  \n",
      "---  ------                   --------------   -----  \n",
      " 0   Index                    660679 non-null  object \n",
      " 1   Accident_Severity        660679 non-null  object \n",
      " 2   Accident Date            660679 non-null  object \n",
      " 3   Latitude                 660654 non-null  float64\n",
      " 4   Light_Conditions         660679 non-null  object \n",
      " 5   District Area            660679 non-null  object \n",
      " 6   Longitude                660653 non-null  float64\n",
      " 7   Number_of_Casualties     660679 non-null  int64  \n",
      " 8   Number_of_Vehicles       660679 non-null  int64  \n",
      " 9   Road_Surface_Conditions  659953 non-null  object \n",
      " 10  Road_Type                656159 non-null  object \n",
      " 11  Urban_or_Rural_Area      660664 non-null  object \n",
      " 12  Weather_Conditions       646551 non-null  object \n",
      " 13  Vehicle_Type             660679 non-null  object \n",
      "dtypes: float64(2), int64(2), object(10)\n",
      "memory usage: 70.6+ MB\n"
     ]
    }
   ],
   "source": [
    "eda_data.info()"
   ]
  },
  {
   "cell_type": "code",
   "execution_count": 6,
   "metadata": {},
   "outputs": [
    {
     "data": {
      "text/html": [
       "<div>\n",
       "<style scoped>\n",
       "    .dataframe tbody tr th:only-of-type {\n",
       "        vertical-align: middle;\n",
       "    }\n",
       "\n",
       "    .dataframe tbody tr th {\n",
       "        vertical-align: top;\n",
       "    }\n",
       "\n",
       "    .dataframe thead th {\n",
       "        text-align: right;\n",
       "    }\n",
       "</style>\n",
       "<table border=\"1\" class=\"dataframe\">\n",
       "  <thead>\n",
       "    <tr style=\"text-align: right;\">\n",
       "      <th></th>\n",
       "      <th>count</th>\n",
       "      <th>mean</th>\n",
       "      <th>std</th>\n",
       "      <th>min</th>\n",
       "      <th>25%</th>\n",
       "      <th>50%</th>\n",
       "      <th>75%</th>\n",
       "      <th>max</th>\n",
       "    </tr>\n",
       "  </thead>\n",
       "  <tbody>\n",
       "    <tr>\n",
       "      <th>Latitude</th>\n",
       "      <td>660654.0</td>\n",
       "      <td>52.553866</td>\n",
       "      <td>1.406922</td>\n",
       "      <td>49.914430</td>\n",
       "      <td>51.490690</td>\n",
       "      <td>52.315641</td>\n",
       "      <td>53.453452</td>\n",
       "      <td>60.757544</td>\n",
       "    </tr>\n",
       "    <tr>\n",
       "      <th>Longitude</th>\n",
       "      <td>660653.0</td>\n",
       "      <td>-1.431210</td>\n",
       "      <td>1.383330</td>\n",
       "      <td>-7.516225</td>\n",
       "      <td>-2.332291</td>\n",
       "      <td>-1.411667</td>\n",
       "      <td>-0.232869</td>\n",
       "      <td>1.762010</td>\n",
       "    </tr>\n",
       "    <tr>\n",
       "      <th>Number_of_Casualties</th>\n",
       "      <td>660679.0</td>\n",
       "      <td>1.357040</td>\n",
       "      <td>0.824847</td>\n",
       "      <td>1.000000</td>\n",
       "      <td>1.000000</td>\n",
       "      <td>1.000000</td>\n",
       "      <td>1.000000</td>\n",
       "      <td>68.000000</td>\n",
       "    </tr>\n",
       "    <tr>\n",
       "      <th>Number_of_Vehicles</th>\n",
       "      <td>660679.0</td>\n",
       "      <td>1.831255</td>\n",
       "      <td>0.715269</td>\n",
       "      <td>1.000000</td>\n",
       "      <td>1.000000</td>\n",
       "      <td>2.000000</td>\n",
       "      <td>2.000000</td>\n",
       "      <td>32.000000</td>\n",
       "    </tr>\n",
       "  </tbody>\n",
       "</table>\n",
       "</div>"
      ],
      "text/plain": [
       "                         count       mean       std        min        25%  \\\n",
       "Latitude              660654.0  52.553866  1.406922  49.914430  51.490690   \n",
       "Longitude             660653.0  -1.431210  1.383330  -7.516225  -2.332291   \n",
       "Number_of_Casualties  660679.0   1.357040  0.824847   1.000000   1.000000   \n",
       "Number_of_Vehicles    660679.0   1.831255  0.715269   1.000000   1.000000   \n",
       "\n",
       "                            50%        75%        max  \n",
       "Latitude              52.315641  53.453452  60.757544  \n",
       "Longitude             -1.411667  -0.232869   1.762010  \n",
       "Number_of_Casualties   1.000000   1.000000  68.000000  \n",
       "Number_of_Vehicles     2.000000   2.000000  32.000000  "
      ]
     },
     "execution_count": 6,
     "metadata": {},
     "output_type": "execute_result"
    }
   ],
   "source": [
    "eda_data.describe().T"
   ]
  },
  {
   "cell_type": "markdown",
   "metadata": {},
   "source": [
    "<h1><strong>STEP 2:</strong> Check for Missing Values</h1>"
   ]
  },
  {
   "cell_type": "code",
   "execution_count": 7,
   "metadata": {},
   "outputs": [
    {
     "data": {
      "text/plain": [
       "Index                          0\n",
       "Accident_Severity              0\n",
       "Accident Date                  0\n",
       "Latitude                      25\n",
       "Light_Conditions               0\n",
       "District Area                  0\n",
       "Longitude                     26\n",
       "Number_of_Casualties           0\n",
       "Number_of_Vehicles             0\n",
       "Road_Surface_Conditions      726\n",
       "Road_Type                   4520\n",
       "Urban_or_Rural_Area           15\n",
       "Weather_Conditions         14128\n",
       "Vehicle_Type                   0\n",
       "dtype: int64"
      ]
     },
     "execution_count": 7,
     "metadata": {},
     "output_type": "execute_result"
    }
   ],
   "source": [
    "eda_data.isnull().sum()"
   ]
  },
  {
   "cell_type": "markdown",
   "metadata": {},
   "source": [
    "<h1><strong>STEP 3:</strong>Handle Missing Values(still in Progress)</h1>"
   ]
  },
  {
   "cell_type": "code",
   "execution_count": 8,
   "metadata": {},
   "outputs": [
    {
     "name": "stdout",
     "output_type": "stream",
     "text": [
      "<class 'pandas.core.frame.DataFrame'>\n",
      "RangeIndex: 660679 entries, 0 to 660678\n",
      "Data columns (total 14 columns):\n",
      " #   Column                   Non-Null Count   Dtype  \n",
      "---  ------                   --------------   -----  \n",
      " 0   Index                    660679 non-null  object \n",
      " 1   Accident_Severity        660679 non-null  object \n",
      " 2   Accident Date            660679 non-null  object \n",
      " 3   Latitude                 660654 non-null  float64\n",
      " 4   Light_Conditions         660679 non-null  object \n",
      " 5   District Area            660679 non-null  object \n",
      " 6   Longitude                660653 non-null  float64\n",
      " 7   Number_of_Casualties     660679 non-null  int64  \n",
      " 8   Number_of_Vehicles       660679 non-null  int64  \n",
      " 9   Road_Surface_Conditions  659953 non-null  object \n",
      " 10  Road_Type                656159 non-null  object \n",
      " 11  Urban_or_Rural_Area      660664 non-null  object \n",
      " 12  Weather_Conditions       646551 non-null  object \n",
      " 13  Vehicle_Type             660679 non-null  object \n",
      "dtypes: float64(2), int64(2), object(10)\n",
      "memory usage: 70.6+ MB\n"
     ]
    }
   ],
   "source": [
    "eda_data.info()"
   ]
  },
  {
   "cell_type": "markdown",
   "metadata": {},
   "source": [
    "<h1><strong>STEP 4:</strong> Exploring Categorical Columns</h1>"
   ]
  },
  {
   "cell_type": "code",
   "execution_count": 9,
   "metadata": {},
   "outputs": [
    {
     "data": {
      "text/plain": [
       "Index(['Index', 'Accident_Severity', 'Accident Date', 'Light_Conditions',\n",
       "       'District Area', 'Road_Surface_Conditions', 'Road_Type',\n",
       "       'Urban_or_Rural_Area', 'Weather_Conditions', 'Vehicle_Type'],\n",
       "      dtype='object')"
      ]
     },
     "execution_count": 9,
     "metadata": {},
     "output_type": "execute_result"
    }
   ],
   "source": [
    "# for object type\n",
    "categorical_columns = eda_data.select_dtypes(include=['object']).columns\n",
    "categorical_columns\n"
   ]
  },
  {
   "cell_type": "code",
   "execution_count": 10,
   "metadata": {},
   "outputs": [
    {
     "name": "stdout",
     "output_type": "stream",
     "text": [
      "Unique values in 'Index':\n",
      " ['200701BS64157' '200701BS65737' '200701BS66127' ... '201091NM01935'\n",
      " '201091NM01964' '201091NM02142'] \n",
      "\n",
      "Unique values in 'Accident_Severity':\n",
      " ['Serious' 'Slight' 'Fatal'] \n",
      "\n",
      "Unique values in 'Accident Date':\n",
      " ['5/6/2019' '2/7/2019' '26-08-2019' ... '26-12-2022' '25-07-2022'\n",
      " '25-12-2022'] \n",
      "\n",
      "Unique values in 'Light_Conditions':\n",
      " ['Darkness - lights lit' 'Daylight' 'Darkness - lighting unknown'\n",
      " 'Darkness - lights unlit' 'Darkness - no lighting'] \n",
      "\n",
      "Unique values in 'District Area':\n",
      " ['Kensington and Chelsea' 'Westminster' 'Richmond upon Thames'\n",
      " 'Hammersmith and Fulham' 'Hounslow' 'Tower Hamlets' 'City of London'\n",
      " 'Southwark' 'Camden' 'Hackney' 'Islington' 'Barnet' 'Brent' 'Haringey'\n",
      " 'Merton' 'Ealing' 'Enfield' 'Greenwich' 'Newham'\n",
      " 'London Airport (Heathrow)' 'Hillingdon' 'Waltham Forest' 'Redbridge'\n",
      " 'Barking and Dagenham' 'Bromley' 'Havering' 'Croydon' 'Lambeth'\n",
      " 'Wandsworth' 'Sutton' 'Bexley' 'Lewisham' 'Harrow' 'Kingston upon Thames'\n",
      " 'Barrow-in-Furness' 'South Lakeland' 'Carlisle' 'Eden' 'Allerdale'\n",
      " 'Copeland' 'Fylde' 'Blackpool' 'Wyre' 'Lancaster' 'Chorley'\n",
      " 'West Lancashire' 'South Ribble' 'Preston' 'Blackburn with Darwen'\n",
      " 'Hyndburn' 'Ribble Valley' 'Burnley' 'Pendle' 'Rossendale' 'Wirral'\n",
      " 'Liverpool' 'Sefton' 'Knowsley' 'St. Helens' 'Manchester' 'Salford'\n",
      " 'Tameside' 'Stockport' 'Bolton' 'Wigan' 'Trafford' 'Bury' 'Rochdale'\n",
      " 'Oldham' 'Chester' 'Vale Royal' 'Halton' 'Warrington' 'Crewe and ntwich'\n",
      " 'Ellesmere Port and Neston' 'Congleton' 'Macclesfield'\n",
      " 'Crewe and Nantwich' 'Blyth Valley' 'Sunderland' 'Gateshead'\n",
      " 'North Tyneside' 'Tynedale' 'Berwick-upon-Tweed' 'Newcastle upon Tyne'\n",
      " 'Castle Morpeth' 'South Tyneside' 'Wansbeck' 'Alnwick' 'Wear Valley'\n",
      " 'Sedgefield' 'Durham' 'Easington' 'Chester-le-Street' 'Derwentside'\n",
      " 'Teesdale' 'Darlington' 'Craven' 'Hambleton' 'Richmondshire' 'York'\n",
      " 'Harrogate' 'Selby' 'Scarborough' 'Ryedale' 'Kirklees' 'Leeds'\n",
      " 'Wakefield' 'Bradford' 'Calderdale' 'Doncaster' 'Barnsley' 'Sheffield'\n",
      " 'Rotherham' 'North East Lincolnshire' 'North Lincolnshire'\n",
      " 'East Riding of Yorkshire' 'Kingston upon Hull, City of'\n",
      " 'Redcar and Cleveland' 'Hartlepool' 'Middlesbrough' 'Stockton-on-Tees'\n",
      " 'Birmingham' 'Wolverhampton' 'Walsall' 'Dudley' 'Sandwell' 'Solihull'\n",
      " 'Coventry' 'Newcastle-under-Lyme' 'Stafford' 'East Staffordshire'\n",
      " 'South Staffordshire' 'Lichfield' 'Stoke-on-Trent' 'Cannock Chase'\n",
      " 'Tamworth' 'Staffordshire Moorlands' 'Malvern Hills' 'Worcester'\n",
      " 'Wychavon' 'Wyre Forest' 'Redditch' 'Bromsgrove'\n",
      " 'Herefordshire, County of' 'Telford and Wrekin' 'South Shropshire'\n",
      " 'Bridgnorth' 'Shrewsbury and Atcham' 'North Shropshire' 'Oswestry'\n",
      " 'Warwick' 'Stratford-upon-Avon' 'Rugby' 'North Warwickshire'\n",
      " 'Nuneaton and Bedworth' 'Amber Valley' 'Erewash' 'Bolsover' 'High Peak'\n",
      " 'Derbyshire Dales' 'North East Derbyshire' 'Chesterfield' 'Derby'\n",
      " 'South Derbyshire' 'Ashfield' 'Mansfield' 'Newark and Sherwood'\n",
      " 'Bassetlaw' 'Gedling' 'Rushcliffe' 'Nottingham' 'Broxtowe'\n",
      " 'South Holland' 'South Kesteven' 'North Kesteven' 'East Lindsey' 'Boston'\n",
      " 'West Lindsey' 'Lincoln' 'Hinckley and Bosworth' 'Harborough' 'Leicester'\n",
      " 'Rutland' 'Charnwood' 'Melton' 'North West Leicestershire' 'Blaby'\n",
      " 'Oadby and Wigston' 'South Northamptonshire' 'Northampton' 'Kettering'\n",
      " 'Corby' 'Daventry' 'East Northamptonshire' 'Wellingborough'\n",
      " 'South Cambridgeshire' 'Fenland' 'Huntingdonshire' 'Peterborough'\n",
      " 'East Cambridgeshire' 'Cambridge' \"King's Lynn and West Norfolk\"\n",
      " 'Norwich' 'Breckland' 'South Norfolk' 'Broadland' 'Great Yarmouth'\n",
      " 'North Norfolk' 'St. Edmundsbury' 'Babergh' 'Mid Suffolk' 'Forest Heath'\n",
      " 'Suffolk Coastal' 'Ipswich' 'Waveney' 'Luton' 'Mid Bedfordshire'\n",
      " 'Bedford' 'South Bedfordshire' 'East Hertfordshire' 'North Hertfordshire'\n",
      " 'Welwyn Hatfield' 'St. Albans' 'Hertsmere' 'Three Rivers' 'Watford'\n",
      " 'Dacorum' 'Broxbourne' 'Stevege' 'Stevenage' 'Epping Forest' 'Brentwood'\n",
      " 'Castle Point' 'Uttlesford' 'Chelmsford' 'Basildon' 'Tendring'\n",
      " 'Colchester' 'Thurrock' 'Braintree' 'Rochford' 'Maldon' 'Southend-on-Sea'\n",
      " 'Harlow' 'Aylesbury Vale' 'Wycombe' 'South Bucks' 'Chiltern' 'Slough'\n",
      " 'Windsor and Maidenhead' 'South Oxfordshire' 'Milton Keynes' 'Cherwell'\n",
      " 'Vale of White Horse' 'West Oxfordshire' 'Oxford' 'Reading'\n",
      " 'West Berkshire' 'Wokingham' 'Bracknell Forest' 'Eastleigh' 'Test Valley'\n",
      " 'Portsmouth' 'Winchester' 'Basingstoke and Deane' 'Southampton' 'Fareham'\n",
      " 'Hart' 'Gosport' 'Havant' 'Isle of Wight' 'East Hampshire' 'Rushmoor'\n",
      " 'New Forest' 'Elmbridge' 'Mole Valley' 'Guildford' 'Spelthorne'\n",
      " 'Epsom and Ewell' 'Runnymede' 'Woking' 'Reigate and Banstead'\n",
      " 'Surrey Heath' 'Waverley' 'Tandridge' 'Medway' 'Thanet' 'Shepway'\n",
      " 'Ashford' 'Maidstone' 'Dover' 'Tunbridge Wells' 'Canterbury'\n",
      " 'Tonbridge and Malling' 'Swale' 'Dartford' 'Sevenoaks' 'Gravesham'\n",
      " 'Brighton and Hove' 'Chichester' 'Rother' 'Lewes' 'Wealden' 'Eastbourne'\n",
      " 'Hastings' 'Crawley' 'Horsham' 'Mid Sussex' 'Arun' 'Adur' 'Worthing'\n",
      " 'Kerrier' 'Restormel' 'Carrick' 'Penwith' 'North Cornwall' 'West Devon'\n",
      " 'Torridge' 'Caradon' 'North Devon' 'Mid Devon' 'Exeter' 'East Devon'\n",
      " 'Teignbridge' 'Plymouth' 'South Hams' 'Torbay' 'Bristol, City of'\n",
      " 'South Somerset' 'Sedgemoor' 'Mendip' 'Taunton Deane'\n",
      " 'South Gloucestershire' 'North Somerset' 'Bath and North East Somerset'\n",
      " 'West Somerset' 'Stroud' 'Tewkesbury' 'Gloucester' 'Cotswold'\n",
      " 'Cheltenham' 'Forest of Dean' 'Salisbury' 'Kennet' 'West Wiltshire'\n",
      " 'North Wiltshire' 'Swindon' 'Bournemouth' 'Poole' 'East Dorset'\n",
      " 'West Dorset' 'Weymouth and Portland' 'Christchurch' 'Purbeck'\n",
      " 'North Dorset' 'Isle of Anglesey' 'Conwy' 'Denbighshire' 'Flintshire'\n",
      " 'Wrexham' 'Gwynedd' 'Monmouthshire' 'Newport' 'Caerphilly' 'Torfaen'\n",
      " 'Blaeu Gwent' 'Blaenau Gwent' 'Merthyr Tydfil' 'The Vale of Glamorgan'\n",
      " 'Cardiff' 'Rhondda, Cynon, Taff' 'Swansea' 'Bridgend' 'Neath Port Talbot'\n",
      " 'Carmarthenshire' 'Ceredigion' 'Pembrokeshire' 'Powys' 'Highland'\n",
      " 'Western Isles' 'Orkney Islands' 'Shetland Islands' 'Aberdeenshire'\n",
      " 'Moray' 'Aberdeen City' 'Dundee City' 'Angus' 'Perth and Kinross' 'Fife'\n",
      " 'East Lothian' 'Midlothian' 'Scottish Borders' 'Edinburgh, City of'\n",
      " 'West Lothian' 'Falkirk' 'Clackmannanshire' 'Stirling' 'Clackmannshire'\n",
      " 'Glasgow City' 'East Dunbartonshire' 'North Larkshire'\n",
      " 'North Lanarkshire' 'Renfrewshire' 'East Renfrewshire' 'East Ayrshire'\n",
      " 'South Larkshire' 'Inverclyde' 'West Dunbartonshire' 'Argyll and Bute'\n",
      " 'South Lanarkshire' 'North Ayrshire' 'South Ayrshire'\n",
      " 'Dumfries and Galloway' 'Cheshire East' 'Cheshire West and Chester'\n",
      " 'Northumberland' 'County Durham' 'Shropshire' 'Central Bedfordshire'\n",
      " 'Cornwall' 'Wiltshire'] \n",
      "\n",
      "Unique values in 'Road_Surface_Conditions':\n",
      " ['Dry' 'Wet or damp' 'Snow' 'Frost or ice' 'Flood over 3cm. deep' nan] \n",
      "\n",
      "Unique values in 'Road_Type':\n",
      " ['Single carriageway' nan 'Dual carriageway' 'One way street' 'Roundabout'\n",
      " 'Slip road'] \n",
      "\n",
      "Unique values in 'Urban_or_Rural_Area':\n",
      " ['Urban' 'Rural' 'Unallocated' nan] \n",
      "\n",
      "Unique values in 'Weather_Conditions':\n",
      " ['Fine no high winds' 'Raining no high winds' nan 'Other'\n",
      " 'Fine + high winds' 'Raining + high winds' 'Snowing no high winds'\n",
      " 'Fog or mist' 'Snowing + high winds'] \n",
      "\n",
      "Unique values in 'Vehicle_Type':\n",
      " ['Car' 'Taxi/Private hire car' 'Bus or coach (17 or more pass seats)'\n",
      " 'Other vehicle' 'Van / Goods 3.5 tonnes mgw or under'\n",
      " 'Motorcycle over 125cc and up to 500cc' 'Goods 7.5 tonnes mgw and over'\n",
      " 'Motorcycle 125cc and under' 'Motorcycle over 500cc'\n",
      " 'Motorcycle 50cc and under' 'Minibus (8 - 16 passenger seats)'\n",
      " 'Goods over 3.5t. and under 7.5t' 'Pedal cycle' 'Agricultural vehicle'\n",
      " 'Ridden horse' 'Data missing or out of range'] \n",
      "\n"
     ]
    }
   ],
   "source": [
    "# unique values for each categorical column\n",
    "for col in categorical_columns:\n",
    "    print(f\"Unique values in '{col}':\\n\", eda_data[col].unique(), \"\\n\")\n"
   ]
  },
  {
   "cell_type": "code",
   "execution_count": 11,
   "metadata": {},
   "outputs": [
    {
     "name": "stdout",
     "output_type": "stream",
     "text": [
      "Value counts for 'Index':\n",
      " Index\n",
      "2.01E+12         239478\n",
      "2.01E+282             4\n",
      "2.01E+86              4\n",
      "2.01E+98              4\n",
      "2.01E+197             4\n",
      "                  ...  \n",
      "200804BC08155         1\n",
      "200804BC08153         1\n",
      "200804BC08152         1\n",
      "200804BC08151         1\n",
      "201091NM02142         1\n",
      "Name: count, Length: 421020, dtype: int64 \n",
      "\n",
      "Value counts for 'Accident_Severity':\n",
      " Accident_Severity\n",
      "Slight     563801\n",
      "Serious     88217\n",
      "Fatal        8661\n",
      "Name: count, dtype: int64 \n",
      "\n",
      "Value counts for 'Accident Date':\n",
      " Accident Date\n",
      "30-11-2019    704\n",
      "31-01-2019    697\n",
      "13-07-2019    692\n",
      "13-11-2021    692\n",
      "14-08-2019    688\n",
      "             ... \n",
      "30-12-2022    171\n",
      "25-12-2019    157\n",
      "25-12-2022    145\n",
      "10/1/2022     123\n",
      "25-12-2020    118\n",
      "Name: count, Length: 1461, dtype: int64 \n",
      "\n",
      "Value counts for 'Light_Conditions':\n",
      " Light_Conditions\n",
      "Daylight                       484880\n",
      "Darkness - lights lit          129335\n",
      "Darkness - no lighting          37437\n",
      "Darkness - lighting unknown      6484\n",
      "Darkness - lights unlit          2543\n",
      "Name: count, dtype: int64 \n",
      "\n",
      "Value counts for 'District Area':\n",
      " District Area\n",
      "Birmingham            13491\n",
      "Leeds                  8898\n",
      "Manchester             6720\n",
      "Bradford               6212\n",
      "Sheffield              5710\n",
      "                      ...  \n",
      "Berwick-upon-Tweed      153\n",
      "Teesdale                142\n",
      "Shetland Islands        133\n",
      "Orkney Islands          117\n",
      "Clackmannanshire         91\n",
      "Name: count, Length: 422, dtype: int64 \n",
      "\n",
      "Value counts for 'Road_Surface_Conditions':\n",
      " Road_Surface_Conditions\n",
      "Dry                     447821\n",
      "Wet or damp             186708\n",
      "Frost or ice             18517\n",
      "Snow                      5890\n",
      "Flood over 3cm. deep      1017\n",
      "Name: count, dtype: int64 \n",
      "\n",
      "Value counts for 'Road_Type':\n",
      " Road_Type\n",
      "Single carriageway    492143\n",
      "Dual carriageway       99424\n",
      "Roundabout             43992\n",
      "One way street         13559\n",
      "Slip road               7041\n",
      "Name: count, dtype: int64 \n",
      "\n",
      "Value counts for 'Urban_or_Rural_Area':\n",
      " Urban_or_Rural_Area\n",
      "Urban          421663\n",
      "Rural          238990\n",
      "Unallocated        11\n",
      "Name: count, dtype: int64 \n",
      "\n",
      "Value counts for 'Weather_Conditions':\n",
      " Weather_Conditions\n",
      "Fine no high winds       520885\n",
      "Raining no high winds     79696\n",
      "Other                     17150\n",
      "Raining + high winds       9615\n",
      "Fine + high winds          8554\n",
      "Snowing no high winds      6238\n",
      "Fog or mist                3528\n",
      "Snowing + high winds        885\n",
      "Name: count, dtype: int64 \n",
      "\n",
      "Value counts for 'Vehicle_Type':\n",
      " Vehicle_Type\n",
      "Car                                      497992\n",
      "Van / Goods 3.5 tonnes mgw or under       34160\n",
      "Bus or coach (17 or more pass seats)      25878\n",
      "Motorcycle over 500cc                     25657\n",
      "Goods 7.5 tonnes mgw and over             17307\n",
      "Motorcycle 125cc and under                15269\n",
      "Taxi/Private hire car                     13294\n",
      "Motorcycle over 125cc and up to 500cc      7656\n",
      "Motorcycle 50cc and under                  7603\n",
      "Goods over 3.5t. and under 7.5t            6096\n",
      "Other vehicle                              5637\n",
      "Minibus (8 - 16 passenger seats)           1976\n",
      "Agricultural vehicle                       1947\n",
      "Pedal cycle                                 197\n",
      "Data missing or out of range                  6\n",
      "Ridden horse                                  4\n",
      "Name: count, dtype: int64 \n",
      "\n"
     ]
    }
   ],
   "source": [
    "# Count unique values for each categorical column\n",
    "for col in categorical_columns:\n",
    "    print(f\"Value counts for '{col}':\\n\", eda_data[col].value_counts(), \"\\n\")\n"
   ]
  },
  {
   "cell_type": "markdown",
   "metadata": {},
   "source": [
    "<h1><strong>STEP 5:</strong>Data Type Conversion</h1>"
   ]
  },
  {
   "cell_type": "code",
   "execution_count": 12,
   "metadata": {},
   "outputs": [],
   "source": [
    "eda_data['Accident Date'] = pd.to_datetime(\n",
    "    eda_data['Accident Date'], \n",
    "    dayfirst=True, \n",
    "    errors='coerce'\n",
    "    )"
   ]
  },
  {
   "cell_type": "markdown",
   "metadata": {},
   "source": [
    "<h1><strong>STEP 6:</strong>Categorization of columns</h1>"
   ]
  },
  {
   "cell_type": "code",
   "execution_count": 13,
   "metadata": {},
   "outputs": [],
   "source": [
    "category_columns = [\n",
    "    \"Index\",\n",
    "    \"Accident_Severity\",\n",
    "    \"Light_Conditions\",\n",
    "    \"Weather_Conditions\",\n",
    "    \"Road_Surface_Conditions\",\n",
    "    \"Road_Type\",\n",
    "    \"Urban_or_Rural_Area\",\n",
    "    \"Vehicle_Type\"\n",
    "]\n",
    "eda_data[category_columns] = eda_data[category_columns].astype('category')\n"
   ]
  },
  {
   "cell_type": "code",
   "execution_count": 14,
   "metadata": {},
   "outputs": [
    {
     "data": {
      "text/plain": [
       "Index                            category\n",
       "Accident_Severity                category\n",
       "Accident Date              datetime64[ns]\n",
       "Latitude                          float64\n",
       "Light_Conditions                 category\n",
       "District Area                      object\n",
       "Longitude                         float64\n",
       "Number_of_Casualties                int64\n",
       "Number_of_Vehicles                  int64\n",
       "Road_Surface_Conditions          category\n",
       "Road_Type                        category\n",
       "Urban_or_Rural_Area              category\n",
       "Weather_Conditions               category\n",
       "Vehicle_Type                     category\n",
       "dtype: object"
      ]
     },
     "execution_count": 14,
     "metadata": {},
     "output_type": "execute_result"
    }
   ],
   "source": [
    "eda_data.dtypes"
   ]
  },
  {
   "cell_type": "markdown",
   "metadata": {},
   "source": []
  },
  {
   "cell_type": "markdown",
   "metadata": {},
   "source": [
    "<h1><strong>STEP 7:</strong>Summary Statistics</h1>"
   ]
  },
  {
   "cell_type": "code",
   "execution_count": 15,
   "metadata": {},
   "outputs": [
    {
     "data": {
      "text/html": [
       "<div>\n",
       "<style scoped>\n",
       "    .dataframe tbody tr th:only-of-type {\n",
       "        vertical-align: middle;\n",
       "    }\n",
       "\n",
       "    .dataframe tbody tr th {\n",
       "        vertical-align: top;\n",
       "    }\n",
       "\n",
       "    .dataframe thead th {\n",
       "        text-align: right;\n",
       "    }\n",
       "</style>\n",
       "<table border=\"1\" class=\"dataframe\">\n",
       "  <thead>\n",
       "    <tr style=\"text-align: right;\">\n",
       "      <th></th>\n",
       "      <th>count</th>\n",
       "      <th>mean</th>\n",
       "      <th>min</th>\n",
       "      <th>25%</th>\n",
       "      <th>50%</th>\n",
       "      <th>75%</th>\n",
       "      <th>max</th>\n",
       "      <th>std</th>\n",
       "    </tr>\n",
       "  </thead>\n",
       "  <tbody>\n",
       "    <tr>\n",
       "      <th>Accident Date</th>\n",
       "      <td>265007</td>\n",
       "      <td>2020-11-23 16:22:04.873683456</td>\n",
       "      <td>2019-01-01 00:00:00</td>\n",
       "      <td>2019-12-03 00:00:00</td>\n",
       "      <td>2020-11-07 00:00:00</td>\n",
       "      <td>2021-11-07 00:00:00</td>\n",
       "      <td>2022-12-12 00:00:00</td>\n",
       "      <td>NaN</td>\n",
       "    </tr>\n",
       "    <tr>\n",
       "      <th>Latitude</th>\n",
       "      <td>660654.0</td>\n",
       "      <td>52.553866</td>\n",
       "      <td>49.91443</td>\n",
       "      <td>51.49069</td>\n",
       "      <td>52.315641</td>\n",
       "      <td>53.453452</td>\n",
       "      <td>60.757544</td>\n",
       "      <td>1.406922</td>\n",
       "    </tr>\n",
       "    <tr>\n",
       "      <th>Longitude</th>\n",
       "      <td>660653.0</td>\n",
       "      <td>-1.43121</td>\n",
       "      <td>-7.516225</td>\n",
       "      <td>-2.332291</td>\n",
       "      <td>-1.411667</td>\n",
       "      <td>-0.232869</td>\n",
       "      <td>1.76201</td>\n",
       "      <td>1.38333</td>\n",
       "    </tr>\n",
       "    <tr>\n",
       "      <th>Number_of_Casualties</th>\n",
       "      <td>660679.0</td>\n",
       "      <td>1.35704</td>\n",
       "      <td>1.0</td>\n",
       "      <td>1.0</td>\n",
       "      <td>1.0</td>\n",
       "      <td>1.0</td>\n",
       "      <td>68.0</td>\n",
       "      <td>0.824847</td>\n",
       "    </tr>\n",
       "    <tr>\n",
       "      <th>Number_of_Vehicles</th>\n",
       "      <td>660679.0</td>\n",
       "      <td>1.831255</td>\n",
       "      <td>1.0</td>\n",
       "      <td>1.0</td>\n",
       "      <td>2.0</td>\n",
       "      <td>2.0</td>\n",
       "      <td>32.0</td>\n",
       "      <td>0.715269</td>\n",
       "    </tr>\n",
       "  </tbody>\n",
       "</table>\n",
       "</div>"
      ],
      "text/plain": [
       "                         count                           mean  \\\n",
       "Accident Date           265007  2020-11-23 16:22:04.873683456   \n",
       "Latitude              660654.0                      52.553866   \n",
       "Longitude             660653.0                       -1.43121   \n",
       "Number_of_Casualties  660679.0                        1.35704   \n",
       "Number_of_Vehicles    660679.0                       1.831255   \n",
       "\n",
       "                                      min                  25%  \\\n",
       "Accident Date         2019-01-01 00:00:00  2019-12-03 00:00:00   \n",
       "Latitude                         49.91443             51.49069   \n",
       "Longitude                       -7.516225            -2.332291   \n",
       "Number_of_Casualties                  1.0                  1.0   \n",
       "Number_of_Vehicles                    1.0                  1.0   \n",
       "\n",
       "                                      50%                  75%  \\\n",
       "Accident Date         2020-11-07 00:00:00  2021-11-07 00:00:00   \n",
       "Latitude                        52.315641            53.453452   \n",
       "Longitude                       -1.411667            -0.232869   \n",
       "Number_of_Casualties                  1.0                  1.0   \n",
       "Number_of_Vehicles                    2.0                  2.0   \n",
       "\n",
       "                                      max       std  \n",
       "Accident Date         2022-12-12 00:00:00       NaN  \n",
       "Latitude                        60.757544  1.406922  \n",
       "Longitude                         1.76201   1.38333  \n",
       "Number_of_Casualties                 68.0  0.824847  \n",
       "Number_of_Vehicles                   32.0  0.715269  "
      ]
     },
     "execution_count": 15,
     "metadata": {},
     "output_type": "execute_result"
    }
   ],
   "source": [
    "eda_data.describe().T"
   ]
  },
  {
   "cell_type": "markdown",
   "metadata": {},
   "source": [
    "<h1><strong>Insights/Findings:</strong></h1>"
   ]
  },
  {
   "cell_type": "markdown",
   "metadata": {},
   "source": [
    "<h1>Question #1: What is the most common accident severity?</h1>\n"
   ]
  },
  {
   "cell_type": "code",
   "execution_count": 16,
   "metadata": {},
   "outputs": [],
   "source": [
    "# Accident_Severity = eda_data['Accident_Severity'].value_counts()"
   ]
  },
  {
   "cell_type": "code",
   "execution_count": 17,
   "metadata": {},
   "outputs": [],
   "source": [
    "# Accident_Severity"
   ]
  },
  {
   "cell_type": "markdown",
   "metadata": {},
   "source": [
    "<h3>Insight #1:</h3>\n",
    "Most accidents fall under the \"Slight\" category (563,801 cases), making up the majority. \"Serious\" accidents (88,217) are significantly lower, while \"Fatal\" accidents (8,661) are the least common.\n",
    "\n",
    "This suggests that while accidents are frequent, most are not severe."
   ]
  },
  {
   "cell_type": "markdown",
   "metadata": {},
   "source": [
    "<h1>Question #2: How do accidents vary based on light conditions?</h1>\n"
   ]
  },
  {
   "cell_type": "code",
   "execution_count": 18,
   "metadata": {},
   "outputs": [],
   "source": [
    "# Light_Cond_ACDs = eda_data['Light_Conditions'].value_counts()"
   ]
  },
  {
   "cell_type": "code",
   "execution_count": 19,
   "metadata": {},
   "outputs": [],
   "source": [
    "# Light_Cond_ACDs"
   ]
  },
  {
   "cell_type": "markdown",
   "metadata": {},
   "source": [
    "<h3><strong>Insight #2-5:</strong></h3>\n",
    "<ol>\n",
    "    <li>Most accidents occur in daylight (484,880 cases), likely because of higher traffic volume during the day.</li>\n",
    "    <li>Darkness with streetlights on (129,335 cases) still accounts for a significant number of accidents, indicating that visibility at night remains a concern.</li>\n",
    "    <li>Darkness with no lighting (37,437 cases) and unknown lighting (6,484 cases) show fewer accidents, but these might have a higher severity due to poor visibility.</li>\n",
    "    <li>Darkness with streetlights unlit (2,543 cases) is the least common but could be a critical issue—possibly indicating infrastructure problems.</li>\n",
    "</ol>\n",
    "\n",
    "\n",
    "\n",
    "\n"
   ]
  },
  {
   "cell_type": "markdown",
   "metadata": {},
   "source": [
    "<h1>Question #3: How do accidents vary based on weather conditions?</h1>\n"
   ]
  },
  {
   "cell_type": "code",
   "execution_count": 20,
   "metadata": {},
   "outputs": [],
   "source": [
    "# Weather_Cond_ACDs = eda_data['Weather_Conditions'].value_counts()\n"
   ]
  },
  {
   "cell_type": "code",
   "execution_count": 21,
   "metadata": {},
   "outputs": [],
   "source": [
    "# Weather_Cond_ACDs"
   ]
  },
  {
   "cell_type": "markdown",
   "metadata": {},
   "source": [
    "<h3><strong>Insight #6-10: </strong>Insights on Weather Conditions and Accidents:</h3>\n",
    "\n",
    "<ol>\n",
    "    <li><b>Most Accidents Happen in Good Weather (Fine, No High Winds) = 520,885 Cases (≈81%)</b>\n",
    "      <ul>\n",
    "        <li>Majority of accidents occur in clear weather, likely due to higher traffic volumes and a false sense of security.</li>\n",
    "        <li>Suggests weather alone isn't the biggest factor—human behavior and road conditions may play a larger role.</li>\n",
    "      </ul>\n",
    "    </li>\n",
    "    <li><b>Rain Increases Accident Risk = 89,311 Cases (≈14%)</b>\n",
    "      <ul>\n",
    "        <li>Raining (No High Winds): 79,696 accidents</li>\n",
    "        <li>Raining + High Winds: 9,615 accidents</li>\n",
    "        <li>Wet roads reduce traction, leading to longer stopping distances and increased accident risk.</li>\n",
    "      </ul>\n",
    "    </li>\n",
    "    <li><b>High Winds Alone Are Less of a Factor = 8,554 Cases (≈1.3%)</b>\n",
    "      <ul>\n",
    "        <li>Fine + High Winds: 8,554 accidents</li>\n",
    "        <li>Strong winds alone don’t cause many accidents unless combined with rain or snow.</li>\n",
    "      </ul>\n",
    "    </li>\n",
    "    <li><b>Snow and Ice Pose Moderate Risks = 7,123 Cases (≈1.1%)</b>\n",
    "      <ul>\n",
    "        <li>Snowing (No High Winds): 6,238 accidents</li>\n",
    "        <li>Snowing + High Winds: 885 accidents</li>\n",
    "        <li>Fewer accidents happen in snow as drivers are more cautious, or fewer people drive in extreme conditions.</li>\n",
    "      </ul>\n",
    "    </li>\n",
    "    <li><b>Fog and Mist Are Particularly Dangerous = 3,528 Cases (≈0.5%)</b>\n",
    "      <ul>\n",
    "        <li>Though fog-related accidents are lower, poor visibility can lead to high-severity crashes, especially on highways.</li>\n",
    "      </ul>\n",
    "    </li>\n",
    "  </ol>\n",
    "\n"
   ]
  },
  {
   "cell_type": "code",
   "execution_count": 22,
   "metadata": {},
   "outputs": [
    {
     "data": {
      "text/plain": [
       "Index(['Index', 'Accident_Severity', 'Accident Date', 'Latitude',\n",
       "       'Light_Conditions', 'District Area', 'Longitude',\n",
       "       'Number_of_Casualties', 'Number_of_Vehicles', 'Road_Surface_Conditions',\n",
       "       'Road_Type', 'Urban_or_Rural_Area', 'Weather_Conditions',\n",
       "       'Vehicle_Type'],\n",
       "      dtype='object')"
      ]
     },
     "execution_count": 22,
     "metadata": {},
     "output_type": "execute_result"
    }
   ],
   "source": [
    "eda_data.columns\n"
   ]
  },
  {
   "cell_type": "markdown",
   "metadata": {},
   "source": [
    "<h1>Question #4: What is the average number of casualties per accident severity?</h1>\n"
   ]
  },
  {
   "cell_type": "code",
   "execution_count": 23,
   "metadata": {},
   "outputs": [],
   "source": [
    "# avg_casualties_per_severity = eda_data.groupby(\"Accident_Severity\")[\"Number_of_Casualties\"].mean()"
   ]
  },
  {
   "cell_type": "code",
   "execution_count": 24,
   "metadata": {},
   "outputs": [],
   "source": [
    "# avg_casualties_per_severity"
   ]
  },
  {
   "cell_type": "markdown",
   "metadata": {},
   "source": [
    "<h3><strong>Insight #11-13:</strong> Severity and Casualty Rate</h3>\n",
    "<ol>\n",
    "  <li>Fatal accidents have the highest average casualties (1.90), meaning they tend to involve more people per incident.</li>\n",
    "  <li>Serious accidents average 1.47 casualties, while slight accidents have the lowest at 1.33.</li>\n",
    "  <li>The differences suggest that while slight accidents are more frequent, fatal accidents tend to be more severe in impact.</li>\n",
    "</ol>\n"
   ]
  },
  {
   "cell_type": "markdown",
   "metadata": {},
   "source": [
    "<h1>Question #5: How many accidents occurred for each combination of road type and accident severity?</h1>\n"
   ]
  },
  {
   "cell_type": "code",
   "execution_count": 25,
   "metadata": {},
   "outputs": [],
   "source": [
    "\n",
    "# accidents_by_road_type_severity = eda_data.groupby([\"Road_Type\", \"Accident_Severity\"]).size()\n"
   ]
  },
  {
   "cell_type": "code",
   "execution_count": 26,
   "metadata": {},
   "outputs": [],
   "source": [
    "# accidents_by_road_type_severity"
   ]
  },
  {
   "cell_type": "markdown",
   "metadata": {},
   "source": [
    "<h3><strong>Insight #14-17:</strong> Road Type & Accident Severity</h3>\n",
    "<ol>\n",
    "  <li>Single carriageways have the highest number of accidents across all severities, with over 415,000 slight accidents alone.</li>\n",
    "  <li>Dual carriageways follow, though they have significantly fewer accidents compared to single carriageways.</li>\n",
    "  <li>Roundabouts and one-way streets show a lower number of severe accidents, likely due to lower speeds and controlled traffic flow.</li>\n",
    "  <li>Slip roads have the least number of accidents overall, but their design may still pose specific risks.</li>\n",
    "</ol>\n"
   ]
  },
  {
   "cell_type": "code",
   "execution_count": 27,
   "metadata": {},
   "outputs": [],
   "source": [
    "# vehicles_by_weather = eda_data.groupby(\"Weather_Conditions\")[\"Number_of_Vehicles\"].sum()"
   ]
  },
  {
   "cell_type": "code",
   "execution_count": 28,
   "metadata": {},
   "outputs": [],
   "source": [
    "# vehicles_by_weather"
   ]
  },
  {
   "cell_type": "markdown",
   "metadata": {},
   "source": [
    "<h3><strong>Insights #18-22:</strong> Weather Conditions & Vehicle Involvement</h3>\n",
    "<ol>\n",
    "  <li>Accidents are most frequent in fine weather with no high winds, involving over 950,000 vehicles.</li>\n",
    "  <li>Rain (no high winds) is the second most common condition, with around 146,000 vehicles involved.</li>\n",
    "  <li>Fog, snow, and high winds contribute to a smaller percentage of accidents but may have higher risks per incident.</li>\n",
    "  <li>The \"Other\" category suggests unclassified conditions, which might need further investigation.</li>\n",
    "</ol>\n"
   ]
  },
  {
   "cell_type": "code",
   "execution_count": null,
   "metadata": {},
   "outputs": [],
   "source": []
  },
  {
   "cell_type": "markdown",
   "metadata": {},
   "source": [
    "<h1><strong>Question #6:</strong> Does accident severity vary based on road surface conditions and light conditions?</h1>"
   ]
  },
  {
   "cell_type": "code",
   "execution_count": 29,
   "metadata": {},
   "outputs": [],
   "source": [
    "# eda_data['Accident_Severity'].dtype"
   ]
  },
  {
   "cell_type": "code",
   "execution_count": 30,
   "metadata": {},
   "outputs": [],
   "source": [
    "# eda_data['Accident_Severity'].unique()"
   ]
  },
  {
   "cell_type": "code",
   "execution_count": 31,
   "metadata": {},
   "outputs": [],
   "source": [
    "copy_eda_data = eda_data.copy()"
   ]
  },
  {
   "cell_type": "code",
   "execution_count": 32,
   "metadata": {},
   "outputs": [],
   "source": [
    "# copy_eda_data['Accident_Severity'] = pd.to_numeric(copy_eda_data['Accident_Severity'], errors='coerce')\n"
   ]
  },
  {
   "cell_type": "code",
   "execution_count": 33,
   "metadata": {},
   "outputs": [],
   "source": [
    "# copy_eda_data['Accident_Severity'].dtype"
   ]
  },
  {
   "cell_type": "code",
   "execution_count": 34,
   "metadata": {},
   "outputs": [],
   "source": [
    "# eda_data['Accident_Severity'].unique()"
   ]
  },
  {
   "cell_type": "code",
   "execution_count": 35,
   "metadata": {},
   "outputs": [],
   "source": [
    "# accident_severity_on_RSFs_and_LCs = eda_data.groupby(\n",
    "#     ['Road_Surface_Conditions', 'Light_Conditions']\n",
    "#     )['Accident_Severity'].size().unstack()\n"
   ]
  },
  {
   "cell_type": "code",
   "execution_count": 36,
   "metadata": {},
   "outputs": [],
   "source": [
    "# accident_severity_on_RSFs_and_LCs"
   ]
  },
  {
   "cell_type": "code",
   "execution_count": null,
   "metadata": {},
   "outputs": [],
   "source": []
  },
  {
   "cell_type": "markdown",
   "metadata": {},
   "source": [
    "<h2><strong>Insights #23-27:</strong> Insigts on Road Surface Conditions & Light Conditions Impacting Accidents</h2>\n",
    "\n",
    "<ol>\n",
    "    <li><strong>Most Accidents Occur on Dry Roads and in Daylight</strong>  \n",
    "        <ul>\n",
    "            <li><strong>356,085 accidents</strong> happened on dry roads in daylight, the highest among all conditions.</li>\n",
    "            <li>This suggests that accidents are more frequent when visibility is good and roads are clear, possibly due to <strong>higher traffic volumes and driver complacency</strong>.</li>\n",
    "        </ul>\n",
    "    </li>\n",
    "    <li><strong>Wet or Damp Roads Increase Accident Risk in Poor Lighting</strong>  \n",
    "        <ul>\n",
    "            <li><strong>52,463 accidents</strong> happened on wet roads under \"Darkness - lights lit\" conditions.</li>\n",
    "            <li>Wet roads combined with limited visibility increase braking distances, making accidents more likely.</li>\n",
    "        </ul>\n",
    "    </li>\n",
    "    <li><strong>Frost, Ice, and Snow Lead to Fewer but Severe Accidents</strong>  \n",
    "        <ul>\n",
    "            <li>Only <strong>10,172 accidents</strong> on <strong>frosty roads in daylight</strong>, but their severity is often higher.</li>\n",
    "            <li><strong>Snow-related accidents (1,587 in darkness, 3,415 in daylight)</strong> are low in number, likely due to <strong>fewer vehicles on the road and more cautious driving</strong>.</li>\n",
    "        </ul>\n",
    "    </li>\n",
    "    <li><strong>Flooded Roads Have the Fewest Accidents</strong>  \n",
    "        <ul>\n",
    "            <li>Only <strong>573 accidents</strong> occurred on flooded roads in daylight.</li>\n",
    "            <li>Drivers may avoid flooded areas, explaining the lower accident count.</li>\n",
    "        </ul>\n",
    "    </li>\n",
    "    <li><strong>Darkness Without Lighting is Extremely Dangerous</strong>  \n",
    "        <ul>\n",
    "            <li><strong>15,619 accidents</strong> on dry roads in total darkness (no lighting).</li>\n",
    "            <li><strong>17,424 accidents</strong> on wet roads in total darkness.</li>\n",
    "            <li>Poor lighting makes hazards harder to see, increasing crash risk.</li>\n",
    "        </ul>\n",
    "    </li>\n",
    "</ol>\n",
    "\n",
    "<h2>Conclusion:</h2>\n",
    "<p><strong>Accident severity does vary based on road and lighting conditions.</strong></p>\n",
    "<ul>\n",
    "    <li><strong>Dry roads in daylight</strong> see the most accidents, likely due to more traffic.</li>\n",
    "    <li><strong>Wet and icy roads are dangerous in poor lighting</strong>, increasing accident risk.</li>\n",
    "    <li><strong>Snow and floods lead to fewer but possibly more severe accidents.</strong></li>\n",
    "    <li><strong>Dark, unlit roads are a major hazard</strong>, especially when combined with wet conditions.</li>\n",
    "</ul>\n"
   ]
  },
  {
   "cell_type": "markdown",
   "metadata": {},
   "source": [
    "<h1>Question #7 Do different vehicle types have higher accident severity under specific road conditions?</h1>"
   ]
  },
  {
   "cell_type": "code",
   "execution_count": 37,
   "metadata": {},
   "outputs": [],
   "source": [
    "# accident_severity_on_VTs_onSpecific_RCs = eda_data.groupby(\n",
    "#     ['Vehicle_Type', 'Road_Surface_Conditions']\n",
    "#     )['Accident_Severity'].size().unstack()\n"
   ]
  },
  {
   "cell_type": "code",
   "execution_count": 38,
   "metadata": {},
   "outputs": [],
   "source": [
    "# accident_severity_on_VTs_onSpecific_RCs"
   ]
  },
  {
   "cell_type": "markdown",
   "metadata": {},
   "source": [
    "<h1><strong>Insights #28-32</strong> : Insights on Vehicle Types and Accident Severity Under Specific Road Conditions</h1>\n",
    "\n",
    "<ol>\n",
    "    <li><strong>Cars Have the Most Accidents Across All Road Conditions</strong>\n",
    "        <ul>\n",
    "            <li>337,311 accidents on dry roads and 140,764 on wet roads, the highest in all conditions.</li>\n",
    "            <li>This is expected due to their high volume on the road.</li>\n",
    "        </ul>\n",
    "    </li>\n",
    "    <li><strong>Motorcycles Are Highly Affected by Road Conditions</strong>\n",
    "        <ul>\n",
    "            <li>Motorcycles over 500cc: 7,233 accidents on wet roads, 689 on icy roads, the highest among motorcycles.</li>\n",
    "            <li>125cc and under: 4,192 accidents on wet roads, showing high vulnerability in slippery conditions.</li>\n",
    "            <li>Small motorcycles (50cc and under) also show significant risk on frost and ice (224 accidents).</li>\n",
    "        </ul>\n",
    "    </li>\n",
    "    <li><strong>Buses and Coaches See More Accidents on Dry and Wet Roads</strong>\n",
    "        <ul>\n",
    "            <li>17,604 accidents on dry roads, 7,355 on wet roads.</li>\n",
    "            <li>Higher accident numbers may be due to urban traffic congestion rather than severity.</li>\n",
    "        </ul>\n",
    "    </li>\n",
    "    <li><strong>Heavy Goods Vehicles (HGVs) Have More Accidents on Dry & Wet Roads</strong>\n",
    "        <ul>\n",
    "            <li>Goods 7.5t+ (11,690 dry, 4,988 wet) and Goods 3.5t-7.5t (4,136 dry, 1,739 wet) suggest braking distances and stability in slippery conditions are factors.</li>\n",
    "        </ul>\n",
    "    </li>\n",
    "    <li><strong>Floods and Ice Affect Larger Vehicles and Motorcycles</strong>\n",
    "        <ul>\n",
    "            <li>Motorcycles and HGVs show notable accident counts in frost/ice conditions, highlighting traction loss risks.</li>\n",
    "            <li>Floods are rare but still dangerous, with HGVs (49 cases) and motorcycles (14 cases) affected the most.</li>\n",
    "        </ul>\n",
    "    </li>\n",
    "</ol>\n",
    "\n",
    "<h2>Conclusion:</h2>\n",
    "<ul>\n",
    "    <li>Accident severity varies by vehicle type and road conditions.</li>\n",
    "    <li>Cars have the highest number of accidents, primarily due to their volume on the road.</li>\n",
    "    <li>Motorcycles are highly vulnerable to wet, icy, and snowy conditions.</li>\n",
    "    <li>Heavy goods vehicles and buses face braking and stability risks in wet and icy conditions.</li>\n",
    "    <li>Floods are relatively rare but still lead to accidents, especially for HGVs and motorcycles.</li>\n",
    "</ul>"
   ]
  },
  {
   "cell_type": "markdown",
   "metadata": {},
   "source": [
    "<h1><strong>Questions #8:</strong> How does accident severity change with weather and urban/rural areas?</h1>"
   ]
  },
  {
   "cell_type": "code",
   "execution_count": 39,
   "metadata": {},
   "outputs": [],
   "source": [
    "# accident_severity_on_WCs_onSpecific_Urban_or_Rural =  eda_data.groupby(['Weather_Conditions', 'Urban_or_Rural_Area'])['Accident_Severity'].size().unstack()\n"
   ]
  },
  {
   "cell_type": "code",
   "execution_count": 40,
   "metadata": {},
   "outputs": [],
   "source": [
    "# accident_severity_on_WCs_onSpecific_Urban_or_Rural"
   ]
  },
  {
   "cell_type": "markdown",
   "metadata": {},
   "source": [
    "<h1><strong>Insights #32- :</strong> Insights on Weather Conditions and Urban vs. Rural Accidents</h1>\n",
    "\n",
    "<ol>\n",
    "    <li><strong>Most Accidents Happen in Urban Areas, Regardless of Weather</strong>\n",
    "        <ul>\n",
    "            <li>339,076 accidents in urban areas under \"Fine no high winds\" conditions (highest overall).</li>\n",
    "            <li>Higher vehicle density and pedestrian activity contribute to more accidents.</li>\n",
    "        </ul>\n",
    "    </li>\n",
    "    <li><strong>Rural Areas Have More Accidents in Poor Weather Conditions</strong>\n",
    "        <ul>\n",
    "            <li><strong>Raining no high winds:</strong> 31,173 rural accidents vs. 48,517 urban.</li>\n",
    "            <li><strong>Fog or mist:</strong> 2,385 rural accidents vs. 1,143 urban.</li>\n",
    "            <li>Rural roads often have higher speeds, less lighting, and limited visibility, increasing risks.</li>\n",
    "        </ul>\n",
    "    </li>\n",
    "    <li><strong>High Winds Contribute to Rural Accidents</strong>\n",
    "        <ul>\n",
    "            <li><strong>Fine + high winds:</strong> 3,993 rural accidents vs. 4,560 urban.</li>\n",
    "            <li><strong>Raining + high winds:</strong> 4,723 rural accidents vs. 4,892 urban.</li>\n",
    "            <li>Strong winds can impact vehicle stability, especially for high-profile vehicles like trucks and motorcycles.</li>\n",
    "        </ul>\n",
    "    </li>\n",
    "    <li><strong>Snow-Related Accidents Are More Evenly Distributed</strong>\n",
    "        <ul>\n",
    "            <li><strong>Snowing no high winds:</strong> 3,050 rural vs. 3,188 urban.</li>\n",
    "            <li><strong>Snowing + high winds:</strong> 571 rural vs. 313 urban.</li>\n",
    "            <li>Suggests drivers in both areas take precautions or reduce travel during snow events.</li>\n",
    "        </ul>\n",
    "    </li>\n",
    "</ol>\n",
    "\n",
    "<h2>Conclusion:</h2>\n",
    "<ul>\n",
    "    <li>Urban areas experience more accidents overall, mainly due to traffic density.</li>\n",
    "    <li>Rural areas see higher accident numbers in foggy, windy, and rainy conditions.</li>\n",
    "    <li>High winds and snow impact rural and urban areas differently but contribute to accidents in both.</li>\n",
    "    <li>Weather alone doesn’t determine accident risk—road design, traffic flow, and driver behavior also play key roles.</li>\n",
    "</ul>\n"
   ]
  },
  {
   "cell_type": "code",
   "execution_count": null,
   "metadata": {},
   "outputs": [],
   "source": []
  },
  {
   "cell_type": "markdown",
   "metadata": {},
   "source": [
    "<h1><strong>Question #8: </strong>Does the number of vehicles involved correlate with accident severity?</h1>"
   ]
  },
  {
   "cell_type": "code",
   "execution_count": 41,
   "metadata": {},
   "outputs": [],
   "source": [
    "# corr_NoV_to_AS = eda_data['Number_of_Vehicles'].corr(eda_data['Accident_Severity'])"
   ]
  },
  {
   "cell_type": "code",
   "execution_count": 65,
   "metadata": {},
   "outputs": [],
   "source": [
    "# corr1 = eda_data['Number_of_Vehicles'].corr(eda_data['Accident_Severity'])"
   ]
  },
  {
   "cell_type": "code",
   "execution_count": 66,
   "metadata": {},
   "outputs": [],
   "source": [
    "copy_eda_data['Accident_Severity'] = copy_eda_data['Accident_Severity'].astype('category').cat.codes\n",
    "copy_eda_data['Weather_Conditions'] = copy_eda_data['Weather_Conditions'].astype('category').cat.codes\n",
    "copy_eda_data['Road_Surface_Conditions'] = copy_eda_data['Road_Surface_Conditions'].astype('category').cat.codes\n",
    "copy_eda_data['Light_Conditions'] = copy_eda_data['Light_Conditions'].astype('category').cat.codes\n",
    "copy_eda_data['Urban_or_Rural_Area'] = copy_eda_data['Urban_or_Rural_Area'].astype('category').cat.codes"
   ]
  },
  {
   "cell_type": "code",
   "execution_count": 67,
   "metadata": {},
   "outputs": [
    {
     "data": {
      "text/plain": [
       "array([1, 2, 0], dtype=int8)"
      ]
     },
     "execution_count": 67,
     "metadata": {},
     "output_type": "execute_result"
    }
   ],
   "source": [
    "copy_eda_data['Accident_Severity'].unique()"
   ]
  },
  {
   "cell_type": "code",
   "execution_count": 68,
   "metadata": {},
   "outputs": [],
   "source": [
    "corr1 = copy_eda_data['Number_of_Vehicles'].corr(copy_eda_data['Accident_Severity'])"
   ]
  },
  {
   "cell_type": "code",
   "execution_count": 69,
   "metadata": {},
   "outputs": [
    {
     "data": {
      "text/plain": [
       "0.0753240098281068"
      ]
     },
     "execution_count": 69,
     "metadata": {},
     "output_type": "execute_result"
    }
   ],
   "source": [
    "corr1"
   ]
  },
  {
   "cell_type": "code",
   "execution_count": 70,
   "metadata": {},
   "outputs": [],
   "source": [
    "columns_for_corr = [\n",
    "    'Number_of_Casualties',\n",
    "    'Number_of_Vehicles',\n",
    "    'Latitude',\n",
    "    'Longitude'\n",
    "]"
   ]
  },
  {
   "cell_type": "code",
   "execution_count": 71,
   "metadata": {},
   "outputs": [],
   "source": [
    "\n",
    "categorical_cols = ['Accident_Severity', 'Weather_Conditions', 'Road_Surface_Conditions', \n",
    "                    'Light_Conditions', 'Urban_or_Rural_Area', 'Vehicle_Type']\n",
    "forcorr = copy_eda_data[categorical_cols] = copy_eda_data[categorical_cols].apply(lambda x: x.astype('category').cat.codes)\n"
   ]
  },
  {
   "cell_type": "code",
   "execution_count": 72,
   "metadata": {},
   "outputs": [
    {
     "data": {
      "text/html": [
       "<div>\n",
       "<style scoped>\n",
       "    .dataframe tbody tr th:only-of-type {\n",
       "        vertical-align: middle;\n",
       "    }\n",
       "\n",
       "    .dataframe tbody tr th {\n",
       "        vertical-align: top;\n",
       "    }\n",
       "\n",
       "    .dataframe thead th {\n",
       "        text-align: right;\n",
       "    }\n",
       "</style>\n",
       "<table border=\"1\" class=\"dataframe\">\n",
       "  <thead>\n",
       "    <tr style=\"text-align: right;\">\n",
       "      <th></th>\n",
       "      <th>Accident_Severity</th>\n",
       "      <th>Weather_Conditions</th>\n",
       "      <th>Road_Surface_Conditions</th>\n",
       "      <th>Light_Conditions</th>\n",
       "      <th>Urban_or_Rural_Area</th>\n",
       "      <th>Vehicle_Type</th>\n",
       "    </tr>\n",
       "  </thead>\n",
       "  <tbody>\n",
       "    <tr>\n",
       "      <th>Accident_Severity</th>\n",
       "      <td>1.000000</td>\n",
       "      <td>0.020628</td>\n",
       "      <td>0.010850</td>\n",
       "      <td>0.032714</td>\n",
       "      <td>0.081280</td>\n",
       "      <td>-0.000414</td>\n",
       "    </tr>\n",
       "    <tr>\n",
       "      <th>Weather_Conditions</th>\n",
       "      <td>0.020628</td>\n",
       "      <td>1.000000</td>\n",
       "      <td>0.607044</td>\n",
       "      <td>-0.101776</td>\n",
       "      <td>-0.049710</td>\n",
       "      <td>0.000873</td>\n",
       "    </tr>\n",
       "    <tr>\n",
       "      <th>Road_Surface_Conditions</th>\n",
       "      <td>0.010850</td>\n",
       "      <td>0.607044</td>\n",
       "      <td>1.000000</td>\n",
       "      <td>-0.160788</td>\n",
       "      <td>-0.100880</td>\n",
       "      <td>-0.000681</td>\n",
       "    </tr>\n",
       "    <tr>\n",
       "      <th>Light_Conditions</th>\n",
       "      <td>0.032714</td>\n",
       "      <td>-0.101776</td>\n",
       "      <td>-0.160788</td>\n",
       "      <td>1.000000</td>\n",
       "      <td>-0.111955</td>\n",
       "      <td>-0.002791</td>\n",
       "    </tr>\n",
       "    <tr>\n",
       "      <th>Urban_or_Rural_Area</th>\n",
       "      <td>0.081280</td>\n",
       "      <td>-0.049710</td>\n",
       "      <td>-0.100880</td>\n",
       "      <td>-0.111955</td>\n",
       "      <td>1.000000</td>\n",
       "      <td>0.008643</td>\n",
       "    </tr>\n",
       "    <tr>\n",
       "      <th>Vehicle_Type</th>\n",
       "      <td>-0.000414</td>\n",
       "      <td>0.000873</td>\n",
       "      <td>-0.000681</td>\n",
       "      <td>-0.002791</td>\n",
       "      <td>0.008643</td>\n",
       "      <td>1.000000</td>\n",
       "    </tr>\n",
       "  </tbody>\n",
       "</table>\n",
       "</div>"
      ],
      "text/plain": [
       "                         Accident_Severity  Weather_Conditions  \\\n",
       "Accident_Severity                 1.000000            0.020628   \n",
       "Weather_Conditions                0.020628            1.000000   \n",
       "Road_Surface_Conditions           0.010850            0.607044   \n",
       "Light_Conditions                  0.032714           -0.101776   \n",
       "Urban_or_Rural_Area               0.081280           -0.049710   \n",
       "Vehicle_Type                     -0.000414            0.000873   \n",
       "\n",
       "                         Road_Surface_Conditions  Light_Conditions  \\\n",
       "Accident_Severity                       0.010850          0.032714   \n",
       "Weather_Conditions                      0.607044         -0.101776   \n",
       "Road_Surface_Conditions                 1.000000         -0.160788   \n",
       "Light_Conditions                       -0.160788          1.000000   \n",
       "Urban_or_Rural_Area                    -0.100880         -0.111955   \n",
       "Vehicle_Type                           -0.000681         -0.002791   \n",
       "\n",
       "                         Urban_or_Rural_Area  Vehicle_Type  \n",
       "Accident_Severity                   0.081280     -0.000414  \n",
       "Weather_Conditions                 -0.049710      0.000873  \n",
       "Road_Surface_Conditions            -0.100880     -0.000681  \n",
       "Light_Conditions                   -0.111955     -0.002791  \n",
       "Urban_or_Rural_Area                 1.000000      0.008643  \n",
       "Vehicle_Type                        0.008643      1.000000  "
      ]
     },
     "execution_count": 72,
     "metadata": {},
     "output_type": "execute_result"
    }
   ],
   "source": [
    "forcorr.corr()"
   ]
  },
  {
   "cell_type": "code",
   "execution_count": null,
   "metadata": {},
   "outputs": [],
   "source": []
  }
 ],
 "metadata": {
  "kernelspec": {
   "display_name": "Python 3",
   "language": "python",
   "name": "python3"
  },
  "language_info": {
   "codemirror_mode": {
    "name": "ipython",
    "version": 3
   },
   "file_extension": ".py",
   "mimetype": "text/x-python",
   "name": "python",
   "nbconvert_exporter": "python",
   "pygments_lexer": "ipython3",
   "version": "3.11.4"
  }
 },
 "nbformat": 4,
 "nbformat_minor": 2
}
